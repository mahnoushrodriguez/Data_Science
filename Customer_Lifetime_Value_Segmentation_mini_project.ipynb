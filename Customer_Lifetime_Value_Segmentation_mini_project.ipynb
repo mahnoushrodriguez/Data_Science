{
 "cells": [
  {
   "cell_type": "markdown",
   "metadata": {},
   "source": [
    "# Customer Lifetime Value & Segmentation for ecommerce"
   ]
  },
  {
   "cell_type": "markdown",
   "metadata": {},
   "source": [
    "Data source: [UC Irvine Machine Learning Repository](https://archive.ics.uci.edu/ml/datasets/Online+Retail).<br/>\n",
    "[Lifetimes](https://lifetimes.readthedocs.io/en/latest/index.html) package by Cameron Davidson-Pilon is used to create the CLV model.\n",
    "\n",
    "#### Project description:\n",
    "Calculate customer lifetime value (CLV) in a non-contractual setting (ecommerce) and segment the customers based on the findings."
   ]
  },
  {
   "cell_type": "markdown",
   "metadata": {},
   "source": [
    "#### Content\n",
    "1. Importing required libraries\n",
    "2. Data loading & preperation\n",
    "3. Using BG/NBD Model to predict the number of orders\n",
    "\t1. Calculating RFM metrics\n",
    "\t2. Fitting the BG/NBD model without Train_Test Split\n",
    "\t\t1. Recency Frequecy Matrix\n",
    "\t\t2. Probability Alive Matrix\n",
    "\t\t3. Customer Ranking\n",
    "\t3. Fitting the BG/NBD model with Train_Test Split\n",
    "\t\t1. Customer Purchase Predictions\n",
    "\t\t2. Model tuning\n",
    "\t4. Customer Probability History\n",
    "4. Estimating Customer Lifetime Value (CLV)\n",
    "\t1. Gamma-Gamma model to predict customers monetary values\n",
    "\t\t1. Preparing data\n",
    "\t\t2. Fitting Gamma-Gamma model\n",
    "\t\t3. Predicting Average Order Value per customer (AOV)\n",
    "\t2. Predicting expected number of orders per customer using BG/NBD\n",
    "\t3. Predicting CLV per customer using gamma-gamma model\n",
    "5. Segmenting repeat customers based on CLV\n",
    "\t1. Bucket Segmentation\n",
    "\t\t1. Segmentation using quantiles\n",
    "\t\t2. Segmentation using custom bins\n",
    "\t2. K-means customer segmentation"
   ]
  },
  {
   "cell_type": "markdown",
   "metadata": {},
   "source": [
    "### 1. Importing required libraries"
   ]
  },
  {
   "cell_type": "code",
   "execution_count": 1,
   "metadata": {},
   "outputs": [],
   "source": [
    "import pandas as pd\n",
    "import numpy as np\n",
    "import seaborn as sns\n",
    "import matplotlib.pyplot as plt\n",
    "from sklearn.cluster import KMeans\n",
    "\n",
    "from lifetimes import BetaGeoFitter\n",
    "from lifetimes.utils import calibration_and_holdout_data\n",
    "from lifetimes.utils import summary_data_from_transaction_data\n",
    "from lifetimes.plotting import plot_frequency_recency_matrix\n",
    "from lifetimes.plotting import plot_probability_alive_matrix\n",
    "from lifetimes.plotting import plot_period_transactions\n",
    "from lifetimes.plotting import plot_history_alive\n",
    "from lifetimes.plotting import plot_calibration_purchases_vs_holdout_purchases\n",
    "from lifetimes import GammaGammaFitter\n",
    "\n",
    "import gc # to garbage collect\n",
    "import warnings\n",
    "warnings.filterwarnings(\"ignore\")"
   ]
  },
  {
   "cell_type": "code",
   "execution_count": 2,
   "metadata": {},
   "outputs": [],
   "source": [
    "# visualiztion settings\n",
    "plt.style.use('ggplot')\n",
    "sns.set_context('notebook')"
   ]
  },
  {
   "cell_type": "markdown",
   "metadata": {},
   "source": [
    "### 2. Data loading & preperation"
   ]
  },
  {
   "cell_type": "code",
   "execution_count": 3,
   "metadata": {},
   "outputs": [
    {
     "data": {
      "text/html": [
       "<div>\n",
       "<style scoped>\n",
       "    .dataframe tbody tr th:only-of-type {\n",
       "        vertical-align: middle;\n",
       "    }\n",
       "\n",
       "    .dataframe tbody tr th {\n",
       "        vertical-align: top;\n",
       "    }\n",
       "\n",
       "    .dataframe thead th {\n",
       "        text-align: right;\n",
       "    }\n",
       "</style>\n",
       "<table border=\"1\" class=\"dataframe\">\n",
       "  <thead>\n",
       "    <tr style=\"text-align: right;\">\n",
       "      <th></th>\n",
       "      <th>InvoiceNo</th>\n",
       "      <th>StockCode</th>\n",
       "      <th>Description</th>\n",
       "      <th>Quantity</th>\n",
       "      <th>InvoiceDate</th>\n",
       "      <th>UnitPrice</th>\n",
       "      <th>CustomerID</th>\n",
       "      <th>Country</th>\n",
       "    </tr>\n",
       "  </thead>\n",
       "  <tbody>\n",
       "    <tr>\n",
       "      <th>0</th>\n",
       "      <td>536365</td>\n",
       "      <td>85123A</td>\n",
       "      <td>WHITE HANGING HEART T-LIGHT HOLDER</td>\n",
       "      <td>6</td>\n",
       "      <td>12/1/2010 8:26</td>\n",
       "      <td>2.55</td>\n",
       "      <td>17850.0</td>\n",
       "      <td>United Kingdom</td>\n",
       "    </tr>\n",
       "    <tr>\n",
       "      <th>1</th>\n",
       "      <td>536365</td>\n",
       "      <td>71053</td>\n",
       "      <td>WHITE METAL LANTERN</td>\n",
       "      <td>6</td>\n",
       "      <td>12/1/2010 8:26</td>\n",
       "      <td>3.39</td>\n",
       "      <td>17850.0</td>\n",
       "      <td>United Kingdom</td>\n",
       "    </tr>\n",
       "    <tr>\n",
       "      <th>2</th>\n",
       "      <td>536365</td>\n",
       "      <td>84406B</td>\n",
       "      <td>CREAM CUPID HEARTS COAT HANGER</td>\n",
       "      <td>8</td>\n",
       "      <td>12/1/2010 8:26</td>\n",
       "      <td>2.75</td>\n",
       "      <td>17850.0</td>\n",
       "      <td>United Kingdom</td>\n",
       "    </tr>\n",
       "    <tr>\n",
       "      <th>3</th>\n",
       "      <td>536365</td>\n",
       "      <td>84029G</td>\n",
       "      <td>KNITTED UNION FLAG HOT WATER BOTTLE</td>\n",
       "      <td>6</td>\n",
       "      <td>12/1/2010 8:26</td>\n",
       "      <td>3.39</td>\n",
       "      <td>17850.0</td>\n",
       "      <td>United Kingdom</td>\n",
       "    </tr>\n",
       "    <tr>\n",
       "      <th>4</th>\n",
       "      <td>536365</td>\n",
       "      <td>84029E</td>\n",
       "      <td>RED WOOLLY HOTTIE WHITE HEART.</td>\n",
       "      <td>6</td>\n",
       "      <td>12/1/2010 8:26</td>\n",
       "      <td>3.39</td>\n",
       "      <td>17850.0</td>\n",
       "      <td>United Kingdom</td>\n",
       "    </tr>\n",
       "  </tbody>\n",
       "</table>\n",
       "</div>"
      ],
      "text/plain": [
       "  InvoiceNo StockCode                          Description  Quantity  \\\n",
       "0    536365    85123A   WHITE HANGING HEART T-LIGHT HOLDER         6   \n",
       "1    536365     71053                  WHITE METAL LANTERN         6   \n",
       "2    536365    84406B       CREAM CUPID HEARTS COAT HANGER         8   \n",
       "3    536365    84029G  KNITTED UNION FLAG HOT WATER BOTTLE         6   \n",
       "4    536365    84029E       RED WOOLLY HOTTIE WHITE HEART.         6   \n",
       "\n",
       "      InvoiceDate  UnitPrice  CustomerID         Country  \n",
       "0  12/1/2010 8:26       2.55     17850.0  United Kingdom  \n",
       "1  12/1/2010 8:26       3.39     17850.0  United Kingdom  \n",
       "2  12/1/2010 8:26       2.75     17850.0  United Kingdom  \n",
       "3  12/1/2010 8:26       3.39     17850.0  United Kingdom  \n",
       "4  12/1/2010 8:26       3.39     17850.0  United Kingdom  "
      ]
     },
     "execution_count": 3,
     "metadata": {},
     "output_type": "execute_result"
    }
   ],
   "source": [
    "# loading the data\n",
    "url = r'.\\Online_Retail_Data_Set-UCI_repo.csv'\n",
    "df_raw = pd.read_csv(url)\n",
    "df_raw.head()"
   ]
  },
  {
   "cell_type": "code",
   "execution_count": 4,
   "metadata": {},
   "outputs": [
    {
     "data": {
      "text/html": [
       "<div>\n",
       "<style scoped>\n",
       "    .dataframe tbody tr th:only-of-type {\n",
       "        vertical-align: middle;\n",
       "    }\n",
       "\n",
       "    .dataframe tbody tr th {\n",
       "        vertical-align: top;\n",
       "    }\n",
       "\n",
       "    .dataframe thead th {\n",
       "        text-align: right;\n",
       "    }\n",
       "</style>\n",
       "<table border=\"1\" class=\"dataframe\">\n",
       "  <thead>\n",
       "    <tr style=\"text-align: right;\">\n",
       "      <th></th>\n",
       "      <th>InvoiceNo</th>\n",
       "      <th>StockCode</th>\n",
       "      <th>Description</th>\n",
       "      <th>Quantity</th>\n",
       "      <th>InvoiceDate</th>\n",
       "      <th>UnitPrice</th>\n",
       "      <th>CustomerID</th>\n",
       "      <th>Country</th>\n",
       "      <th>value</th>\n",
       "    </tr>\n",
       "  </thead>\n",
       "  <tbody>\n",
       "    <tr>\n",
       "      <th>0</th>\n",
       "      <td>536365</td>\n",
       "      <td>85123A</td>\n",
       "      <td>WHITE HANGING HEART T-LIGHT HOLDER</td>\n",
       "      <td>6</td>\n",
       "      <td>12/1/2010 8:26</td>\n",
       "      <td>2.55</td>\n",
       "      <td>17850.0</td>\n",
       "      <td>United Kingdom</td>\n",
       "      <td>15.30</td>\n",
       "    </tr>\n",
       "    <tr>\n",
       "      <th>1</th>\n",
       "      <td>536365</td>\n",
       "      <td>71053</td>\n",
       "      <td>WHITE METAL LANTERN</td>\n",
       "      <td>6</td>\n",
       "      <td>12/1/2010 8:26</td>\n",
       "      <td>3.39</td>\n",
       "      <td>17850.0</td>\n",
       "      <td>United Kingdom</td>\n",
       "      <td>20.34</td>\n",
       "    </tr>\n",
       "    <tr>\n",
       "      <th>2</th>\n",
       "      <td>536365</td>\n",
       "      <td>84406B</td>\n",
       "      <td>CREAM CUPID HEARTS COAT HANGER</td>\n",
       "      <td>8</td>\n",
       "      <td>12/1/2010 8:26</td>\n",
       "      <td>2.75</td>\n",
       "      <td>17850.0</td>\n",
       "      <td>United Kingdom</td>\n",
       "      <td>22.00</td>\n",
       "    </tr>\n",
       "    <tr>\n",
       "      <th>3</th>\n",
       "      <td>536365</td>\n",
       "      <td>84029G</td>\n",
       "      <td>KNITTED UNION FLAG HOT WATER BOTTLE</td>\n",
       "      <td>6</td>\n",
       "      <td>12/1/2010 8:26</td>\n",
       "      <td>3.39</td>\n",
       "      <td>17850.0</td>\n",
       "      <td>United Kingdom</td>\n",
       "      <td>20.34</td>\n",
       "    </tr>\n",
       "    <tr>\n",
       "      <th>4</th>\n",
       "      <td>536365</td>\n",
       "      <td>84029E</td>\n",
       "      <td>RED WOOLLY HOTTIE WHITE HEART.</td>\n",
       "      <td>6</td>\n",
       "      <td>12/1/2010 8:26</td>\n",
       "      <td>3.39</td>\n",
       "      <td>17850.0</td>\n",
       "      <td>United Kingdom</td>\n",
       "      <td>20.34</td>\n",
       "    </tr>\n",
       "  </tbody>\n",
       "</table>\n",
       "</div>"
      ],
      "text/plain": [
       "  InvoiceNo StockCode                          Description  Quantity  \\\n",
       "0    536365    85123A   WHITE HANGING HEART T-LIGHT HOLDER         6   \n",
       "1    536365     71053                  WHITE METAL LANTERN         6   \n",
       "2    536365    84406B       CREAM CUPID HEARTS COAT HANGER         8   \n",
       "3    536365    84029G  KNITTED UNION FLAG HOT WATER BOTTLE         6   \n",
       "4    536365    84029E       RED WOOLLY HOTTIE WHITE HEART.         6   \n",
       "\n",
       "      InvoiceDate  UnitPrice  CustomerID         Country  value  \n",
       "0  12/1/2010 8:26       2.55     17850.0  United Kingdom  15.30  \n",
       "1  12/1/2010 8:26       3.39     17850.0  United Kingdom  20.34  \n",
       "2  12/1/2010 8:26       2.75     17850.0  United Kingdom  22.00  \n",
       "3  12/1/2010 8:26       3.39     17850.0  United Kingdom  20.34  \n",
       "4  12/1/2010 8:26       3.39     17850.0  United Kingdom  20.34  "
      ]
     },
     "execution_count": 4,
     "metadata": {},
     "output_type": "execute_result"
    }
   ],
   "source": [
    "# creating the value column\n",
    "df_raw['value'] = df_raw.Quantity.mul(df_raw.UnitPrice)\n",
    "df_raw.head()"
   ]
  },
  {
   "cell_type": "code",
   "execution_count": 5,
   "metadata": {},
   "outputs": [
    {
     "data": {
      "text/html": [
       "<div>\n",
       "<style scoped>\n",
       "    .dataframe tbody tr th:only-of-type {\n",
       "        vertical-align: middle;\n",
       "    }\n",
       "\n",
       "    .dataframe tbody tr th {\n",
       "        vertical-align: top;\n",
       "    }\n",
       "\n",
       "    .dataframe thead th {\n",
       "        text-align: right;\n",
       "    }\n",
       "</style>\n",
       "<table border=\"1\" class=\"dataframe\">\n",
       "  <thead>\n",
       "    <tr style=\"text-align: right;\">\n",
       "      <th></th>\n",
       "      <th>order_date</th>\n",
       "      <th>customer_id</th>\n",
       "      <th>value</th>\n",
       "    </tr>\n",
       "  </thead>\n",
       "  <tbody>\n",
       "    <tr>\n",
       "      <th>0</th>\n",
       "      <td>12/1/2010 8:26</td>\n",
       "      <td>17850.0</td>\n",
       "      <td>15.30</td>\n",
       "    </tr>\n",
       "    <tr>\n",
       "      <th>1</th>\n",
       "      <td>12/1/2010 8:26</td>\n",
       "      <td>17850.0</td>\n",
       "      <td>20.34</td>\n",
       "    </tr>\n",
       "    <tr>\n",
       "      <th>2</th>\n",
       "      <td>12/1/2010 8:26</td>\n",
       "      <td>17850.0</td>\n",
       "      <td>22.00</td>\n",
       "    </tr>\n",
       "    <tr>\n",
       "      <th>3</th>\n",
       "      <td>12/1/2010 8:26</td>\n",
       "      <td>17850.0</td>\n",
       "      <td>20.34</td>\n",
       "    </tr>\n",
       "    <tr>\n",
       "      <th>4</th>\n",
       "      <td>12/1/2010 8:26</td>\n",
       "      <td>17850.0</td>\n",
       "      <td>20.34</td>\n",
       "    </tr>\n",
       "  </tbody>\n",
       "</table>\n",
       "</div>"
      ],
      "text/plain": [
       "       order_date  customer_id  value\n",
       "0  12/1/2010 8:26      17850.0  15.30\n",
       "1  12/1/2010 8:26      17850.0  20.34\n",
       "2  12/1/2010 8:26      17850.0  22.00\n",
       "3  12/1/2010 8:26      17850.0  20.34\n",
       "4  12/1/2010 8:26      17850.0  20.34"
      ]
     },
     "execution_count": 5,
     "metadata": {},
     "output_type": "execute_result"
    }
   ],
   "source": [
    "# renaming the columns\n",
    "df = df_raw.loc[:, ['InvoiceDate', 'CustomerID', 'value']].rename(columns={'InvoiceDate': 'order_date','CustomerID': 'customer_id'})\n",
    "df.head()"
   ]
  },
  {
   "cell_type": "code",
   "execution_count": 6,
   "metadata": {},
   "outputs": [
    {
     "data": {
      "text/plain": [
       "48"
      ]
     },
     "execution_count": 6,
     "metadata": {},
     "output_type": "execute_result"
    }
   ],
   "source": [
    "del df_raw\n",
    "gc.collect()"
   ]
  },
  {
   "cell_type": "markdown",
   "metadata": {},
   "source": [
    "##### Data Preperation"
   ]
  },
  {
   "cell_type": "code",
   "execution_count": 7,
   "metadata": {},
   "outputs": [
    {
     "name": "stdout",
     "output_type": "stream",
     "text": [
      "<class 'pandas.core.frame.DataFrame'>\n",
      "RangeIndex: 541909 entries, 0 to 541908\n",
      "Data columns (total 3 columns):\n",
      " #   Column       Non-Null Count   Dtype  \n",
      "---  ------       --------------   -----  \n",
      " 0   order_date   541909 non-null  object \n",
      " 1   customer_id  406829 non-null  float64\n",
      " 2   value        541909 non-null  float64\n",
      "dtypes: float64(2), object(1)\n",
      "memory usage: 45.5 MB\n"
     ]
    }
   ],
   "source": [
    "df.info(memory_usage='deep')"
   ]
  },
  {
   "cell_type": "code",
   "execution_count": 8,
   "metadata": {},
   "outputs": [
    {
     "data": {
      "text/plain": [
       "24.93"
      ]
     },
     "execution_count": 8,
     "metadata": {},
     "output_type": "execute_result"
    }
   ],
   "source": [
    "# calculating the percentage of missing values\n",
    "round(df.customer_id.isna().sum()/len(df) * 100, 2)"
   ]
  },
  {
   "cell_type": "code",
   "execution_count": 9,
   "metadata": {},
   "outputs": [
    {
     "name": "stdout",
     "output_type": "stream",
     "text": [
      "<class 'pandas.core.frame.DataFrame'>\n",
      "Int64Index: 406829 entries, 0 to 541908\n",
      "Data columns (total 3 columns):\n",
      " #   Column       Non-Null Count   Dtype         \n",
      "---  ------       --------------   -----         \n",
      " 0   order_date   406829 non-null  datetime64[ns]\n",
      " 1   customer_id  406829 non-null  float32       \n",
      " 2   value        406829 non-null  float32       \n",
      "dtypes: datetime64[ns](1), float32(2)\n",
      "memory usage: 9.3 MB\n"
     ]
    }
   ],
   "source": [
    "# dropping rows with missing customer_id -> since it is id, we won't impute\n",
    "df = df.loc[df.customer_id.notna()]\n",
    "\n",
    "# downcasting the numbers to reduce the file size\n",
    "df[['value', 'customer_id']] = df[['value', 'customer_id']].apply(pd.to_numeric, downcast='float')\n",
    "df['order_date'] = df.order_date.astype('datetime64[ns]')\n",
    "\n",
    "df.info(memory_usage='deep')"
   ]
  },
  {
   "cell_type": "markdown",
   "metadata": {},
   "source": [
    "### 3. Using BG/NBD Model to predict number of orders"
   ]
  },
  {
   "cell_type": "markdown",
   "metadata": {},
   "source": [
    "#### 3.1. Calculating RFM metrics\n",
    "Calculating recency, frequency, and monetary metrics:<be/>\n",
    "We use built-in lifetimes function lifetimes.utils.summary_data_from_transaction_data() that returns recency, frequency, monetary and age (T) metrics for our dataframe.<be/>\n",
    "However, if we are dealing with a large dataset, we can use alternative methods to calculate these metrics and utilize a distributed computing engine."
   ]
  },
  {
   "cell_type": "code",
   "execution_count": 10,
   "metadata": {},
   "outputs": [
    {
     "data": {
      "text/html": [
       "<div>\n",
       "<style scoped>\n",
       "    .dataframe tbody tr th:only-of-type {\n",
       "        vertical-align: middle;\n",
       "    }\n",
       "\n",
       "    .dataframe tbody tr th {\n",
       "        vertical-align: top;\n",
       "    }\n",
       "\n",
       "    .dataframe thead th {\n",
       "        text-align: right;\n",
       "    }\n",
       "</style>\n",
       "<table border=\"1\" class=\"dataframe\">\n",
       "  <thead>\n",
       "    <tr style=\"text-align: right;\">\n",
       "      <th></th>\n",
       "      <th>frequency</th>\n",
       "      <th>recency</th>\n",
       "      <th>T</th>\n",
       "      <th>monetary_value</th>\n",
       "    </tr>\n",
       "    <tr>\n",
       "      <th>customer_id</th>\n",
       "      <th></th>\n",
       "      <th></th>\n",
       "      <th></th>\n",
       "      <th></th>\n",
       "    </tr>\n",
       "  </thead>\n",
       "  <tbody>\n",
       "    <tr>\n",
       "      <th>12346.0</th>\n",
       "      <td>0.0</td>\n",
       "      <td>0.0</td>\n",
       "      <td>325.0</td>\n",
       "      <td>0.00000</td>\n",
       "    </tr>\n",
       "    <tr>\n",
       "      <th>12347.0</th>\n",
       "      <td>6.0</td>\n",
       "      <td>365.0</td>\n",
       "      <td>367.0</td>\n",
       "      <td>599.70166</td>\n",
       "    </tr>\n",
       "    <tr>\n",
       "      <th>12348.0</th>\n",
       "      <td>3.0</td>\n",
       "      <td>283.0</td>\n",
       "      <td>358.0</td>\n",
       "      <td>301.47998</td>\n",
       "    </tr>\n",
       "    <tr>\n",
       "      <th>12349.0</th>\n",
       "      <td>0.0</td>\n",
       "      <td>0.0</td>\n",
       "      <td>18.0</td>\n",
       "      <td>0.00000</td>\n",
       "    </tr>\n",
       "    <tr>\n",
       "      <th>12350.0</th>\n",
       "      <td>0.0</td>\n",
       "      <td>0.0</td>\n",
       "      <td>310.0</td>\n",
       "      <td>0.00000</td>\n",
       "    </tr>\n",
       "  </tbody>\n",
       "</table>\n",
       "</div>"
      ],
      "text/plain": [
       "             frequency  recency      T  monetary_value\n",
       "customer_id                                           \n",
       "12346.0            0.0      0.0  325.0         0.00000\n",
       "12347.0            6.0    365.0  367.0       599.70166\n",
       "12348.0            3.0    283.0  358.0       301.47998\n",
       "12349.0            0.0      0.0   18.0         0.00000\n",
       "12350.0            0.0      0.0  310.0         0.00000"
      ]
     },
     "execution_count": 10,
     "metadata": {},
     "output_type": "execute_result"
    }
   ],
   "source": [
    "# repeat customers are those who purchase again in a differnet date from the first order\n",
    "\n",
    "df_rfm = summary_data_from_transaction_data(df, customer_id_col='customer_id', datetime_col='order_date', monetary_value_col='value')\n",
    "df_rfm.head()"
   ]
  },
  {
   "cell_type": "markdown",
   "metadata": {},
   "source": [
    "Recency is the age of customer when they placed their most recent order in the dataset.<br/>\n",
    "So if they have placed only one order, then their recency would be 0.<br/>\n",
    "It is common in ecommerce for the bulk of customers to place only 1 order."
   ]
  },
  {
   "cell_type": "code",
   "execution_count": 11,
   "metadata": {},
   "outputs": [
    {
     "data": {
      "image/png": "[encoded data removed]",
      "text/plain": [
       "<Figure size 432x288 with 1 Axes>"
      ]
     },
     "metadata": {},
     "output_type": "display_data"
    }
   ],
   "source": [
    "# The data is skewed to the right indicating the majority of customers placed only 1 order.\n",
    "\n",
    "plt.figure(figsize=(6, 4), constrained_layout=True)\n",
    "sns.histplot(df_rfm.recency)\n",
    "\n",
    "plt.show()"
   ]
  },
  {
   "cell_type": "code",
   "execution_count": 12,
   "metadata": {},
   "outputs": [
    {
     "data": {
      "image/png": "[encoded data removed]",
      "text/plain": [
       "<Figure size 864x288 with 1 Axes>"
      ]
     },
     "metadata": {},
     "output_type": "display_data"
    }
   ],
   "source": [
    "# the frequency of orders are also skewed, however, we have a few outliers with the requency over 100\n",
    "plt.figure(figsize=(12, 4), constrained_layout=True)\n",
    "sns.histplot(df_rfm.frequency, kde=True)\n",
    "\n",
    "plt.show()"
   ]
  },
  {
   "cell_type": "markdown",
   "metadata": {},
   "source": [
    "Age: the number of days between the FIRST purchase and the dataset last date.<br/>\n",
    "The age distribution shows a decline among newer customers.\n",
    "The peaks and troughs in the left side of the graph may indicate some sort of seasonality."
   ]
  },
  {
   "cell_type": "code",
   "execution_count": 13,
   "metadata": {},
   "outputs": [
    {
     "data": {
      "image/png": "[encoded data removed]",
      "text/plain": [
       "<Figure size 432x288 with 1 Axes>"
      ]
     },
     "metadata": {},
     "output_type": "display_data"
    }
   ],
   "source": [
    "# plotting the Age distribution\n",
    "sns.histplot(df_rfm['T'], kde=True)\n",
    "plt.show()"
   ]
  },
  {
   "cell_type": "markdown",
   "metadata": {},
   "source": [
    "#### 3.2 Fitting the BG/NBD model without Train_Test Split"
   ]
  },
  {
   "cell_type": "markdown",
   "metadata": {},
   "source": [
    "Geometric/Negative Binomial Distribution (BG/NBD) model is derived from Pareto/NBD model for CLV.\n",
    "\n",
    "Model assumptions:\n",
    "\n",
    "- Each individual, i, has a hidden lambda_i and p_i parameter\n",
    "- These come from a population wide Gamma and a Beta distribution respectively\n",
    "- Individuals purchases follow a Poisson process with rate lambda_i*t\n",
    "- After each purchase, an individual has a p_i probability of dying (never buying again)"
   ]
  },
  {
   "cell_type": "code",
   "execution_count": 14,
   "metadata": {},
   "outputs": [
    {
     "data": {
      "text/html": [
       "<div>\n",
       "<style scoped>\n",
       "    .dataframe tbody tr th:only-of-type {\n",
       "        vertical-align: middle;\n",
       "    }\n",
       "\n",
       "    .dataframe tbody tr th {\n",
       "        vertical-align: top;\n",
       "    }\n",
       "\n",
       "    .dataframe thead th {\n",
       "        text-align: right;\n",
       "    }\n",
       "</style>\n",
       "<table border=\"1\" class=\"dataframe\">\n",
       "  <thead>\n",
       "    <tr style=\"text-align: right;\">\n",
       "      <th></th>\n",
       "      <th>coef</th>\n",
       "      <th>se(coef)</th>\n",
       "      <th>lower 95% bound</th>\n",
       "      <th>upper 95% bound</th>\n",
       "    </tr>\n",
       "  </thead>\n",
       "  <tbody>\n",
       "    <tr>\n",
       "      <th>r</th>\n",
       "      <td>0.843025</td>\n",
       "      <td>0.026206</td>\n",
       "      <td>0.791661</td>\n",
       "      <td>0.894389</td>\n",
       "    </tr>\n",
       "    <tr>\n",
       "      <th>alpha</th>\n",
       "      <td>55.619383</td>\n",
       "      <td>2.088118</td>\n",
       "      <td>51.526671</td>\n",
       "      <td>59.712095</td>\n",
       "    </tr>\n",
       "    <tr>\n",
       "      <th>a</th>\n",
       "      <td>0.021519</td>\n",
       "      <td>0.006381</td>\n",
       "      <td>0.009012</td>\n",
       "      <td>0.034026</td>\n",
       "    </tr>\n",
       "    <tr>\n",
       "      <th>b</th>\n",
       "      <td>0.488673</td>\n",
       "      <td>0.176970</td>\n",
       "      <td>0.141812</td>\n",
       "      <td>0.835534</td>\n",
       "    </tr>\n",
       "  </tbody>\n",
       "</table>\n",
       "</div>"
      ],
      "text/plain": [
       "            coef  se(coef)  lower 95% bound  upper 95% bound\n",
       "r       0.843025  0.026206         0.791661         0.894389\n",
       "alpha  55.619383  2.088118        51.526671        59.712095\n",
       "a       0.021519  0.006381         0.009012         0.034026\n",
       "b       0.488673  0.176970         0.141812         0.835534"
      ]
     },
     "execution_count": 14,
     "metadata": {},
     "output_type": "execute_result"
    }
   ],
   "source": [
    "# Fitting the BG/NBD model\n",
    "# Eestimating model parameters (r, alpha, a and b) allows us to predict the expected number of transactions for users.\n",
    "\n",
    "bgf = BetaGeoFitter(penalizer_coef=0) # penalizer_coef: The coefficient applied to an l2 norm on the parameters\n",
    "bgf.fit(df_rfm['frequency'], df_rfm['recency'], df_rfm['T'])\n",
    "\n",
    "# se(coef): standard error, and confidence intervals\n",
    "bgf_summary_wo_split = bgf.summary\n",
    "bgf.summary"
   ]
  },
  {
   "cell_type": "markdown",
   "metadata": {},
   "source": [
    "##### Recency Frequecy Matrix"
   ]
  },
  {
   "cell_type": "markdown",
   "metadata": {},
   "source": [
    "Plotting expected transactions in T next units of time by a customer’s frequency (the number of repeat transactions by customer) and recency(age at last purchase)."
   ]
  },
  {
   "cell_type": "code",
   "execution_count": 15,
   "metadata": {},
   "outputs": [
    {
     "data": {
      "image/png": "[encoded data removed]",
      "text/plain": [
       "<Figure size 432x432 with 2 Axes>"
      ]
     },
     "metadata": {},
     "output_type": "display_data"
    }
   ],
   "source": [
    "# The plot shows the most attractive segment of customers are those in the bottm right, meaning those with the recency of over 350 days ago and the frequncy of over 100\n",
    "\n",
    "plt.figure(figsize=(6, 6), constrained_layout=True)\n",
    "plot_frequency_recency_matrix(bgf)\n",
    "plt.show()"
   ]
  },
  {
   "cell_type": "markdown",
   "metadata": {},
   "source": [
    "##### Probability Alive Matrix"
   ]
  },
  {
   "cell_type": "markdown",
   "metadata": {},
   "source": [
    "The probability plot shows us that as the recency and frequency increase, the chances of a customer to return grows.<br/>\n",
    "So using startegies like email marketing or prmotional offers for these customers is more likely to result in a purchase"
   ]
  },
  {
   "cell_type": "code",
   "execution_count": 16,
   "metadata": {},
   "outputs": [
    {
     "data": {
      "image/png": "[encoded data removed]",
      "text/plain": [
       "<Figure size 432x432 with 2 Axes>"
      ]
     },
     "metadata": {},
     "output_type": "display_data"
    }
   ],
   "source": [
    "plt.figure(figsize=(6, 6), constrained_layout=True)\n",
    "plot_probability_alive_matrix(bgf)\n",
    "plt.show()"
   ]
  },
  {
   "cell_type": "markdown",
   "metadata": {},
   "source": [
    "##### Customer Ranking"
   ]
  },
  {
   "cell_type": "markdown",
   "metadata": {},
   "source": [
    "Predicted_purchases column calculates an estimate for the number of orders each customer in the dataset will make during the given time period<br/>\n",
    "NOTE: At the customer individual level, the model can have a high variability, however, it can be used as a benchmark to select customers with higher monetary_value & predicted_purchases for e.g. promotional offers and customer retention campaigns"
   ]
  },
  {
   "cell_type": "code",
   "execution_count": 17,
   "metadata": {},
   "outputs": [
    {
     "data": {
      "text/html": [
       "<div>\n",
       "<style scoped>\n",
       "    .dataframe tbody tr th:only-of-type {\n",
       "        vertical-align: middle;\n",
       "    }\n",
       "\n",
       "    .dataframe tbody tr th {\n",
       "        vertical-align: top;\n",
       "    }\n",
       "\n",
       "    .dataframe thead th {\n",
       "        text-align: right;\n",
       "    }\n",
       "</style>\n",
       "<table border=\"1\" class=\"dataframe\">\n",
       "  <thead>\n",
       "    <tr style=\"text-align: right;\">\n",
       "      <th></th>\n",
       "      <th>frequency</th>\n",
       "      <th>recency</th>\n",
       "      <th>T</th>\n",
       "      <th>monetary_value</th>\n",
       "      <th>predicted_purchases</th>\n",
       "    </tr>\n",
       "    <tr>\n",
       "      <th>customer_id</th>\n",
       "      <th></th>\n",
       "      <th></th>\n",
       "      <th></th>\n",
       "      <th></th>\n",
       "      <th></th>\n",
       "    </tr>\n",
       "  </thead>\n",
       "  <tbody>\n",
       "    <tr>\n",
       "      <th>14911.0</th>\n",
       "      <td>145.0</td>\n",
       "      <td>372.0</td>\n",
       "      <td>373.0</td>\n",
       "      <td>910.463745</td>\n",
       "      <td>30.551950</td>\n",
       "    </tr>\n",
       "    <tr>\n",
       "      <th>12748.0</th>\n",
       "      <td>114.0</td>\n",
       "      <td>373.0</td>\n",
       "      <td>373.0</td>\n",
       "      <td>254.975006</td>\n",
       "      <td>24.058267</td>\n",
       "    </tr>\n",
       "    <tr>\n",
       "      <th>17841.0</th>\n",
       "      <td>112.0</td>\n",
       "      <td>372.0</td>\n",
       "      <td>373.0</td>\n",
       "      <td>355.421417</td>\n",
       "      <td>23.637824</td>\n",
       "    </tr>\n",
       "    <tr>\n",
       "      <th>15311.0</th>\n",
       "      <td>90.0</td>\n",
       "      <td>373.0</td>\n",
       "      <td>373.0</td>\n",
       "      <td>655.266785</td>\n",
       "      <td>19.029464</td>\n",
       "    </tr>\n",
       "    <tr>\n",
       "      <th>14606.0</th>\n",
       "      <td>88.0</td>\n",
       "      <td>372.0</td>\n",
       "      <td>373.0</td>\n",
       "      <td>130.858292</td>\n",
       "      <td>18.609342</td>\n",
       "    </tr>\n",
       "  </tbody>\n",
       "</table>\n",
       "</div>"
      ],
      "text/plain": [
       "             frequency  recency      T  monetary_value  predicted_purchases\n",
       "customer_id                                                                \n",
       "14911.0          145.0    372.0  373.0      910.463745            30.551950\n",
       "12748.0          114.0    373.0  373.0      254.975006            24.058267\n",
       "17841.0          112.0    372.0  373.0      355.421417            23.637824\n",
       "15311.0           90.0    373.0  373.0      655.266785            19.029464\n",
       "14606.0           88.0    372.0  373.0      130.858292            18.609342"
      ]
     },
     "execution_count": 17,
     "metadata": {},
     "output_type": "execute_result"
    }
   ],
   "source": [
    "# Calculating future purchase baseline\n",
    "num_of_days = 90\n",
    "\n",
    "# Adding a column to rank customer from “highest expected purchases in the next period” to lowest\n",
    "df_pred_wo_split = df_rfm.copy()\n",
    "df_pred_wo_split['predicted_purchases'] = bgf.conditional_expected_number_of_purchases_up_to_time(num_of_days, df_pred_wo_split['frequency'], df_pred_wo_split['recency'], df_pred_wo_split['T'])\n",
    "\n",
    "# looking at the data, \n",
    "df_pred_wo_split.sort_values(by='predicted_purchases', ascending=False).head()"
   ]
  },
  {
   "cell_type": "code",
   "execution_count": 18,
   "metadata": {},
   "outputs": [
    {
     "data": {
      "text/plain": [
       "customer_id\n",
       "12346.0    0.197742\n",
       "12347.0    1.447694\n",
       "12348.0    0.818469\n",
       "Name: predicted_purchases, dtype: float64"
      ]
     },
     "execution_count": 18,
     "metadata": {},
     "output_type": "execute_result"
    }
   ],
   "source": [
    "# Now we can find purchase for a specific customer in 90 days:\n",
    "customer_pred_wo_split = df_pred_wo_split.loc[12346:12348, 'predicted_purchases']\n",
    "customer_pred_wo_split"
   ]
  },
  {
   "cell_type": "code",
   "execution_count": 19,
   "metadata": {},
   "outputs": [
    {
     "data": {
      "image/png": "[encoded data removed]",
      "text/plain": [
       "<Figure size 432x288 with 1 Axes>"
      ]
     },
     "metadata": {},
     "output_type": "display_data"
    }
   ],
   "source": [
    "# The below chart allows us to check the accuracy of the model\n",
    "plot_period_transactions(bgf)\n",
    "plt.show()"
   ]
  },
  {
   "cell_type": "markdown",
   "metadata": {},
   "source": [
    "#### 3.3 Fitting the BG/NBD model with Train_Test Split"
   ]
  },
  {
   "cell_type": "markdown",
   "metadata": {},
   "source": [
    "lifetime has the capability to split the data into 2 partitions based on the date range for training (calibration) and testing (holdout).<br/>\n",
    "This allows us to fit the model on calibration dataset and test it through the holdout dataset.<br/>\n",
    "We use it to see how the model works on unseen data, but at the end we will train the model on all of the data, so we use df_pred_wo_split"
   ]
  },
  {
   "cell_type": "code",
   "execution_count": 20,
   "metadata": {},
   "outputs": [
    {
     "data": {
      "text/plain": [
       "(Timestamp('2010-12-01 08:26:00'), Timestamp('2011-12-09 12:50:00'))"
      ]
     },
     "execution_count": 20,
     "metadata": {},
     "output_type": "execute_result"
    }
   ],
   "source": [
    "# we have data for 9 months\n",
    "df.order_date.min(), df.order_date.max()"
   ]
  },
  {
   "cell_type": "code",
   "execution_count": 21,
   "metadata": {},
   "outputs": [
    {
     "data": {
      "text/html": [
       "<div>\n",
       "<style scoped>\n",
       "    .dataframe tbody tr th:only-of-type {\n",
       "        vertical-align: middle;\n",
       "    }\n",
       "\n",
       "    .dataframe tbody tr th {\n",
       "        vertical-align: top;\n",
       "    }\n",
       "\n",
       "    .dataframe thead th {\n",
       "        text-align: right;\n",
       "    }\n",
       "</style>\n",
       "<table border=\"1\" class=\"dataframe\">\n",
       "  <thead>\n",
       "    <tr style=\"text-align: right;\">\n",
       "      <th></th>\n",
       "      <th>frequency_cal</th>\n",
       "      <th>recency_cal</th>\n",
       "      <th>T_cal</th>\n",
       "      <th>frequency_holdout</th>\n",
       "      <th>duration_holdout</th>\n",
       "    </tr>\n",
       "    <tr>\n",
       "      <th>customer_id</th>\n",
       "      <th></th>\n",
       "      <th></th>\n",
       "      <th></th>\n",
       "      <th></th>\n",
       "      <th></th>\n",
       "    </tr>\n",
       "  </thead>\n",
       "  <tbody>\n",
       "    <tr>\n",
       "      <th>12346.0</th>\n",
       "      <td>0.0</td>\n",
       "      <td>0.0</td>\n",
       "      <td>204.0</td>\n",
       "      <td>0.0</td>\n",
       "      <td>30.0</td>\n",
       "    </tr>\n",
       "    <tr>\n",
       "      <th>12347.0</th>\n",
       "      <td>4.0</td>\n",
       "      <td>238.0</td>\n",
       "      <td>246.0</td>\n",
       "      <td>0.0</td>\n",
       "      <td>30.0</td>\n",
       "    </tr>\n",
       "    <tr>\n",
       "      <th>12348.0</th>\n",
       "      <td>2.0</td>\n",
       "      <td>110.0</td>\n",
       "      <td>237.0</td>\n",
       "      <td>0.0</td>\n",
       "      <td>30.0</td>\n",
       "    </tr>\n",
       "    <tr>\n",
       "      <th>12350.0</th>\n",
       "      <td>0.0</td>\n",
       "      <td>0.0</td>\n",
       "      <td>189.0</td>\n",
       "      <td>0.0</td>\n",
       "      <td>30.0</td>\n",
       "    </tr>\n",
       "    <tr>\n",
       "      <th>12352.0</th>\n",
       "      <td>3.0</td>\n",
       "      <td>34.0</td>\n",
       "      <td>175.0</td>\n",
       "      <td>0.0</td>\n",
       "      <td>30.0</td>\n",
       "    </tr>\n",
       "  </tbody>\n",
       "</table>\n",
       "</div>"
      ],
      "text/plain": [
       "             frequency_cal  recency_cal  T_cal  frequency_holdout  \\\n",
       "customer_id                                                         \n",
       "12346.0                0.0          0.0  204.0                0.0   \n",
       "12347.0                4.0        238.0  246.0                0.0   \n",
       "12348.0                2.0        110.0  237.0                0.0   \n",
       "12350.0                0.0          0.0  189.0                0.0   \n",
       "12352.0                3.0         34.0  175.0                0.0   \n",
       "\n",
       "             duration_holdout  \n",
       "customer_id                    \n",
       "12346.0                  30.0  \n",
       "12347.0                  30.0  \n",
       "12348.0                  30.0  \n",
       "12350.0                  30.0  \n",
       "12352.0                  30.0  "
      ]
     },
     "execution_count": 21,
     "metadata": {},
     "output_type": "execute_result"
    }
   ],
   "source": [
    "# We split our data to first 8 months for calibration and 1 month for the holdout\n",
    "summary_cal_holdout = calibration_and_holdout_data(df, 'customer_id', 'order_date', calibration_period_end='2011-08-10', observation_period_end='2011-09-09' )\n",
    "\n",
    "# the transformed dataset is now partitioned to calibration period and houldout period ready to be fitted to the model \n",
    "summary_cal_holdout.head()"
   ]
  },
  {
   "cell_type": "code",
   "execution_count": 22,
   "metadata": {},
   "outputs": [
    {
     "data": {
      "text/html": [
       "<div>\n",
       "<style scoped>\n",
       "    .dataframe tbody tr th:only-of-type {\n",
       "        vertical-align: middle;\n",
       "    }\n",
       "\n",
       "    .dataframe tbody tr th {\n",
       "        vertical-align: top;\n",
       "    }\n",
       "\n",
       "    .dataframe thead th {\n",
       "        text-align: right;\n",
       "    }\n",
       "</style>\n",
       "<table border=\"1\" class=\"dataframe\">\n",
       "  <thead>\n",
       "    <tr style=\"text-align: right;\">\n",
       "      <th></th>\n",
       "      <th>coef</th>\n",
       "      <th>se(coef)</th>\n",
       "      <th>lower 95% bound</th>\n",
       "      <th>upper 95% bound</th>\n",
       "    </tr>\n",
       "  </thead>\n",
       "  <tbody>\n",
       "    <tr>\n",
       "      <th>r</th>\n",
       "      <td>0.757904</td>\n",
       "      <td>0.029945</td>\n",
       "      <td>0.699211</td>\n",
       "      <td>0.816597</td>\n",
       "    </tr>\n",
       "    <tr>\n",
       "      <th>alpha</th>\n",
       "      <td>51.176757</td>\n",
       "      <td>2.471164</td>\n",
       "      <td>46.333276</td>\n",
       "      <td>56.020238</td>\n",
       "    </tr>\n",
       "    <tr>\n",
       "      <th>a</th>\n",
       "      <td>0.046096</td>\n",
       "      <td>0.015215</td>\n",
       "      <td>0.016275</td>\n",
       "      <td>0.075917</td>\n",
       "    </tr>\n",
       "    <tr>\n",
       "      <th>b</th>\n",
       "      <td>0.714177</td>\n",
       "      <td>0.283645</td>\n",
       "      <td>0.158233</td>\n",
       "      <td>1.270121</td>\n",
       "    </tr>\n",
       "  </tbody>\n",
       "</table>\n",
       "</div>"
      ],
      "text/plain": [
       "            coef  se(coef)  lower 95% bound  upper 95% bound\n",
       "r       0.757904  0.029945         0.699211         0.816597\n",
       "alpha  51.176757  2.471164        46.333276        56.020238\n",
       "a       0.046096  0.015215         0.016275         0.075917\n",
       "b       0.714177  0.283645         0.158233         1.270121"
      ]
     },
     "execution_count": 22,
     "metadata": {},
     "output_type": "execute_result"
    }
   ],
   "source": [
    "# We fit the calibration columns to the model and test it on houldout columns\n",
    "\n",
    "bgf.fit(summary_cal_holdout['frequency_cal'], summary_cal_holdout['recency_cal'], summary_cal_holdout['T_cal'])\n",
    "bgf_summary_w_split = bgf.summary\n",
    "bgf_summary_w_split"
   ]
  },
  {
   "cell_type": "code",
   "execution_count": 23,
   "metadata": {},
   "outputs": [
    {
     "data": {
      "image/png": "[encoded data removed]",
      "text/plain": [
       "<Figure size 432x288 with 1 Axes>"
      ]
     },
     "metadata": {},
     "output_type": "display_data"
    }
   ],
   "source": [
    "# now we can fit the holdouts to see the level of accuracy of teh fitted model\n",
    "# the model has a hard time to estimate repeat purchases over 2\n",
    "\n",
    "plot_calibration_purchases_vs_holdout_purchases(bgf, summary_cal_holdout)\n",
    "plt.show()"
   ]
  },
  {
   "cell_type": "code",
   "execution_count": 24,
   "metadata": {},
   "outputs": [
    {
     "data": {
      "image/png": "[encoded data removed]",
      "text/plain": [
       "<Figure size 432x288 with 1 Axes>"
      ]
     },
     "metadata": {},
     "output_type": "display_data"
    }
   ],
   "source": [
    "plot_period_transactions(bgf)\n",
    "plt.show()"
   ]
  },
  {
   "cell_type": "markdown",
   "metadata": {},
   "source": [
    "##### Customer Purchase Predictions"
   ]
  },
  {
   "cell_type": "markdown",
   "metadata": {},
   "source": [
    "Using the model, we will be able to estimate future purchases by an individual customer. This allows us to pinpoint the likely best customers."
   ]
  },
  {
   "cell_type": "code",
   "execution_count": 25,
   "metadata": {},
   "outputs": [
    {
     "data": {
      "text/plain": [
       "array([12346., 12347., 12348., ..., 18282., 18283., 18287.], dtype=float32)"
      ]
     },
     "execution_count": 25,
     "metadata": {},
     "output_type": "execute_result"
    }
   ],
   "source": [
    "# customer_ids\n",
    "df.customer_id.sort_values().unique()"
   ]
  },
  {
   "cell_type": "code",
   "execution_count": 26,
   "metadata": {},
   "outputs": [
    {
     "data": {
      "text/plain": [
       "customer_id\n",
       "12346.0    0.179276\n",
       "12347.0    1.434827\n",
       "12348.0    0.792880\n",
       "dtype: float64"
      ]
     },
     "execution_count": 26,
     "metadata": {},
     "output_type": "execute_result"
    }
   ],
   "source": [
    "# expected number of purchases for the next 30 days\n",
    "num_of_days = 90 \n",
    "\n",
    "# we pull the customer rows from df_metrics which contains frequency, recency and age for each customer\n",
    "individual = df_rfm.iloc[:3]\n",
    "\n",
    "# passing the customer's frequency, recency and age to the model to get predictions\n",
    "# bgf.predict() is alias for bgf.conditional_expected_number_of_purchases_up_to_time()\n",
    "customer_pred_w_split = bgf.predict(num_of_days, individual['frequency'], individual['recency'], individual['T'])\n",
    "customer_pred_w_split"
   ]
  },
  {
   "cell_type": "code",
   "execution_count": 27,
   "metadata": {},
   "outputs": [
    {
     "data": {
      "text/plain": [
       "customer_id\n",
       "12346.0    0.018466\n",
       "12347.0    0.012867\n",
       "12348.0    0.025589\n",
       "dtype: float64"
      ]
     },
     "execution_count": 27,
     "metadata": {},
     "output_type": "execute_result"
    }
   ],
   "source": [
    "# comparing the purchse perdictions for the model with and without train-test split\n",
    "abs(customer_pred_wo_split.sub(customer_pred_w_split))"
   ]
  },
  {
   "cell_type": "code",
   "execution_count": 28,
   "metadata": {},
   "outputs": [
    {
     "data": {
      "text/html": [
       "<div>\n",
       "<style scoped>\n",
       "    .dataframe tbody tr th:only-of-type {\n",
       "        vertical-align: middle;\n",
       "    }\n",
       "\n",
       "    .dataframe tbody tr th {\n",
       "        vertical-align: top;\n",
       "    }\n",
       "\n",
       "    .dataframe thead th {\n",
       "        text-align: right;\n",
       "    }\n",
       "</style>\n",
       "<table border=\"1\" class=\"dataframe\">\n",
       "  <thead>\n",
       "    <tr style=\"text-align: right;\">\n",
       "      <th></th>\n",
       "      <th>coef</th>\n",
       "      <th>se(coef)</th>\n",
       "      <th>lower 95% bound</th>\n",
       "      <th>upper 95% bound</th>\n",
       "    </tr>\n",
       "  </thead>\n",
       "  <tbody>\n",
       "    <tr>\n",
       "      <th>r</th>\n",
       "      <td>0.843025</td>\n",
       "      <td>0.026206</td>\n",
       "      <td>0.791661</td>\n",
       "      <td>0.894389</td>\n",
       "    </tr>\n",
       "    <tr>\n",
       "      <th>alpha</th>\n",
       "      <td>55.619383</td>\n",
       "      <td>2.088118</td>\n",
       "      <td>51.526671</td>\n",
       "      <td>59.712095</td>\n",
       "    </tr>\n",
       "    <tr>\n",
       "      <th>a</th>\n",
       "      <td>0.021519</td>\n",
       "      <td>0.006381</td>\n",
       "      <td>0.009012</td>\n",
       "      <td>0.034026</td>\n",
       "    </tr>\n",
       "    <tr>\n",
       "      <th>b</th>\n",
       "      <td>0.488673</td>\n",
       "      <td>0.176970</td>\n",
       "      <td>0.141812</td>\n",
       "      <td>0.835534</td>\n",
       "    </tr>\n",
       "  </tbody>\n",
       "</table>\n",
       "</div>"
      ],
      "text/plain": [
       "            coef  se(coef)  lower 95% bound  upper 95% bound\n",
       "r       0.843025  0.026206         0.791661         0.894389\n",
       "alpha  55.619383  2.088118        51.526671        59.712095\n",
       "a       0.021519  0.006381         0.009012         0.034026\n",
       "b       0.488673  0.176970         0.141812         0.835534"
      ]
     },
     "execution_count": 28,
     "metadata": {},
     "output_type": "execute_result"
    }
   ],
   "source": [
    "# comparing summaries of the model with and without train_test split\n",
    "bgf_summary_wo_split"
   ]
  },
  {
   "cell_type": "code",
   "execution_count": 29,
   "metadata": {},
   "outputs": [
    {
     "data": {
      "text/html": [
       "<div>\n",
       "<style scoped>\n",
       "    .dataframe tbody tr th:only-of-type {\n",
       "        vertical-align: middle;\n",
       "    }\n",
       "\n",
       "    .dataframe tbody tr th {\n",
       "        vertical-align: top;\n",
       "    }\n",
       "\n",
       "    .dataframe thead th {\n",
       "        text-align: right;\n",
       "    }\n",
       "</style>\n",
       "<table border=\"1\" class=\"dataframe\">\n",
       "  <thead>\n",
       "    <tr style=\"text-align: right;\">\n",
       "      <th></th>\n",
       "      <th>coef</th>\n",
       "      <th>se(coef)</th>\n",
       "      <th>lower 95% bound</th>\n",
       "      <th>upper 95% bound</th>\n",
       "    </tr>\n",
       "  </thead>\n",
       "  <tbody>\n",
       "    <tr>\n",
       "      <th>r</th>\n",
       "      <td>0.757904</td>\n",
       "      <td>0.029945</td>\n",
       "      <td>0.699211</td>\n",
       "      <td>0.816597</td>\n",
       "    </tr>\n",
       "    <tr>\n",
       "      <th>alpha</th>\n",
       "      <td>51.176757</td>\n",
       "      <td>2.471164</td>\n",
       "      <td>46.333276</td>\n",
       "      <td>56.020238</td>\n",
       "    </tr>\n",
       "    <tr>\n",
       "      <th>a</th>\n",
       "      <td>0.046096</td>\n",
       "      <td>0.015215</td>\n",
       "      <td>0.016275</td>\n",
       "      <td>0.075917</td>\n",
       "    </tr>\n",
       "    <tr>\n",
       "      <th>b</th>\n",
       "      <td>0.714177</td>\n",
       "      <td>0.283645</td>\n",
       "      <td>0.158233</td>\n",
       "      <td>1.270121</td>\n",
       "    </tr>\n",
       "  </tbody>\n",
       "</table>\n",
       "</div>"
      ],
      "text/plain": [
       "            coef  se(coef)  lower 95% bound  upper 95% bound\n",
       "r       0.757904  0.029945         0.699211         0.816597\n",
       "alpha  51.176757  2.471164        46.333276        56.020238\n",
       "a       0.046096  0.015215         0.016275         0.075917\n",
       "b       0.714177  0.283645         0.158233         1.270121"
      ]
     },
     "execution_count": 29,
     "metadata": {},
     "output_type": "execute_result"
    }
   ],
   "source": [
    "# we have higher errors with split since some of the data is set aside as a holdout which the model don't get the chance to train on.\n",
    "bgf_summary_w_split"
   ]
  },
  {
   "cell_type": "markdown",
   "metadata": {},
   "source": [
    "##### Model tuning"
   ]
  },
  {
   "cell_type": "markdown",
   "metadata": {},
   "source": [
    "We can perform model tuning on penalizer coef whcih we skip in this notebook."
   ]
  },
  {
   "cell_type": "code",
   "execution_count": 30,
   "metadata": {},
   "outputs": [],
   "source": [
    "# selecting the final model\n",
    "bgf_final = bgf\n",
    "df_pred_final = df_pred_wo_split"
   ]
  },
  {
   "cell_type": "markdown",
   "metadata": {},
   "source": [
    "#### Customer Probability History"
   ]
  },
  {
   "cell_type": "markdown",
   "metadata": {},
   "source": [
    "Customer probability history allows to examine the customer purchase latency and see the likelihood of churn based on their historical transactions.<br/>\n",
    "When customers are alive (likely to return), we assume they will purchase somewhere around the mean of their mean transaction rate randomly. So if the mean transaction rate for a customer is every 10 days, we may see orders from them on day 7 or 14 for example.\n",
    "In that case, it helps us to see the probability of churn if the customer hasn't purchased after 10 days from their last purchase and for example send them a promo email to persuade them to return."
   ]
  },
  {
   "cell_type": "code",
   "execution_count": 31,
   "metadata": {},
   "outputs": [
    {
     "data": {
      "text/plain": [
       "frequency           8.000000\n",
       "recency           339.000000\n",
       "T                 357.000000\n",
       "monetary_value     62.043747\n",
       "Name: 17888.0, dtype: float64"
      ]
     },
     "execution_count": 31,
     "metadata": {},
     "output_type": "execute_result"
    }
   ],
   "source": [
    "df_rfm.loc[17888]"
   ]
  },
  {
   "cell_type": "code",
   "execution_count": 32,
   "metadata": {},
   "outputs": [
    {
     "data": {
      "image/png": "[encoded data removed]",
      "text/plain": [
       "<Figure size 864x360 with 1 Axes>"
      ]
     },
     "metadata": {},
     "output_type": "display_data"
    }
   ],
   "source": [
    "# Selecting a customer to plot\n",
    "id_of_customer = 17888\n",
    "\n",
    "# calculating the age of the customer (df_metrics.loc[17888, 'T'])\n",
    "days_since_birth = (df.order_date.max() - df.loc[df.customer_id == id_of_customer, 'order_date'].min()).days + 1\n",
    "\n",
    "sp_trans = df.loc[df['customer_id'] == id_of_customer]\n",
    "\n",
    "plt.figure(figsize=(12, 5), constrained_layout=True)\n",
    "plot_history_alive(bgf_final, days_since_birth, sp_trans, 'order_date')\n",
    "plt.show()"
   ]
  },
  {
   "cell_type": "markdown",
   "metadata": {},
   "source": [
    "### 4. Estimating Customer Lifetime Value (CLV)"
   ]
  },
  {
   "cell_type": "markdown",
   "metadata": {},
   "source": [
    "#### 4.1 Gamma-Gamma model to predict customers monetary values"
   ]
  },
  {
   "cell_type": "markdown",
   "metadata": {},
   "source": [
    "##### Preparing data"
   ]
  },
  {
   "cell_type": "markdown",
   "metadata": {},
   "source": [
    "NOTE: monetary value in df_rfm is the mean of a given customer’s order value, not the sum. <br/>\n",
    "It assumes that the monetary value of a customer’s transactions will vary randomly around their mean order value"
   ]
  },
  {
   "cell_type": "code",
   "execution_count": 33,
   "metadata": {},
   "outputs": [
    {
     "data": {
      "text/html": [
       "<div>\n",
       "<style scoped>\n",
       "    .dataframe tbody tr th:only-of-type {\n",
       "        vertical-align: middle;\n",
       "    }\n",
       "\n",
       "    .dataframe tbody tr th {\n",
       "        vertical-align: top;\n",
       "    }\n",
       "\n",
       "    .dataframe thead th {\n",
       "        text-align: right;\n",
       "    }\n",
       "</style>\n",
       "<table border=\"1\" class=\"dataframe\">\n",
       "  <thead>\n",
       "    <tr style=\"text-align: right;\">\n",
       "      <th></th>\n",
       "      <th>frequency</th>\n",
       "      <th>recency</th>\n",
       "      <th>T</th>\n",
       "      <th>monetary_value</th>\n",
       "    </tr>\n",
       "    <tr>\n",
       "      <th>customer_id</th>\n",
       "      <th></th>\n",
       "      <th></th>\n",
       "      <th></th>\n",
       "      <th></th>\n",
       "    </tr>\n",
       "  </thead>\n",
       "  <tbody>\n",
       "    <tr>\n",
       "      <th>12347.0</th>\n",
       "      <td>6.0</td>\n",
       "      <td>365.0</td>\n",
       "      <td>367.0</td>\n",
       "      <td>599.701660</td>\n",
       "    </tr>\n",
       "    <tr>\n",
       "      <th>12348.0</th>\n",
       "      <td>3.0</td>\n",
       "      <td>283.0</td>\n",
       "      <td>358.0</td>\n",
       "      <td>301.479980</td>\n",
       "    </tr>\n",
       "    <tr>\n",
       "      <th>12352.0</th>\n",
       "      <td>6.0</td>\n",
       "      <td>260.0</td>\n",
       "      <td>296.0</td>\n",
       "      <td>208.151672</td>\n",
       "    </tr>\n",
       "    <tr>\n",
       "      <th>12356.0</th>\n",
       "      <td>2.0</td>\n",
       "      <td>303.0</td>\n",
       "      <td>325.0</td>\n",
       "      <td>269.904999</td>\n",
       "    </tr>\n",
       "    <tr>\n",
       "      <th>12358.0</th>\n",
       "      <td>1.0</td>\n",
       "      <td>149.0</td>\n",
       "      <td>150.0</td>\n",
       "      <td>683.200012</td>\n",
       "    </tr>\n",
       "  </tbody>\n",
       "</table>\n",
       "</div>"
      ],
      "text/plain": [
       "             frequency  recency      T  monetary_value\n",
       "customer_id                                           \n",
       "12347.0            6.0    365.0  367.0      599.701660\n",
       "12348.0            3.0    283.0  358.0      301.479980\n",
       "12352.0            6.0    260.0  296.0      208.151672\n",
       "12356.0            2.0    303.0  325.0      269.904999\n",
       "12358.0            1.0    149.0  150.0      683.200012"
      ]
     },
     "execution_count": 33,
     "metadata": {},
     "output_type": "execute_result"
    }
   ],
   "source": [
    "# we calculate customer value only for repeat customers\n",
    "# to remove order returns (with negative value), we also filter for monetary_value > 0\n",
    "df_returning_customers = df_rfm.loc[(df_rfm.frequency > 0) & (df_rfm.monetary_value > 0)]\n",
    "df_returning_customers.head()"
   ]
  },
  {
   "cell_type": "markdown",
   "metadata": {},
   "source": [
    "##### Fitting Gamma-Gamma model "
   ]
  },
  {
   "cell_type": "markdown",
   "metadata": {},
   "source": [
    "Checking corrolation"
   ]
  },
  {
   "cell_type": "markdown",
   "metadata": {},
   "source": [
    "We use Gamma-Gamma submodel to estimate the CLV.<br/>\n",
    "This model assumes that there is no relationship between the monetary value and the purchase frequency.<br/>\n",
    "To verify that, we need to check if there is a corrolation between frequency and value.<br/>\n",
    "Pearson's r between the two vectors should be close to 0 for this model to work.<br/>"
   ]
  },
  {
   "cell_type": "code",
   "execution_count": 34,
   "metadata": {},
   "outputs": [
    {
     "data": {
      "text/plain": [
       "0.17498384283815258"
      ]
     },
     "execution_count": 34,
     "metadata": {},
     "output_type": "execute_result"
    }
   ],
   "source": [
    "# calculating the correlation coefficient\n",
    "df_returning_customers.frequency.corr(df_returning_customers.monetary_value)"
   ]
  },
  {
   "cell_type": "markdown",
   "metadata": {},
   "source": [
    "Fitting the model"
   ]
  },
  {
   "cell_type": "markdown",
   "metadata": {},
   "source": [
    "Since there is no strong corrolation between frequency and value, we can use the model.<br/>\n",
    "If we have the profit amount per customer, we can use that instead of feeding the df_returning_customers['monetary_value'] to the model. For that, we should use the mean profit for each customer."
   ]
  },
  {
   "cell_type": "code",
   "execution_count": 35,
   "metadata": {},
   "outputs": [
    {
     "data": {
      "text/plain": [
       "<lifetimes.GammaGammaFitter: fitted with 2796 subjects, p: 1.60, q: 3.59, v: 553.51>"
      ]
     },
     "execution_count": 35,
     "metadata": {},
     "output_type": "execute_result"
    }
   ],
   "source": [
    "# fitting frequency & monetary_value from df_rfm\n",
    "ggf = ggf = GammaGammaFitter(penalizer_coef = 0)\n",
    "ggf.fit(df_returning_customers['frequency'], df_returning_customers['monetary_value'])"
   ]
  },
  {
   "cell_type": "code",
   "execution_count": 36,
   "metadata": {},
   "outputs": [
    {
     "data": {
      "text/html": [
       "<div>\n",
       "<style scoped>\n",
       "    .dataframe tbody tr th:only-of-type {\n",
       "        vertical-align: middle;\n",
       "    }\n",
       "\n",
       "    .dataframe tbody tr th {\n",
       "        vertical-align: top;\n",
       "    }\n",
       "\n",
       "    .dataframe thead th {\n",
       "        text-align: right;\n",
       "    }\n",
       "</style>\n",
       "<table border=\"1\" class=\"dataframe\">\n",
       "  <thead>\n",
       "    <tr style=\"text-align: right;\">\n",
       "      <th></th>\n",
       "      <th>coef</th>\n",
       "      <th>se(coef)</th>\n",
       "      <th>lower 95% bound</th>\n",
       "      <th>upper 95% bound</th>\n",
       "    </tr>\n",
       "  </thead>\n",
       "  <tbody>\n",
       "    <tr>\n",
       "      <th>p</th>\n",
       "      <td>1.595452</td>\n",
       "      <td>0.083753</td>\n",
       "      <td>1.431297</td>\n",
       "      <td>1.759608</td>\n",
       "    </tr>\n",
       "    <tr>\n",
       "      <th>q</th>\n",
       "      <td>3.585610</td>\n",
       "      <td>0.156889</td>\n",
       "      <td>3.278107</td>\n",
       "      <td>3.893112</td>\n",
       "    </tr>\n",
       "    <tr>\n",
       "      <th>v</th>\n",
       "      <td>553.507650</td>\n",
       "      <td>50.839851</td>\n",
       "      <td>453.861542</td>\n",
       "      <td>653.153759</td>\n",
       "    </tr>\n",
       "  </tbody>\n",
       "</table>\n",
       "</div>"
      ],
      "text/plain": [
       "         coef   se(coef)  lower 95% bound  upper 95% bound\n",
       "p    1.595452   0.083753         1.431297         1.759608\n",
       "q    3.585610   0.156889         3.278107         3.893112\n",
       "v  553.507650  50.839851       453.861542       653.153759"
      ]
     },
     "execution_count": 36,
     "metadata": {},
     "output_type": "execute_result"
    }
   ],
   "source": [
    "# shape, scale, variance parameters\n",
    "ggf.summary"
   ]
  },
  {
   "cell_type": "markdown",
   "metadata": {},
   "source": [
    "##### Predicting Average Order Value per customer (AOV)"
   ]
  },
  {
   "cell_type": "markdown",
   "metadata": {},
   "source": [
    "Now the model can predict average monetary_value per customer"
   ]
  },
  {
   "cell_type": "code",
   "execution_count": 37,
   "metadata": {},
   "outputs": [
    {
     "data": {
      "text/html": [
       "<div>\n",
       "<style scoped>\n",
       "    .dataframe tbody tr th:only-of-type {\n",
       "        vertical-align: middle;\n",
       "    }\n",
       "\n",
       "    .dataframe tbody tr th {\n",
       "        vertical-align: top;\n",
       "    }\n",
       "\n",
       "    .dataframe thead th {\n",
       "        text-align: right;\n",
       "    }\n",
       "</style>\n",
       "<table border=\"1\" class=\"dataframe\">\n",
       "  <thead>\n",
       "    <tr style=\"text-align: right;\">\n",
       "      <th></th>\n",
       "      <th>customer_id</th>\n",
       "      <th>aov</th>\n",
       "    </tr>\n",
       "  </thead>\n",
       "  <tbody>\n",
       "    <tr>\n",
       "      <th>2710</th>\n",
       "      <td>18102.0</td>\n",
       "      <td>8365.912129</td>\n",
       "    </tr>\n",
       "    <tr>\n",
       "      <th>34</th>\n",
       "      <td>12415.0</td>\n",
       "      <td>6297.729570</td>\n",
       "    </tr>\n",
       "    <tr>\n",
       "      <th>1111</th>\n",
       "      <td>14646.0</td>\n",
       "      <td>5879.209757</td>\n",
       "    </tr>\n",
       "    <tr>\n",
       "      <th>2416</th>\n",
       "      <td>17450.0</td>\n",
       "      <td>5532.523750</td>\n",
       "    </tr>\n",
       "    <tr>\n",
       "      <th>2045</th>\n",
       "      <td>16684.0</td>\n",
       "      <td>3528.687797</td>\n",
       "    </tr>\n",
       "    <tr>\n",
       "      <th>...</th>\n",
       "      <td>...</td>\n",
       "      <td>...</td>\n",
       "    </tr>\n",
       "    <tr>\n",
       "      <th>1073</th>\n",
       "      <td>14560.0</td>\n",
       "      <td>102.540000</td>\n",
       "    </tr>\n",
       "    <tr>\n",
       "      <th>170</th>\n",
       "      <td>12679.0</td>\n",
       "      <td>94.902500</td>\n",
       "    </tr>\n",
       "    <tr>\n",
       "      <th>1331</th>\n",
       "      <td>15107.0</td>\n",
       "      <td>89.909790</td>\n",
       "    </tr>\n",
       "    <tr>\n",
       "      <th>2680</th>\n",
       "      <td>18037.0</td>\n",
       "      <td>89.452097</td>\n",
       "    </tr>\n",
       "    <tr>\n",
       "      <th>2656</th>\n",
       "      <td>17961.0</td>\n",
       "      <td>48.353962</td>\n",
       "    </tr>\n",
       "  </tbody>\n",
       "</table>\n",
       "<p>2796 rows × 2 columns</p>\n",
       "</div>"
      ],
      "text/plain": [
       "      customer_id          aov\n",
       "2710      18102.0  8365.912129\n",
       "34        12415.0  6297.729570\n",
       "1111      14646.0  5879.209757\n",
       "2416      17450.0  5532.523750\n",
       "2045      16684.0  3528.687797\n",
       "...           ...          ...\n",
       "1073      14560.0   102.540000\n",
       "170       12679.0    94.902500\n",
       "1331      15107.0    89.909790\n",
       "2680      18037.0    89.452097\n",
       "2656      17961.0    48.353962\n",
       "\n",
       "[2796 rows x 2 columns]"
      ]
     },
     "execution_count": 37,
     "metadata": {},
     "output_type": "execute_result"
    }
   ],
   "source": [
    "# ggf returns Expected average monetary_value for repeat customers using a gamma distribution\n",
    "\n",
    "aov = ggf.conditional_expected_average_profit(df_returning_customers['frequency'], df_returning_customers['monetary_value'])\n",
    "df_aov = aov.to_frame().reset_index().rename(columns={0: 'aov'}).sort_values(by='aov', ascending=False)\n",
    "\n",
    "df_aov"
   ]
  },
  {
   "cell_type": "markdown",
   "metadata": {},
   "source": [
    "#### 4.2 Predicting expected number of orders per customer using BG/NBD"
   ]
  },
  {
   "cell_type": "markdown",
   "metadata": {},
   "source": [
    "The gbf model we fit before was fitted on the whole data set. However, for calculating CLV, we need to fit to recurring customers only."
   ]
  },
  {
   "cell_type": "code",
   "execution_count": 38,
   "metadata": {},
   "outputs": [
    {
     "data": {
      "text/html": [
       "<div>\n",
       "<style scoped>\n",
       "    .dataframe tbody tr th:only-of-type {\n",
       "        vertical-align: middle;\n",
       "    }\n",
       "\n",
       "    .dataframe tbody tr th {\n",
       "        vertical-align: top;\n",
       "    }\n",
       "\n",
       "    .dataframe thead th {\n",
       "        text-align: right;\n",
       "    }\n",
       "</style>\n",
       "<table border=\"1\" class=\"dataframe\">\n",
       "  <thead>\n",
       "    <tr style=\"text-align: right;\">\n",
       "      <th></th>\n",
       "      <th>coef</th>\n",
       "      <th>se(coef)</th>\n",
       "      <th>lower 95% bound</th>\n",
       "      <th>upper 95% bound</th>\n",
       "    </tr>\n",
       "  </thead>\n",
       "  <tbody>\n",
       "    <tr>\n",
       "      <th>r</th>\n",
       "      <td>1.844145</td>\n",
       "      <td>0.065123</td>\n",
       "      <td>1.716504</td>\n",
       "      <td>1.971786</td>\n",
       "    </tr>\n",
       "    <tr>\n",
       "      <th>alpha</th>\n",
       "      <td>87.624237</td>\n",
       "      <td>3.442928</td>\n",
       "      <td>80.876097</td>\n",
       "      <td>94.372376</td>\n",
       "    </tr>\n",
       "    <tr>\n",
       "      <th>a</th>\n",
       "      <td>0.032423</td>\n",
       "      <td>0.008922</td>\n",
       "      <td>0.014936</td>\n",
       "      <td>0.049910</td>\n",
       "    </tr>\n",
       "    <tr>\n",
       "      <th>b</th>\n",
       "      <td>1.001674</td>\n",
       "      <td>0.357713</td>\n",
       "      <td>0.300558</td>\n",
       "      <td>1.702791</td>\n",
       "    </tr>\n",
       "  </tbody>\n",
       "</table>\n",
       "</div>"
      ],
      "text/plain": [
       "            coef  se(coef)  lower 95% bound  upper 95% bound\n",
       "r       1.844145  0.065123         1.716504         1.971786\n",
       "alpha  87.624237  3.442928        80.876097        94.372376\n",
       "a       0.032423  0.008922         0.014936         0.049910\n",
       "b       1.001674  0.357713         0.300558         1.702791"
      ]
     },
     "execution_count": 38,
     "metadata": {},
     "output_type": "execute_result"
    }
   ],
   "source": [
    "# we also already know the best penalizer_coef when we fit it to the whole dataset -> we use that coef here\n",
    "\n",
    "bgf_clv = BetaGeoFitter(penalizer_coef=0)\n",
    "bgf_clv.fit(df_returning_customers['frequency'], df_returning_customers['recency'], df_returning_customers['T'])\n",
    "\n",
    "# se(coef): standard error, and confidence intervals\n",
    "bgf_clv_summary = bgf_clv.summary\n",
    "bgf_clv.summary"
   ]
  },
  {
   "cell_type": "code",
   "execution_count": 39,
   "metadata": {},
   "outputs": [
    {
     "data": {
      "text/plain": [
       "<lifetimes.BetaGeoFitter: fitted with 2796 subjects, a: 0.03, alpha: 87.62, b: 1.00, r: 1.84>"
      ]
     },
     "execution_count": 39,
     "metadata": {},
     "output_type": "execute_result"
    }
   ],
   "source": [
    "bgf_clv"
   ]
  },
  {
   "cell_type": "markdown",
   "metadata": {},
   "source": [
    "#### 4.3 Predicting CLV per customer using gamma-gamma model"
   ]
  },
  {
   "cell_type": "markdown",
   "metadata": {},
   "source": [
    "Now that we have bgf_clv for repeat customers, we use that along with returning customers rfm to get clv prediction from the trained gamma model on returning customers.<br/>\n",
    "NOTE: the model uses Discounted cash flow (DCF) method to calculate the Net Present Value (NPV) of future purchases\n",
    "and for that it needs an input for time parameter (how long in the future we are calculating the CLV for) \n",
    "and the monthly adjusted discount rate r for the cost of capital. The default value for r is 0.01."
   ]
  },
  {
   "cell_type": "code",
   "execution_count": 40,
   "metadata": {},
   "outputs": [],
   "source": [
    "# calculating CLV for 12 months at the discount_rate of 0.07\n",
    "clv_pred = ggf.customer_lifetime_value(\n",
    "    bgf,\n",
    "    df_returning_customers['frequency'],\n",
    "    df_returning_customers['recency'],\n",
    "    df_returning_customers['T'],\n",
    "    df_returning_customers['monetary_value'],\n",
    "    time = 12,\n",
    "    discount_rate = 0.07\n",
    ")\n",
    "\n",
    "# creating a df for the CLV predictions\n",
    "df_clv = clv_pred.to_frame().reset_index().sort_values(by='clv', ascending=False)"
   ]
  },
  {
   "cell_type": "code",
   "execution_count": 41,
   "metadata": {},
   "outputs": [
    {
     "data": {
      "text/html": [
       "<div>\n",
       "<style scoped>\n",
       "    .dataframe tbody tr th:only-of-type {\n",
       "        vertical-align: middle;\n",
       "    }\n",
       "\n",
       "    .dataframe tbody tr th {\n",
       "        vertical-align: top;\n",
       "    }\n",
       "\n",
       "    .dataframe thead th {\n",
       "        text-align: right;\n",
       "    }\n",
       "</style>\n",
       "<table border=\"1\" class=\"dataframe\">\n",
       "  <thead>\n",
       "    <tr style=\"text-align: right;\">\n",
       "      <th></th>\n",
       "      <th>customer_id</th>\n",
       "      <th>clv</th>\n",
       "    </tr>\n",
       "  </thead>\n",
       "  <tbody>\n",
       "    <tr>\n",
       "      <th>1111</th>\n",
       "      <td>14646.0</td>\n",
       "      <td>159162.874287</td>\n",
       "    </tr>\n",
       "    <tr>\n",
       "      <th>2710</th>\n",
       "      <td>18102.0</td>\n",
       "      <td>125519.917368</td>\n",
       "    </tr>\n",
       "    <tr>\n",
       "      <th>2416</th>\n",
       "      <td>17450.0</td>\n",
       "      <td>101533.989594</td>\n",
       "    </tr>\n",
       "    <tr>\n",
       "      <th>834</th>\n",
       "      <td>14096.0</td>\n",
       "      <td>82856.448806</td>\n",
       "    </tr>\n",
       "    <tr>\n",
       "      <th>1245</th>\n",
       "      <td>14911.0</td>\n",
       "      <td>72987.617064</td>\n",
       "    </tr>\n",
       "  </tbody>\n",
       "</table>\n",
       "</div>"
      ],
      "text/plain": [
       "      customer_id            clv\n",
       "1111      14646.0  159162.874287\n",
       "2710      18102.0  125519.917368\n",
       "2416      17450.0  101533.989594\n",
       "834       14096.0   82856.448806\n",
       "1245      14911.0   72987.617064"
      ]
     },
     "execution_count": 41,
     "metadata": {},
     "output_type": "execute_result"
    }
   ],
   "source": [
    "# High value customers\n",
    "df_clv.head()"
   ]
  },
  {
   "cell_type": "code",
   "execution_count": 42,
   "metadata": {},
   "outputs": [
    {
     "data": {
      "text/html": [
       "<div>\n",
       "<style scoped>\n",
       "    .dataframe tbody tr th:only-of-type {\n",
       "        vertical-align: middle;\n",
       "    }\n",
       "\n",
       "    .dataframe tbody tr th {\n",
       "        vertical-align: top;\n",
       "    }\n",
       "\n",
       "    .dataframe thead th {\n",
       "        text-align: right;\n",
       "    }\n",
       "</style>\n",
       "<table border=\"1\" class=\"dataframe\">\n",
       "  <thead>\n",
       "    <tr style=\"text-align: right;\">\n",
       "      <th></th>\n",
       "      <th>customer_id</th>\n",
       "      <th>clv</th>\n",
       "    </tr>\n",
       "  </thead>\n",
       "  <tbody>\n",
       "    <tr>\n",
       "      <th>1965</th>\n",
       "      <td>16499.0</td>\n",
       "      <td>49.322926</td>\n",
       "    </tr>\n",
       "    <tr>\n",
       "      <th>368</th>\n",
       "      <td>13093.0</td>\n",
       "      <td>44.197451</td>\n",
       "    </tr>\n",
       "    <tr>\n",
       "      <th>2068</th>\n",
       "      <td>16725.0</td>\n",
       "      <td>40.043800</td>\n",
       "    </tr>\n",
       "    <tr>\n",
       "      <th>1325</th>\n",
       "      <td>15100.0</td>\n",
       "      <td>6.985973</td>\n",
       "    </tr>\n",
       "    <tr>\n",
       "      <th>1331</th>\n",
       "      <td>15107.0</td>\n",
       "      <td>5.215296</td>\n",
       "    </tr>\n",
       "  </tbody>\n",
       "</table>\n",
       "</div>"
      ],
      "text/plain": [
       "      customer_id        clv\n",
       "1965      16499.0  49.322926\n",
       "368       13093.0  44.197451\n",
       "2068      16725.0  40.043800\n",
       "1325      15100.0   6.985973\n",
       "1331      15107.0   5.215296"
      ]
     },
     "execution_count": 42,
     "metadata": {},
     "output_type": "execute_result"
    }
   ],
   "source": [
    "# low value customers\n",
    "df_clv.tail()"
   ]
  },
  {
   "cell_type": "code",
   "execution_count": 43,
   "metadata": {},
   "outputs": [
    {
     "data": {
      "image/png": "[encoded data removed]",
      "text/plain": [
       "<Figure size 864x432 with 1 Axes>"
      ]
     },
     "metadata": {},
     "output_type": "display_data"
    }
   ],
   "source": [
    "plt.figure(figsize=(12, 6), constrained_layout=True)\n",
    "sns.histplot(df_clv.clv, kde=True)\n",
    "\n",
    "plt.show()"
   ]
  },
  {
   "cell_type": "markdown",
   "metadata": {},
   "source": [
    "### 5. Segmenting repeat customers based on CLV"
   ]
  },
  {
   "cell_type": "markdown",
   "metadata": {},
   "source": [
    "There is a strong corrolation between Average Order Value (AOV) and CLV since CLV also takes into account both the AOV and probability of churn. For that reason, for segmentation, we only need to use one of them which will be CLV"
   ]
  },
  {
   "cell_type": "code",
   "execution_count": 44,
   "metadata": {},
   "outputs": [
    {
     "data": {
      "text/plain": [
       "0.8105231447879293"
      ]
     },
     "execution_count": 44,
     "metadata": {},
     "output_type": "execute_result"
    }
   ],
   "source": [
    "# corroloation between AOV and CLV\n",
    "df_aov.aov.corr(df_clv.clv)"
   ]
  },
  {
   "cell_type": "code",
   "execution_count": 45,
   "metadata": {},
   "outputs": [
    {
     "data": {
      "text/plain": [
       "count      2796.0\n",
       "mean       1747.0\n",
       "std        5628.0\n",
       "min           5.0\n",
       "25%         503.0\n",
       "50%         898.0\n",
       "75%        1611.0\n",
       "max      159163.0\n",
       "Name: clv, dtype: float64"
      ]
     },
     "execution_count": 45,
     "metadata": {},
     "output_type": "execute_result"
    }
   ],
   "source": [
    "df_clv.clv.describe().round()"
   ]
  },
  {
   "cell_type": "markdown",
   "metadata": {},
   "source": [
    "#### Bucket Segmentation"
   ]
  },
  {
   "cell_type": "code",
   "execution_count": 46,
   "metadata": {},
   "outputs": [],
   "source": [
    "# function to return some descreptives about segmented data\n",
    "def describe_clv(df):\n",
    "    df_clv_info = df.groupby('segment').agg(total_value = ('clv', 'sum'), customer_count=('clv', 'count'), clv_mean=('clv', 'mean'), clv_median=('clv', 'median'), clv_max=('clv', 'max'), clv_min=('clv', 'min'), clv_std=('clv', 'std'))\n",
    "    df_clv_info['value_pct'] = df_clv_info.total_value.div(df_clv_info.total_value.sum()).mul(100)\n",
    "    df_clv_info['count_pct'] = df_clv_info.customer_count.div(df_clv_info.customer_count.sum()).mul(100)\n",
    "    df_clv_info['range'] = df_clv_info.clv_max.sub(df_clv_info.clv_min)\n",
    "\n",
    "    df_clv_info = df_clv_info.round()\n",
    "    df_clv_info = df_clv_info[['customer_count', 'count_pct', 'total_value', 'value_pct', 'clv_mean', 'clv_median', 'clv_min', 'clv_max', 'range', 'clv_std']]\n",
    "\n",
    "    return df_clv_info"
   ]
  },
  {
   "cell_type": "markdown",
   "metadata": {},
   "source": [
    "##### Segmentation using quantiles"
   ]
  },
  {
   "cell_type": "code",
   "execution_count": 47,
   "metadata": {},
   "outputs": [
    {
     "data": {
      "text/plain": [
       "(4.0, 438.0]          560\n",
       "(438.0, 713.0]        559\n",
       "(713.0, 1112.0]       559\n",
       "(1112.0, 1855.0]      559\n",
       "(1855.0, 159163.0]    559\n",
       "Name: clv, dtype: int64"
      ]
     },
     "execution_count": 47,
     "metadata": {},
     "output_type": "execute_result"
    }
   ],
   "source": [
    "# we segment the customers to 5 quantiles to have approximately 20% of customers in each bucket\n",
    "quantiles = 5\n",
    "pd.qcut(df_clv.clv, q=quantiles, precision=0).value_counts()"
   ]
  },
  {
   "cell_type": "code",
   "execution_count": 48,
   "metadata": {},
   "outputs": [
    {
     "data": {
      "text/html": [
       "<div>\n",
       "<style scoped>\n",
       "    .dataframe tbody tr th:only-of-type {\n",
       "        vertical-align: middle;\n",
       "    }\n",
       "\n",
       "    .dataframe tbody tr th {\n",
       "        vertical-align: top;\n",
       "    }\n",
       "\n",
       "    .dataframe thead th {\n",
       "        text-align: right;\n",
       "    }\n",
       "</style>\n",
       "<table border=\"1\" class=\"dataframe\">\n",
       "  <thead>\n",
       "    <tr style=\"text-align: right;\">\n",
       "      <th></th>\n",
       "      <th>clv</th>\n",
       "      <th>segment</th>\n",
       "    </tr>\n",
       "    <tr>\n",
       "      <th>customer_id</th>\n",
       "      <th></th>\n",
       "      <th></th>\n",
       "    </tr>\n",
       "  </thead>\n",
       "  <tbody>\n",
       "    <tr>\n",
       "      <th>14646.0</th>\n",
       "      <td>159162.874287</td>\n",
       "      <td>5</td>\n",
       "    </tr>\n",
       "    <tr>\n",
       "      <th>18102.0</th>\n",
       "      <td>125519.917368</td>\n",
       "      <td>5</td>\n",
       "    </tr>\n",
       "    <tr>\n",
       "      <th>17450.0</th>\n",
       "      <td>101533.989594</td>\n",
       "      <td>5</td>\n",
       "    </tr>\n",
       "    <tr>\n",
       "      <th>14096.0</th>\n",
       "      <td>82856.448806</td>\n",
       "      <td>5</td>\n",
       "    </tr>\n",
       "    <tr>\n",
       "      <th>14911.0</th>\n",
       "      <td>72987.617064</td>\n",
       "      <td>5</td>\n",
       "    </tr>\n",
       "  </tbody>\n",
       "</table>\n",
       "</div>"
      ],
      "text/plain": [
       "                       clv segment\n",
       "customer_id                       \n",
       "14646.0      159162.874287       5\n",
       "18102.0      125519.917368       5\n",
       "17450.0      101533.989594       5\n",
       "14096.0       82856.448806       5\n",
       "14911.0       72987.617064       5"
      ]
     },
     "execution_count": 48,
     "metadata": {},
     "output_type": "execute_result"
    }
   ],
   "source": [
    "# we add a column to df_clv to segment the customers based on their quantiles\n",
    "df_clv_q = df_clv.copy()\n",
    "df_clv_q['segment'] = pd.qcut(df_clv_q.clv, q=quantiles, precision=0, labels=list(range(1, quantiles+1)))\n",
    "df_clv_q.set_index('customer_id', drop=True, inplace=True)\n",
    "\n",
    "df_clv_q.head()"
   ]
  },
  {
   "cell_type": "code",
   "execution_count": 49,
   "metadata": {},
   "outputs": [
    {
     "data": {
      "text/html": [
       "<div>\n",
       "<style scoped>\n",
       "    .dataframe tbody tr th:only-of-type {\n",
       "        vertical-align: middle;\n",
       "    }\n",
       "\n",
       "    .dataframe tbody tr th {\n",
       "        vertical-align: top;\n",
       "    }\n",
       "\n",
       "    .dataframe thead th {\n",
       "        text-align: right;\n",
       "    }\n",
       "</style>\n",
       "<table border=\"1\" class=\"dataframe\">\n",
       "  <thead>\n",
       "    <tr style=\"text-align: right;\">\n",
       "      <th></th>\n",
       "      <th>customer_count</th>\n",
       "      <th>count_pct</th>\n",
       "      <th>total_value</th>\n",
       "      <th>value_pct</th>\n",
       "      <th>clv_mean</th>\n",
       "      <th>clv_median</th>\n",
       "      <th>clv_min</th>\n",
       "      <th>clv_max</th>\n",
       "      <th>range</th>\n",
       "      <th>clv_std</th>\n",
       "    </tr>\n",
       "    <tr>\n",
       "      <th>segment</th>\n",
       "      <th></th>\n",
       "      <th></th>\n",
       "      <th></th>\n",
       "      <th></th>\n",
       "      <th></th>\n",
       "      <th></th>\n",
       "      <th></th>\n",
       "      <th></th>\n",
       "      <th></th>\n",
       "      <th></th>\n",
       "    </tr>\n",
       "  </thead>\n",
       "  <tbody>\n",
       "    <tr>\n",
       "      <th>1</th>\n",
       "      <td>560</td>\n",
       "      <td>20.0</td>\n",
       "      <td>170125.0</td>\n",
       "      <td>3.0</td>\n",
       "      <td>304.0</td>\n",
       "      <td>309.0</td>\n",
       "      <td>5.0</td>\n",
       "      <td>438.0</td>\n",
       "      <td>433.0</td>\n",
       "      <td>89.0</td>\n",
       "    </tr>\n",
       "    <tr>\n",
       "      <th>2</th>\n",
       "      <td>559</td>\n",
       "      <td>20.0</td>\n",
       "      <td>320455.0</td>\n",
       "      <td>7.0</td>\n",
       "      <td>573.0</td>\n",
       "      <td>571.0</td>\n",
       "      <td>438.0</td>\n",
       "      <td>713.0</td>\n",
       "      <td>274.0</td>\n",
       "      <td>80.0</td>\n",
       "    </tr>\n",
       "    <tr>\n",
       "      <th>3</th>\n",
       "      <td>559</td>\n",
       "      <td>20.0</td>\n",
       "      <td>503657.0</td>\n",
       "      <td>10.0</td>\n",
       "      <td>901.0</td>\n",
       "      <td>898.0</td>\n",
       "      <td>714.0</td>\n",
       "      <td>1112.0</td>\n",
       "      <td>397.0</td>\n",
       "      <td>113.0</td>\n",
       "    </tr>\n",
       "    <tr>\n",
       "      <th>4</th>\n",
       "      <td>559</td>\n",
       "      <td>20.0</td>\n",
       "      <td>804057.0</td>\n",
       "      <td>16.0</td>\n",
       "      <td>1438.0</td>\n",
       "      <td>1427.0</td>\n",
       "      <td>1112.0</td>\n",
       "      <td>1855.0</td>\n",
       "      <td>743.0</td>\n",
       "      <td>211.0</td>\n",
       "    </tr>\n",
       "    <tr>\n",
       "      <th>5</th>\n",
       "      <td>559</td>\n",
       "      <td>20.0</td>\n",
       "      <td>3086123.0</td>\n",
       "      <td>63.0</td>\n",
       "      <td>5521.0</td>\n",
       "      <td>2933.0</td>\n",
       "      <td>1858.0</td>\n",
       "      <td>159163.0</td>\n",
       "      <td>157305.0</td>\n",
       "      <td>11834.0</td>\n",
       "    </tr>\n",
       "  </tbody>\n",
       "</table>\n",
       "</div>"
      ],
      "text/plain": [
       "         customer_count  count_pct  total_value  value_pct  clv_mean  \\\n",
       "segment                                                                \n",
       "1                   560       20.0     170125.0        3.0     304.0   \n",
       "2                   559       20.0     320455.0        7.0     573.0   \n",
       "3                   559       20.0     503657.0       10.0     901.0   \n",
       "4                   559       20.0     804057.0       16.0    1438.0   \n",
       "5                   559       20.0    3086123.0       63.0    5521.0   \n",
       "\n",
       "         clv_median  clv_min   clv_max     range  clv_std  \n",
       "segment                                                    \n",
       "1             309.0      5.0     438.0     433.0     89.0  \n",
       "2             571.0    438.0     713.0     274.0     80.0  \n",
       "3             898.0    714.0    1112.0     397.0    113.0  \n",
       "4            1427.0   1112.0    1855.0     743.0    211.0  \n",
       "5            2933.0   1858.0  159163.0  157305.0  11834.0  "
      ]
     },
     "execution_count": 49,
     "metadata": {},
     "output_type": "execute_result"
    }
   ],
   "source": [
    "describe_clv(df_clv_q)"
   ]
  },
  {
   "cell_type": "markdown",
   "metadata": {},
   "source": [
    "##### Segmentation using custom bins"
   ]
  },
  {
   "cell_type": "code",
   "execution_count": 50,
   "metadata": {},
   "outputs": [
    {
     "data": {
      "text/plain": [
       "(0.0, 1000.0]          1545\n",
       "(1000.0, 2000.0]        750\n",
       "(2000.0, 5000.0]        391\n",
       "(5000.0, 12000.0]        77\n",
       "(12000.0, 159163.0]      33\n",
       "Name: clv, dtype: int64"
      ]
     },
     "execution_count": 50,
     "metadata": {},
     "output_type": "execute_result"
    }
   ],
   "source": [
    "# we segment the customers to 5 groups\n",
    "clv_bins = [0, 1000, 2000, 5000, 12000, max(df_clv.clv)]\n",
    "pd.cut(df_clv.clv, bins=clv_bins, precision=0).value_counts()"
   ]
  },
  {
   "cell_type": "code",
   "execution_count": 51,
   "metadata": {},
   "outputs": [
    {
     "data": {
      "text/html": [
       "<div>\n",
       "<style scoped>\n",
       "    .dataframe tbody tr th:only-of-type {\n",
       "        vertical-align: middle;\n",
       "    }\n",
       "\n",
       "    .dataframe tbody tr th {\n",
       "        vertical-align: top;\n",
       "    }\n",
       "\n",
       "    .dataframe thead th {\n",
       "        text-align: right;\n",
       "    }\n",
       "</style>\n",
       "<table border=\"1\" class=\"dataframe\">\n",
       "  <thead>\n",
       "    <tr style=\"text-align: right;\">\n",
       "      <th></th>\n",
       "      <th>clv</th>\n",
       "      <th>segment</th>\n",
       "    </tr>\n",
       "    <tr>\n",
       "      <th>customer_id</th>\n",
       "      <th></th>\n",
       "      <th></th>\n",
       "    </tr>\n",
       "  </thead>\n",
       "  <tbody>\n",
       "    <tr>\n",
       "      <th>14646.0</th>\n",
       "      <td>159162.874287</td>\n",
       "      <td>5</td>\n",
       "    </tr>\n",
       "    <tr>\n",
       "      <th>18102.0</th>\n",
       "      <td>125519.917368</td>\n",
       "      <td>5</td>\n",
       "    </tr>\n",
       "    <tr>\n",
       "      <th>17450.0</th>\n",
       "      <td>101533.989594</td>\n",
       "      <td>5</td>\n",
       "    </tr>\n",
       "    <tr>\n",
       "      <th>14096.0</th>\n",
       "      <td>82856.448806</td>\n",
       "      <td>5</td>\n",
       "    </tr>\n",
       "    <tr>\n",
       "      <th>14911.0</th>\n",
       "      <td>72987.617064</td>\n",
       "      <td>5</td>\n",
       "    </tr>\n",
       "  </tbody>\n",
       "</table>\n",
       "</div>"
      ],
      "text/plain": [
       "                       clv segment\n",
       "customer_id                       \n",
       "14646.0      159162.874287       5\n",
       "18102.0      125519.917368       5\n",
       "17450.0      101533.989594       5\n",
       "14096.0       82856.448806       5\n",
       "14911.0       72987.617064       5"
      ]
     },
     "execution_count": 51,
     "metadata": {},
     "output_type": "execute_result"
    }
   ],
   "source": [
    "# we add a column to df_clv to segment the customers based on their bins\n",
    "df_clv_b = df_clv.copy()\n",
    "df_clv_b['segment'] = pd.cut(df_clv.clv, bins=clv_bins, precision=0, labels=list(range(1, len(clv_bins))))\n",
    "df_clv_b.set_index('customer_id', drop=True, inplace=True)\n",
    "\n",
    "df_clv_b.head()"
   ]
  },
  {
   "cell_type": "code",
   "execution_count": 52,
   "metadata": {},
   "outputs": [
    {
     "data": {
      "text/html": [
       "<div>\n",
       "<style scoped>\n",
       "    .dataframe tbody tr th:only-of-type {\n",
       "        vertical-align: middle;\n",
       "    }\n",
       "\n",
       "    .dataframe tbody tr th {\n",
       "        vertical-align: top;\n",
       "    }\n",
       "\n",
       "    .dataframe thead th {\n",
       "        text-align: right;\n",
       "    }\n",
       "</style>\n",
       "<table border=\"1\" class=\"dataframe\">\n",
       "  <thead>\n",
       "    <tr style=\"text-align: right;\">\n",
       "      <th></th>\n",
       "      <th>customer_count</th>\n",
       "      <th>count_pct</th>\n",
       "      <th>total_value</th>\n",
       "      <th>value_pct</th>\n",
       "      <th>clv_mean</th>\n",
       "      <th>clv_median</th>\n",
       "      <th>clv_min</th>\n",
       "      <th>clv_max</th>\n",
       "      <th>range</th>\n",
       "      <th>clv_std</th>\n",
       "    </tr>\n",
       "    <tr>\n",
       "      <th>segment</th>\n",
       "      <th></th>\n",
       "      <th></th>\n",
       "      <th></th>\n",
       "      <th></th>\n",
       "      <th></th>\n",
       "      <th></th>\n",
       "      <th></th>\n",
       "      <th></th>\n",
       "      <th></th>\n",
       "      <th></th>\n",
       "    </tr>\n",
       "  </thead>\n",
       "  <tbody>\n",
       "    <tr>\n",
       "      <th>1</th>\n",
       "      <td>1545</td>\n",
       "      <td>55.0</td>\n",
       "      <td>854221.0</td>\n",
       "      <td>17.0</td>\n",
       "      <td>553.0</td>\n",
       "      <td>533.0</td>\n",
       "      <td>5.0</td>\n",
       "      <td>1000.0</td>\n",
       "      <td>994.0</td>\n",
       "      <td>234.0</td>\n",
       "    </tr>\n",
       "    <tr>\n",
       "      <th>2</th>\n",
       "      <td>750</td>\n",
       "      <td>27.0</td>\n",
       "      <td>1055771.0</td>\n",
       "      <td>22.0</td>\n",
       "      <td>1408.0</td>\n",
       "      <td>1358.0</td>\n",
       "      <td>1000.0</td>\n",
       "      <td>1998.0</td>\n",
       "      <td>998.0</td>\n",
       "      <td>278.0</td>\n",
       "    </tr>\n",
       "    <tr>\n",
       "      <th>3</th>\n",
       "      <td>391</td>\n",
       "      <td>14.0</td>\n",
       "      <td>1167635.0</td>\n",
       "      <td>24.0</td>\n",
       "      <td>2986.0</td>\n",
       "      <td>2802.0</td>\n",
       "      <td>2003.0</td>\n",
       "      <td>4988.0</td>\n",
       "      <td>2986.0</td>\n",
       "      <td>768.0</td>\n",
       "    </tr>\n",
       "    <tr>\n",
       "      <th>4</th>\n",
       "      <td>77</td>\n",
       "      <td>3.0</td>\n",
       "      <td>542457.0</td>\n",
       "      <td>11.0</td>\n",
       "      <td>7045.0</td>\n",
       "      <td>6609.0</td>\n",
       "      <td>5038.0</td>\n",
       "      <td>11635.0</td>\n",
       "      <td>6597.0</td>\n",
       "      <td>1834.0</td>\n",
       "    </tr>\n",
       "    <tr>\n",
       "      <th>5</th>\n",
       "      <td>33</td>\n",
       "      <td>1.0</td>\n",
       "      <td>1264333.0</td>\n",
       "      <td>26.0</td>\n",
       "      <td>38313.0</td>\n",
       "      <td>24501.0</td>\n",
       "      <td>13500.0</td>\n",
       "      <td>159163.0</td>\n",
       "      <td>145663.0</td>\n",
       "      <td>34789.0</td>\n",
       "    </tr>\n",
       "  </tbody>\n",
       "</table>\n",
       "</div>"
      ],
      "text/plain": [
       "         customer_count  count_pct  total_value  value_pct  clv_mean  \\\n",
       "segment                                                                \n",
       "1                  1545       55.0     854221.0       17.0     553.0   \n",
       "2                   750       27.0    1055771.0       22.0    1408.0   \n",
       "3                   391       14.0    1167635.0       24.0    2986.0   \n",
       "4                    77        3.0     542457.0       11.0    7045.0   \n",
       "5                    33        1.0    1264333.0       26.0   38313.0   \n",
       "\n",
       "         clv_median  clv_min   clv_max     range  clv_std  \n",
       "segment                                                    \n",
       "1             533.0      5.0    1000.0     994.0    234.0  \n",
       "2            1358.0   1000.0    1998.0     998.0    278.0  \n",
       "3            2802.0   2003.0    4988.0    2986.0    768.0  \n",
       "4            6609.0   5038.0   11635.0    6597.0   1834.0  \n",
       "5           24501.0  13500.0  159163.0  145663.0  34789.0  "
      ]
     },
     "execution_count": 52,
     "metadata": {},
     "output_type": "execute_result"
    }
   ],
   "source": [
    "describe_clv(df_clv_b)"
   ]
  },
  {
   "cell_type": "markdown",
   "metadata": {},
   "source": [
    "#### K-means customer segmentation"
   ]
  },
  {
   "cell_type": "code",
   "execution_count": 53,
   "metadata": {},
   "outputs": [],
   "source": [
    "df_clv.set_index('customer_id', inplace=True)\n",
    "df_clv_kmeans = df_clv.copy()"
   ]
  },
  {
   "cell_type": "markdown",
   "metadata": {},
   "source": [
    "Calculating the optimal number of clusters for segmentation"
   ]
  },
  {
   "cell_type": "code",
   "execution_count": 54,
   "metadata": {},
   "outputs": [],
   "source": [
    "# calculating k-means inertia for differnet cluster numbers for elbow method\n",
    "def kmeans_k(k, df):\n",
    "\n",
    "    ssd = []\n",
    "    for i in range(2, k+1):\n",
    "        kmeans_model = KMeans(n_clusters=i, init='k-means++', max_iter=500, random_state=100)\n",
    "        kmeans_model.fit(df)\n",
    "        ssd.append(kmeans_model.inertia_)\n",
    "\n",
    "    return ssd"
   ]
  },
  {
   "cell_type": "markdown",
   "metadata": {},
   "source": [
    "Plotting the elbow method"
   ]
  },
  {
   "cell_type": "code",
   "execution_count": 55,
   "metadata": {},
   "outputs": [
    {
     "data": {
      "image/png": "[encoded data removed]",
      "text/plain": [
       "<Figure size 432x288 with 1 Axes>"
      ]
     },
     "metadata": {},
     "output_type": "display_data"
    }
   ],
   "source": [
    "# plotting inertia against the k values\n",
    "# k=5 seems to be the best k\n",
    "k =10\n",
    "\n",
    "plt.plot(np.arange(2, k+1), kmeans_k(k, df_clv_kmeans), marker='o')\n",
    "plt.xlabel('number of clusters')\n",
    "plt.ylabel('SSD')\n",
    "plt.show()"
   ]
  },
  {
   "cell_type": "markdown",
   "metadata": {},
   "source": [
    "Fitting the model"
   ]
  },
  {
   "cell_type": "code",
   "execution_count": 56,
   "metadata": {},
   "outputs": [
    {
     "data": {
      "text/html": [
       "<div>\n",
       "<style scoped>\n",
       "    .dataframe tbody tr th:only-of-type {\n",
       "        vertical-align: middle;\n",
       "    }\n",
       "\n",
       "    .dataframe tbody tr th {\n",
       "        vertical-align: top;\n",
       "    }\n",
       "\n",
       "    .dataframe thead th {\n",
       "        text-align: right;\n",
       "    }\n",
       "</style>\n",
       "<table border=\"1\" class=\"dataframe\">\n",
       "  <thead>\n",
       "    <tr style=\"text-align: right;\">\n",
       "      <th></th>\n",
       "      <th>clv</th>\n",
       "      <th>segment</th>\n",
       "    </tr>\n",
       "    <tr>\n",
       "      <th>customer_id</th>\n",
       "      <th></th>\n",
       "      <th></th>\n",
       "    </tr>\n",
       "  </thead>\n",
       "  <tbody>\n",
       "    <tr>\n",
       "      <th>14646.0</th>\n",
       "      <td>159162.874287</td>\n",
       "      <td>2</td>\n",
       "    </tr>\n",
       "    <tr>\n",
       "      <th>18102.0</th>\n",
       "      <td>125519.917368</td>\n",
       "      <td>2</td>\n",
       "    </tr>\n",
       "    <tr>\n",
       "      <th>17450.0</th>\n",
       "      <td>101533.989594</td>\n",
       "      <td>1</td>\n",
       "    </tr>\n",
       "    <tr>\n",
       "      <th>14096.0</th>\n",
       "      <td>82856.448806</td>\n",
       "      <td>1</td>\n",
       "    </tr>\n",
       "    <tr>\n",
       "      <th>14911.0</th>\n",
       "      <td>72987.617064</td>\n",
       "      <td>1</td>\n",
       "    </tr>\n",
       "  </tbody>\n",
       "</table>\n",
       "</div>"
      ],
      "text/plain": [
       "                       clv  segment\n",
       "customer_id                        \n",
       "14646.0      159162.874287        2\n",
       "18102.0      125519.917368        2\n",
       "17450.0      101533.989594        1\n",
       "14096.0       82856.448806        1\n",
       "14911.0       72987.617064        1"
      ]
     },
     "execution_count": 56,
     "metadata": {},
     "output_type": "execute_result"
    }
   ],
   "source": [
    "# NOTE: No need for scaling since we are using only 1 column\n",
    "\n",
    "kmeans_model = KMeans(n_clusters=5, init='k-means++', max_iter=500, random_state=100)\n",
    "cluster_labels = kmeans_model.fit_predict(df_clv_kmeans)\n",
    "df_clv_kmeans['segment'] = pd.Series(cluster_labels, index=df_clv_kmeans.index)\n",
    "df_clv_kmeans.head()"
   ]
  },
  {
   "cell_type": "code",
   "execution_count": 57,
   "metadata": {},
   "outputs": [
    {
     "data": {
      "text/html": [
       "<div>\n",
       "<style scoped>\n",
       "    .dataframe tbody tr th:only-of-type {\n",
       "        vertical-align: middle;\n",
       "    }\n",
       "\n",
       "    .dataframe tbody tr th {\n",
       "        vertical-align: top;\n",
       "    }\n",
       "\n",
       "    .dataframe thead th {\n",
       "        text-align: right;\n",
       "    }\n",
       "</style>\n",
       "<table border=\"1\" class=\"dataframe\">\n",
       "  <thead>\n",
       "    <tr style=\"text-align: right;\">\n",
       "      <th></th>\n",
       "      <th>customer_count</th>\n",
       "      <th>count_pct</th>\n",
       "      <th>total_value</th>\n",
       "      <th>value_pct</th>\n",
       "      <th>clv_mean</th>\n",
       "      <th>clv_median</th>\n",
       "      <th>clv_min</th>\n",
       "      <th>clv_max</th>\n",
       "      <th>range</th>\n",
       "      <th>clv_std</th>\n",
       "    </tr>\n",
       "    <tr>\n",
       "      <th>segment</th>\n",
       "      <th></th>\n",
       "      <th></th>\n",
       "      <th></th>\n",
       "      <th></th>\n",
       "      <th></th>\n",
       "      <th></th>\n",
       "      <th></th>\n",
       "      <th></th>\n",
       "      <th></th>\n",
       "      <th></th>\n",
       "    </tr>\n",
       "  </thead>\n",
       "  <tbody>\n",
       "    <tr>\n",
       "      <th>0</th>\n",
       "      <td>2498</td>\n",
       "      <td>89.0</td>\n",
       "      <td>2391822.0</td>\n",
       "      <td>49.0</td>\n",
       "      <td>957.0</td>\n",
       "      <td>794.0</td>\n",
       "      <td>5.0</td>\n",
       "      <td>2828.0</td>\n",
       "      <td>2822.0</td>\n",
       "      <td>622.0</td>\n",
       "    </tr>\n",
       "    <tr>\n",
       "      <th>4</th>\n",
       "      <td>268</td>\n",
       "      <td>10.0</td>\n",
       "      <td>1269636.0</td>\n",
       "      <td>26.0</td>\n",
       "      <td>4737.0</td>\n",
       "      <td>3965.0</td>\n",
       "      <td>2836.0</td>\n",
       "      <td>14039.0</td>\n",
       "      <td>11203.0</td>\n",
       "      <td>2115.0</td>\n",
       "    </tr>\n",
       "    <tr>\n",
       "      <th>3</th>\n",
       "      <td>23</td>\n",
       "      <td>1.0</td>\n",
       "      <td>551830.0</td>\n",
       "      <td>11.0</td>\n",
       "      <td>23993.0</td>\n",
       "      <td>22180.0</td>\n",
       "      <td>14720.0</td>\n",
       "      <td>46795.0</td>\n",
       "      <td>32075.0</td>\n",
       "      <td>8057.0</td>\n",
       "    </tr>\n",
       "    <tr>\n",
       "      <th>1</th>\n",
       "      <td>5</td>\n",
       "      <td>0.0</td>\n",
       "      <td>386446.0</td>\n",
       "      <td>8.0</td>\n",
       "      <td>77289.0</td>\n",
       "      <td>72988.0</td>\n",
       "      <td>62042.0</td>\n",
       "      <td>101534.0</td>\n",
       "      <td>39492.0</td>\n",
       "      <td>15613.0</td>\n",
       "    </tr>\n",
       "    <tr>\n",
       "      <th>2</th>\n",
       "      <td>2</td>\n",
       "      <td>0.0</td>\n",
       "      <td>284683.0</td>\n",
       "      <td>6.0</td>\n",
       "      <td>142341.0</td>\n",
       "      <td>142341.0</td>\n",
       "      <td>125520.0</td>\n",
       "      <td>159163.0</td>\n",
       "      <td>33643.0</td>\n",
       "      <td>23789.0</td>\n",
       "    </tr>\n",
       "  </tbody>\n",
       "</table>\n",
       "</div>"
      ],
      "text/plain": [
       "         customer_count  count_pct  total_value  value_pct  clv_mean  \\\n",
       "segment                                                                \n",
       "0                  2498       89.0    2391822.0       49.0     957.0   \n",
       "4                   268       10.0    1269636.0       26.0    4737.0   \n",
       "3                    23        1.0     551830.0       11.0   23993.0   \n",
       "1                     5        0.0     386446.0        8.0   77289.0   \n",
       "2                     2        0.0     284683.0        6.0  142341.0   \n",
       "\n",
       "         clv_median   clv_min   clv_max    range  clv_std  \n",
       "segment                                                    \n",
       "0             794.0       5.0    2828.0   2822.0    622.0  \n",
       "4            3965.0    2836.0   14039.0  11203.0   2115.0  \n",
       "3           22180.0   14720.0   46795.0  32075.0   8057.0  \n",
       "1           72988.0   62042.0  101534.0  39492.0  15613.0  \n",
       "2          142341.0  125520.0  159163.0  33643.0  23789.0  "
      ]
     },
     "execution_count": 57,
     "metadata": {},
     "output_type": "execute_result"
    }
   ],
   "source": [
    "# NOTE: KMeans is sensitive to outliers\n",
    "describe_clv(df_clv_kmeans).sort_values(by='clv_max')"
   ]
  }
 ],
 "metadata": {
  "interpreter": {
   "hash": "4a18d240b38172f3f0d5650f5ffd8189e416ee4dfdc4391f64f122ee16bc0ce2"
  },
  "kernelspec": {
   "display_name": "Python 3.9.1 64-bit ('.venv': venv)",
   "language": "python",
   "name": "python3"
  },
  "language_info": {
   "codemirror_mode": {
    "name": "ipython",
    "version": 3
   },
   "file_extension": ".py",
   "mimetype": "text/x-python",
   "name": "python",
   "nbconvert_exporter": "python",
   "pygments_lexer": "ipython3",
   "version": "3.9.1"
  },
  "orig_nbformat": 4
 },
 "nbformat": 4,
 "nbformat_minor": 2
}
