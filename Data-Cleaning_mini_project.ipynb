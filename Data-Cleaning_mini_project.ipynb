{
 "cells": [
  {
   "cell_type": "markdown",
   "metadata": {},
   "source": [
    "## Data Cleaning & Preprocessing"
   ]
  },
  {
   "cell_type": "markdown",
   "metadata": {},
   "source": [
    "Data source: [Kaggle: Brazilian E-Commerce Public Dataset by Olist](https://www.kaggle.com/olistbr/brazilian-ecommerce) and [Kaggle: Marketing Funnel by Olist](https://www.kaggle.com/olistbr/marketing-funnel-olist)\n",
    "\n",
    "#### Project description:\n",
    "Join the data files using the provided schema and perform some data wrangling"
   ]
  },
  {
   "cell_type": "markdown",
   "metadata": {},
   "source": [
    "#### Content\n",
    "1. Importing required libraries\n",
    "2. Loading the datasets, creating dfs & changing dtypes\n",
    "3. Joining datasets\n",
    "\t1. Merging products & category names\n",
    "\t2. Merging gelocations with customers & sellers dfs\n",
    "\t3. Joining ecommerce datasets\n",
    "4. Cleaning sales dataframe\n",
    "\t1. Handling the missing values\n",
    "\t2. checking for duplicates & outliers\n",
    "\t3. Downcasting & saving the outcome\n",
    "5. Joining marketing datasets\n",
    "\t1. Cleaning marketing dataset"
   ]
  },
  {
   "cell_type": "markdown",
   "metadata": {},
   "source": [
    "### Data Schema\n",
    "The data is provided in multiple datasets for better understanding and organization with the following data schema:\n",
    "\n",
    "Overal Schema<br/>\n",
    "<img src=\"https://github.com/mahnoushrodriguez/Data_Science/tree/main/images/images/MKT-Data_schema.png\" alt=\"Data Schema\" width=\"600\"/><br/>\n",
    "\n",
    "e-commerce Schema<br/>\n",
    "<img src=\".//images//Sales_schema.png\" alt=\"e-commerce Schema\" width=\"600\"/>\n",
    "\n",
    "<!-- ![Data Schema](MKT-Data_schema.png 'Data Schema') -->"
   ]
  },
  {
   "cell_type": "markdown",
   "metadata": {},
   "source": [
    "### 1. Importing required libraries"
   ]
  },
  {
   "cell_type": "code",
   "execution_count": 1,
   "metadata": {},
   "outputs": [],
   "source": [
    "import pandas as pd\n",
    "import matplotlib.pyplot as plt\n",
    "import seaborn as sns\n",
    "\n",
    "import warnings\n",
    "warnings.filterwarnings(\"ignore\")\n",
    "import os  # to check file size & join paths\n",
    "import gc # to garbage collect"
   ]
  },
  {
   "cell_type": "code",
   "execution_count": 2,
   "metadata": {},
   "outputs": [
    {
     "name": "stdout",
     "output_type": "stream",
     "text": [
      "c:\\Users\\mahno\\Dropbox\\CBO\\.venv\\Scripts\\python.exe\n"
     ]
    }
   ],
   "source": [
    "# check the venv we are using\n",
    "import sys\n",
    "print(sys.executable)"
   ]
  },
  {
   "cell_type": "markdown",
   "metadata": {},
   "source": [
    "### 2. Loading the datasets, creating dfs & changing dtypes"
   ]
  },
  {
   "cell_type": "code",
   "execution_count": 3,
   "metadata": {},
   "outputs": [],
   "source": [
    "def create_df(file_path, file_name, date_cols, cols_to_change_dtype):\n",
    "    # creating dfs, pasring dates & changing dtypes\n",
    "    df = pd.read_csv(os.path.join(file_path, file_name), parse_dates=date_cols, dtype=cols_to_change_dtype, skipinitialspace=True)\n",
    "    \n",
    "    ## downcasting floats\n",
    "    f_cols= df.select_dtypes(['float', 'float64']).columns\n",
    "    df[f_cols] = df[f_cols].apply(pd.to_numeric, downcast='float')\n",
    "\n",
    "    ## downcasting ints\n",
    "    i_cols = df.select_dtypes(['integer', 'int', 'int32']).columns\n",
    "    df[i_cols] = df[i_cols].apply(pd.to_numeric, downcast='unsigned')\n",
    "\n",
    "    return df"
   ]
  },
  {
   "cell_type": "code",
   "execution_count": 4,
   "metadata": {},
   "outputs": [],
   "source": [
    "# creating dfs\n",
    "ecom = r'.\\Brazilian_E-Commerce'\n",
    "mkt = r'.\\Brazilian_MKT'\n",
    "\n",
    "customers = create_df(ecom, 'olist_customers_dataset.csv', [], {'customer_zip_code_prefix': object})\n",
    "geolocations = create_df(ecom, 'olist_geolocation_dataset.csv', [], {'geolocation_zip_code_prefix': object})\n",
    "items = create_df(ecom, 'olist_order_items_dataset.csv',[4], {})\n",
    "payments = create_df(ecom, 'olist_order_payments_dataset.csv', [], {})\n",
    "reviews = create_df(ecom, 'olist_order_reviews_dataset.csv', [5, 6], {})\n",
    "orders = create_df(ecom, 'olist_orders_dataset.csv', [3, 4, 5, 6, 7], {})\n",
    "products = create_df(ecom, 'olist_products_dataset.csv', [], {})\n",
    "sellers = create_df(ecom, 'olist_sellers_dataset.csv', [], {'seller_zip_code_prefix': object})\n",
    "categories = create_df(ecom, 'product_category_name_translation.csv', [], {})\n",
    "closed_deals = create_df(mkt, 'olist_closed_deals_dataset.csv', [4], {})\n",
    "mql = create_df(mkt, 'olist_marketing_qualified_leads_dataset.csv', [1], {})"
   ]
  },
  {
   "cell_type": "code",
   "execution_count": 5,
   "metadata": {},
   "outputs": [],
   "source": [
    "# returning some df descreptives\n",
    "def check_dfs(dfs):\n",
    "    \n",
    "    dfs_info = pd.DataFrame(columns=['df', 'column', 'count', 'nulls', 'dtype', 'smaple_value'])\n",
    "\n",
    "    for k, v in dfs.items():\n",
    "        df = pd.DataFrame(index=v.columns.values)\n",
    "        df['df'] = k\n",
    "        df['column'] = v.columns.values\n",
    "        df['count'] = v.count()\n",
    "        df['nulls'] = v.isna().sum()\n",
    "        df['dtype'] = v.dtypes\n",
    "        df['smaple_value'] = v.iloc[0]\n",
    "\n",
    "        dfs_info = pd.concat([dfs_info, df], axis=0, ignore_index=True)\n",
    "\n",
    "    return dfs_info"
   ]
  },
  {
   "cell_type": "code",
   "execution_count": 6,
   "metadata": {},
   "outputs": [
    {
     "data": {
      "text/html": [
       "<div>\n",
       "<style scoped>\n",
       "    .dataframe tbody tr th:only-of-type {\n",
       "        vertical-align: middle;\n",
       "    }\n",
       "\n",
       "    .dataframe tbody tr th {\n",
       "        vertical-align: top;\n",
       "    }\n",
       "\n",
       "    .dataframe thead th {\n",
       "        text-align: right;\n",
       "    }\n",
       "</style>\n",
       "<table border=\"1\" class=\"dataframe\">\n",
       "  <thead>\n",
       "    <tr style=\"text-align: right;\">\n",
       "      <th></th>\n",
       "      <th>df</th>\n",
       "      <th>column</th>\n",
       "      <th>count</th>\n",
       "      <th>nulls</th>\n",
       "      <th>dtype</th>\n",
       "      <th>smaple_value</th>\n",
       "    </tr>\n",
       "  </thead>\n",
       "  <tbody>\n",
       "    <tr>\n",
       "      <th>0</th>\n",
       "      <td>customers</td>\n",
       "      <td>customer_id</td>\n",
       "      <td>99441</td>\n",
       "      <td>0</td>\n",
       "      <td>object</td>\n",
       "      <td>06b8999e2fba1a1fbc88172c00ba8bc7</td>\n",
       "    </tr>\n",
       "    <tr>\n",
       "      <th>1</th>\n",
       "      <td>customers</td>\n",
       "      <td>customer_unique_id</td>\n",
       "      <td>99441</td>\n",
       "      <td>0</td>\n",
       "      <td>object</td>\n",
       "      <td>861eff4711a542e4b93843c6dd7febb0</td>\n",
       "    </tr>\n",
       "    <tr>\n",
       "      <th>2</th>\n",
       "      <td>customers</td>\n",
       "      <td>customer_zip_code_prefix</td>\n",
       "      <td>99441</td>\n",
       "      <td>0</td>\n",
       "      <td>object</td>\n",
       "      <td>14409</td>\n",
       "    </tr>\n",
       "    <tr>\n",
       "      <th>3</th>\n",
       "      <td>customers</td>\n",
       "      <td>customer_city</td>\n",
       "      <td>99441</td>\n",
       "      <td>0</td>\n",
       "      <td>object</td>\n",
       "      <td>franca</td>\n",
       "    </tr>\n",
       "    <tr>\n",
       "      <th>4</th>\n",
       "      <td>customers</td>\n",
       "      <td>customer_state</td>\n",
       "      <td>99441</td>\n",
       "      <td>0</td>\n",
       "      <td>object</td>\n",
       "      <td>SP</td>\n",
       "    </tr>\n",
       "    <tr>\n",
       "      <th>...</th>\n",
       "      <td>...</td>\n",
       "      <td>...</td>\n",
       "      <td>...</td>\n",
       "      <td>...</td>\n",
       "      <td>...</td>\n",
       "      <td>...</td>\n",
       "    </tr>\n",
       "    <tr>\n",
       "      <th>65</th>\n",
       "      <td>closed_deals</td>\n",
       "      <td>declared_monthly_revenue</td>\n",
       "      <td>842</td>\n",
       "      <td>0</td>\n",
       "      <td>float32</td>\n",
       "      <td>0.0</td>\n",
       "    </tr>\n",
       "    <tr>\n",
       "      <th>66</th>\n",
       "      <td>mql</td>\n",
       "      <td>mql_id</td>\n",
       "      <td>8000</td>\n",
       "      <td>0</td>\n",
       "      <td>object</td>\n",
       "      <td>dac32acd4db4c29c230538b72f8dd87d</td>\n",
       "    </tr>\n",
       "    <tr>\n",
       "      <th>67</th>\n",
       "      <td>mql</td>\n",
       "      <td>first_contact_date</td>\n",
       "      <td>8000</td>\n",
       "      <td>0</td>\n",
       "      <td>datetime64[ns]</td>\n",
       "      <td>2018-02-01 00:00:00</td>\n",
       "    </tr>\n",
       "    <tr>\n",
       "      <th>68</th>\n",
       "      <td>mql</td>\n",
       "      <td>landing_page_id</td>\n",
       "      <td>8000</td>\n",
       "      <td>0</td>\n",
       "      <td>object</td>\n",
       "      <td>88740e65d5d6b056e0cda098e1ea6313</td>\n",
       "    </tr>\n",
       "    <tr>\n",
       "      <th>69</th>\n",
       "      <td>mql</td>\n",
       "      <td>origin</td>\n",
       "      <td>7940</td>\n",
       "      <td>60</td>\n",
       "      <td>object</td>\n",
       "      <td>social</td>\n",
       "    </tr>\n",
       "  </tbody>\n",
       "</table>\n",
       "<p>70 rows × 6 columns</p>\n",
       "</div>"
      ],
      "text/plain": [
       "              df                    column  count nulls           dtype  \\\n",
       "0      customers               customer_id  99441     0          object   \n",
       "1      customers        customer_unique_id  99441     0          object   \n",
       "2      customers  customer_zip_code_prefix  99441     0          object   \n",
       "3      customers             customer_city  99441     0          object   \n",
       "4      customers            customer_state  99441     0          object   \n",
       "..           ...                       ...    ...   ...             ...   \n",
       "65  closed_deals  declared_monthly_revenue    842     0         float32   \n",
       "66           mql                    mql_id   8000     0          object   \n",
       "67           mql        first_contact_date   8000     0  datetime64[ns]   \n",
       "68           mql           landing_page_id   8000     0          object   \n",
       "69           mql                    origin   7940    60          object   \n",
       "\n",
       "                        smaple_value  \n",
       "0   06b8999e2fba1a1fbc88172c00ba8bc7  \n",
       "1   861eff4711a542e4b93843c6dd7febb0  \n",
       "2                              14409  \n",
       "3                             franca  \n",
       "4                                 SP  \n",
       "..                               ...  \n",
       "65                               0.0  \n",
       "66  dac32acd4db4c29c230538b72f8dd87d  \n",
       "67               2018-02-01 00:00:00  \n",
       "68  88740e65d5d6b056e0cda098e1ea6313  \n",
       "69                            social  \n",
       "\n",
       "[70 rows x 6 columns]"
      ]
     },
     "execution_count": 6,
     "metadata": {},
     "output_type": "execute_result"
    }
   ],
   "source": [
    "# quick check of dfs\n",
    "dfs = {\n",
    "    'customers': customers, 'geolocations': geolocations, 'items': items, 'payments': payments, 'reviews': reviews, \n",
    "    'orders': orders, 'products': products, 'sellers': sellers, 'categories': categories, 'closed_deals': closed_deals, 'mql': mql\n",
    "}\n",
    "\n",
    "check_dfs(dfs)"
   ]
  },
  {
   "cell_type": "markdown",
   "metadata": {},
   "source": [
    "### 3. Joining datasets"
   ]
  },
  {
   "cell_type": "markdown",
   "metadata": {},
   "source": [
    "#### 3.1. Merging products & category names\n",
    "\n",
    "We keep all the data in products and left join on categories. We will end up with a few products with no category name associated with them."
   ]
  },
  {
   "cell_type": "code",
   "execution_count": 7,
   "metadata": {},
   "outputs": [
    {
     "data": {
      "image/png": "[encoded data removed]",
      "text/plain": [
       "<Figure size 432x288 with 2 Axes>"
      ]
     },
     "metadata": {
      "needs_background": "light"
     },
     "output_type": "display_data"
    }
   ],
   "source": [
    "# we have a few products with no assigned categories.\n",
    "products_cat = pd.merge(products, categories, on='product_category_name', how='left').drop(columns=['product_category_name'])\n",
    "\n",
    "sns.heatmap(products_cat.notna())\n",
    "plt.show()"
   ]
  },
  {
   "cell_type": "code",
   "execution_count": 8,
   "metadata": {},
   "outputs": [
    {
     "data": {
      "text/plain": [
       "6508"
      ]
     },
     "execution_count": 8,
     "metadata": {},
     "output_type": "execute_result"
    }
   ],
   "source": [
    "# we don't need below dfs anymore, so we delete them for memory efficiency\n",
    "del categories\n",
    "del products\n",
    "del dfs\n",
    "\n",
    "gc.collect()"
   ]
  },
  {
   "cell_type": "markdown",
   "metadata": {},
   "source": [
    "#### 3.2. Merging gelocations with customers & sellers\n",
    "Strategy: we keep customers & sellers dfs and left join geolocation data to enrich both dfs.<br/>\n",
    "The geolocation dataset provides multiple lat, long info for each zip code prefix.<br/>\n",
    "We take the average of lat, long for each zip code prefix and then left join it to the sellers and customers dfs.<br/>"
   ]
  },
  {
   "cell_type": "code",
   "execution_count": 9,
   "metadata": {},
   "outputs": [
    {
     "data": {
      "text/html": [
       "<div>\n",
       "<style scoped>\n",
       "    .dataframe tbody tr th:only-of-type {\n",
       "        vertical-align: middle;\n",
       "    }\n",
       "\n",
       "    .dataframe tbody tr th {\n",
       "        vertical-align: top;\n",
       "    }\n",
       "\n",
       "    .dataframe thead th {\n",
       "        text-align: right;\n",
       "    }\n",
       "</style>\n",
       "<table border=\"1\" class=\"dataframe\">\n",
       "  <thead>\n",
       "    <tr style=\"text-align: right;\">\n",
       "      <th></th>\n",
       "      <th>geolocation_zip_code_prefix</th>\n",
       "      <th>geolocation_lat</th>\n",
       "      <th>geolocation_lng</th>\n",
       "      <th>geolocation_city</th>\n",
       "      <th>geolocation_state</th>\n",
       "    </tr>\n",
       "  </thead>\n",
       "  <tbody>\n",
       "    <tr>\n",
       "      <th>0</th>\n",
       "      <td>01037</td>\n",
       "      <td>-23.545622</td>\n",
       "      <td>-46.639294</td>\n",
       "      <td>sao paulo</td>\n",
       "      <td>SP</td>\n",
       "    </tr>\n",
       "    <tr>\n",
       "      <th>1</th>\n",
       "      <td>01046</td>\n",
       "      <td>-23.546082</td>\n",
       "      <td>-46.644821</td>\n",
       "      <td>sao paulo</td>\n",
       "      <td>SP</td>\n",
       "    </tr>\n",
       "    <tr>\n",
       "      <th>2</th>\n",
       "      <td>01046</td>\n",
       "      <td>-23.546129</td>\n",
       "      <td>-46.642952</td>\n",
       "      <td>sao paulo</td>\n",
       "      <td>SP</td>\n",
       "    </tr>\n",
       "    <tr>\n",
       "      <th>3</th>\n",
       "      <td>01041</td>\n",
       "      <td>-23.544392</td>\n",
       "      <td>-46.639500</td>\n",
       "      <td>sao paulo</td>\n",
       "      <td>SP</td>\n",
       "    </tr>\n",
       "    <tr>\n",
       "      <th>4</th>\n",
       "      <td>01035</td>\n",
       "      <td>-23.541578</td>\n",
       "      <td>-46.641605</td>\n",
       "      <td>sao paulo</td>\n",
       "      <td>SP</td>\n",
       "    </tr>\n",
       "  </tbody>\n",
       "</table>\n",
       "</div>"
      ],
      "text/plain": [
       "  geolocation_zip_code_prefix  geolocation_lat  geolocation_lng  \\\n",
       "0                       01037       -23.545622       -46.639294   \n",
       "1                       01046       -23.546082       -46.644821   \n",
       "2                       01046       -23.546129       -46.642952   \n",
       "3                       01041       -23.544392       -46.639500   \n",
       "4                       01035       -23.541578       -46.641605   \n",
       "\n",
       "  geolocation_city geolocation_state  \n",
       "0        sao paulo                SP  \n",
       "1        sao paulo                SP  \n",
       "2        sao paulo                SP  \n",
       "3        sao paulo                SP  \n",
       "4        sao paulo                SP  "
      ]
     },
     "execution_count": 9,
     "metadata": {},
     "output_type": "execute_result"
    }
   ],
   "source": [
    "geolocations.head()"
   ]
  },
  {
   "cell_type": "code",
   "execution_count": 10,
   "metadata": {},
   "outputs": [],
   "source": [
    "# grouping by zip code\n",
    "geolocations_grouped = geolocations.groupby(['geolocation_zip_code_prefix', 'geolocation_city', 'geolocation_state']).agg({\n",
    "    'geolocation_lat':'mean', 'geolocation_lng':'mean'}).reset_index()"
   ]
  },
  {
   "cell_type": "code",
   "execution_count": 15,
   "metadata": {},
   "outputs": [],
   "source": [
    "# ditribution of latitudes and longitudes\n",
    "def show_map(df, lng_col, lat_col):   \n",
    "    \n",
    "    img = plt.imread('.\\images\\world-map.png')\n",
    "    fig, ax = plt.subplots(figsize=(12, 6))\n",
    "    sns.scatterplot(data= df, x=df[lng_col], y=df[lat_col])\n",
    "    ax.imshow(img, extent=[-130, 150, -60, 90], aspect='auto')\n",
    "    ax.set_title('Geolocation map of data points', fontsize=14)\n",
    "    plt.show()"
   ]
  },
  {
   "cell_type": "code",
   "execution_count": 16,
   "metadata": {},
   "outputs": [
    {
     "data": {
      "image/png": "[encoded data removed]",
      "text/plain": [
       "<Figure size 864x432 with 1 Axes>"
      ]
     },
     "metadata": {
      "needs_background": "light"
     },
     "output_type": "display_data"
    }
   ],
   "source": [
    "# we have a few points out of Brazil\n",
    "show_map(geolocations_grouped, 'geolocation_lng', 'geolocation_lat')"
   ]
  },
  {
   "cell_type": "markdown",
   "metadata": {},
   "source": [
    "We remove the outliers that fall out of Brazilian territory"
   ]
  },
  {
   "cell_type": "code",
   "execution_count": 17,
   "metadata": {},
   "outputs": [],
   "source": [
    "# Brazils is confined within below latitudes and longitudes:\n",
    "min_lat = -33.75116944\n",
    "max_lat = 5.27438888\n",
    "min_lang = -73.98283055\n",
    "max_lang = -34.79314722\n",
    "\n",
    "lat_mask = (geolocations_grouped.geolocation_lng >= min_lang) & (geolocations_grouped.geolocation_lng <= max_lang)\n",
    "lng_mask = (geolocations_grouped.geolocation_lat >= min_lat) & (geolocations_grouped.geolocation_lat <= max_lat)\n",
    "\n",
    "geolocations_grouped = geolocations_grouped.loc[lat_mask & lng_mask, :]"
   ]
  },
  {
   "cell_type": "code",
   "execution_count": 18,
   "metadata": {},
   "outputs": [
    {
     "data": {
      "image/png": "[encoded data removed]",
      "text/plain": [
       "<Figure size 864x432 with 1 Axes>"
      ]
     },
     "metadata": {
      "needs_background": "light"
     },
     "output_type": "display_data"
    }
   ],
   "source": [
    "show_map(geolocations_grouped, 'geolocation_lng', 'geolocation_lat')"
   ]
  },
  {
   "cell_type": "markdown",
   "metadata": {},
   "source": [
    "Cleaning the sellers dataset"
   ]
  },
  {
   "cell_type": "code",
   "execution_count": 19,
   "metadata": {},
   "outputs": [],
   "source": [
    "# there is a mistmatch between geolocations data and sellers & customers\n",
    "# for simplicity, we assume geolocations data is the source of truth and change some of the sellers data to match it\n",
    "# doing some cleaning in the sellers dataset\n",
    "\n",
    "cities_to_replace = {'riberao preto': 'ribeirão preto', 'santa barbara d´oeste': 'santa barbara d\\'oeste', 'sao paulo - sp': 'sao paulo', 's jose do rio preto': 'sao jose do rio preto', 'scao jose do rio pardo':'sao jose do rio pardo', 'sao  paulo': 'sao paulo', 'andira-pr': 'andirá', 'brejao': 'brejão', 'ribeirao preto / sao paulo': 'ribeirao preto', 'vendas@creditparts.com.br': 'maringa', 'vicente de carvalho': 'guaruja', 'pirituba': 'sao paulo', 'andirá': 'barra do jacare', 'gama': 'brasilia', 'sao paulo / sao paulo': 'sao paulo', 'garulhos': 'guarulhos'}\n",
    "sellers.replace({'seller_city' : cities_to_replace}, inplace=True)\n",
    "\n",
    "sellers.loc[sellers.seller_city == 'volta redonda', 'seller_state'] = 'RJ'\n",
    "sellers.loc[sellers.seller_city == 'itajai', 'seller_state'] = 'SC'\n",
    "sellers.loc[sellers.seller_city == 'belo horizonte', 'seller_state'] = 'MG'\n",
    "sellers.loc[sellers.seller_city == 'florianopolis', 'seller_state'] = 'SC'\n",
    "\n",
    "sellers.loc[[1233, 1905, 2510], 'seller_state'] = 'PR'\n",
    "sellers.loc[1656, 'seller_state'] = 'MG'\n",
    "sellers.loc[874, 'seller_city'] = 'arraial d\\'ajuda'\n",
    "\n",
    "sellers.loc[sellers.seller_zip_code_prefix == '86385', 'seller_city'] = 'barra do jacare'\n",
    "sellers.loc[sellers.seller_zip_code_prefix == '12903', 'seller_city'] = 'bragança paulista'\n",
    "sellers.loc[sellers.seller_zip_code_prefix == '04776', 'seller_city'] = 'sao paulo'\n",
    "sellers.loc[sellers.seller_zip_code_prefix == '05141', 'seller_city'] = 'sao paulo'\n",
    "sellers.loc[sellers.seller_zip_code_prefix == '16021', 'seller_city'] = 'aracatuba'"
   ]
  },
  {
   "cell_type": "markdown",
   "metadata": {},
   "source": [
    "We add location coordinates to sellers and customers datasets from the geolocation dataset"
   ]
  },
  {
   "cell_type": "code",
   "execution_count": 20,
   "metadata": {},
   "outputs": [
    {
     "data": {
      "text/html": [
       "<div>\n",
       "<style scoped>\n",
       "    .dataframe tbody tr th:only-of-type {\n",
       "        vertical-align: middle;\n",
       "    }\n",
       "\n",
       "    .dataframe tbody tr th {\n",
       "        vertical-align: top;\n",
       "    }\n",
       "\n",
       "    .dataframe thead th {\n",
       "        text-align: right;\n",
       "    }\n",
       "</style>\n",
       "<table border=\"1\" class=\"dataframe\">\n",
       "  <thead>\n",
       "    <tr style=\"text-align: right;\">\n",
       "      <th></th>\n",
       "      <th>df</th>\n",
       "      <th>column</th>\n",
       "      <th>count</th>\n",
       "      <th>nulls</th>\n",
       "      <th>dtype</th>\n",
       "      <th>smaple_value</th>\n",
       "    </tr>\n",
       "  </thead>\n",
       "  <tbody>\n",
       "    <tr>\n",
       "      <th>0</th>\n",
       "      <td>customers_geo</td>\n",
       "      <td>customer_id</td>\n",
       "      <td>99441</td>\n",
       "      <td>0</td>\n",
       "      <td>object</td>\n",
       "      <td>06b8999e2fba1a1fbc88172c00ba8bc7</td>\n",
       "    </tr>\n",
       "    <tr>\n",
       "      <th>1</th>\n",
       "      <td>customers_geo</td>\n",
       "      <td>customer_unique_id</td>\n",
       "      <td>99441</td>\n",
       "      <td>0</td>\n",
       "      <td>object</td>\n",
       "      <td>861eff4711a542e4b93843c6dd7febb0</td>\n",
       "    </tr>\n",
       "    <tr>\n",
       "      <th>2</th>\n",
       "      <td>customers_geo</td>\n",
       "      <td>customer_zip_code_prefix</td>\n",
       "      <td>99441</td>\n",
       "      <td>0</td>\n",
       "      <td>object</td>\n",
       "      <td>14409</td>\n",
       "    </tr>\n",
       "    <tr>\n",
       "      <th>3</th>\n",
       "      <td>customers_geo</td>\n",
       "      <td>customer_city</td>\n",
       "      <td>99441</td>\n",
       "      <td>0</td>\n",
       "      <td>object</td>\n",
       "      <td>franca</td>\n",
       "    </tr>\n",
       "    <tr>\n",
       "      <th>4</th>\n",
       "      <td>customers_geo</td>\n",
       "      <td>customer_state</td>\n",
       "      <td>99441</td>\n",
       "      <td>0</td>\n",
       "      <td>object</td>\n",
       "      <td>SP</td>\n",
       "    </tr>\n",
       "    <tr>\n",
       "      <th>5</th>\n",
       "      <td>customers_geo</td>\n",
       "      <td>customer_geo_lat</td>\n",
       "      <td>99112</td>\n",
       "      <td>329</td>\n",
       "      <td>float32</td>\n",
       "      <td>-20.498489</td>\n",
       "    </tr>\n",
       "    <tr>\n",
       "      <th>6</th>\n",
       "      <td>customers_geo</td>\n",
       "      <td>customer_geo_lng</td>\n",
       "      <td>99112</td>\n",
       "      <td>329</td>\n",
       "      <td>float32</td>\n",
       "      <td>-47.396931</td>\n",
       "    </tr>\n",
       "    <tr>\n",
       "      <th>7</th>\n",
       "      <td>sellers_geo</td>\n",
       "      <td>seller_id</td>\n",
       "      <td>3095</td>\n",
       "      <td>0</td>\n",
       "      <td>object</td>\n",
       "      <td>3442f8959a84dea7ee197c632cb2df15</td>\n",
       "    </tr>\n",
       "    <tr>\n",
       "      <th>8</th>\n",
       "      <td>sellers_geo</td>\n",
       "      <td>seller_zip_code_prefix</td>\n",
       "      <td>3095</td>\n",
       "      <td>0</td>\n",
       "      <td>object</td>\n",
       "      <td>13023</td>\n",
       "    </tr>\n",
       "    <tr>\n",
       "      <th>9</th>\n",
       "      <td>sellers_geo</td>\n",
       "      <td>seller_city</td>\n",
       "      <td>3095</td>\n",
       "      <td>0</td>\n",
       "      <td>object</td>\n",
       "      <td>campinas</td>\n",
       "    </tr>\n",
       "    <tr>\n",
       "      <th>10</th>\n",
       "      <td>sellers_geo</td>\n",
       "      <td>seller_state</td>\n",
       "      <td>3095</td>\n",
       "      <td>0</td>\n",
       "      <td>object</td>\n",
       "      <td>SP</td>\n",
       "    </tr>\n",
       "    <tr>\n",
       "      <th>11</th>\n",
       "      <td>sellers_geo</td>\n",
       "      <td>seller_geo_lat</td>\n",
       "      <td>2991</td>\n",
       "      <td>104</td>\n",
       "      <td>float32</td>\n",
       "      <td>-22.893848</td>\n",
       "    </tr>\n",
       "    <tr>\n",
       "      <th>12</th>\n",
       "      <td>sellers_geo</td>\n",
       "      <td>seller_geo_lng</td>\n",
       "      <td>2991</td>\n",
       "      <td>104</td>\n",
       "      <td>float32</td>\n",
       "      <td>-47.061337</td>\n",
       "    </tr>\n",
       "  </tbody>\n",
       "</table>\n",
       "</div>"
      ],
      "text/plain": [
       "               df                    column  count nulls    dtype  \\\n",
       "0   customers_geo               customer_id  99441     0   object   \n",
       "1   customers_geo        customer_unique_id  99441     0   object   \n",
       "2   customers_geo  customer_zip_code_prefix  99441     0   object   \n",
       "3   customers_geo             customer_city  99441     0   object   \n",
       "4   customers_geo            customer_state  99441     0   object   \n",
       "5   customers_geo          customer_geo_lat  99112   329  float32   \n",
       "6   customers_geo          customer_geo_lng  99112   329  float32   \n",
       "7     sellers_geo                 seller_id   3095     0   object   \n",
       "8     sellers_geo    seller_zip_code_prefix   3095     0   object   \n",
       "9     sellers_geo               seller_city   3095     0   object   \n",
       "10    sellers_geo              seller_state   3095     0   object   \n",
       "11    sellers_geo            seller_geo_lat   2991   104  float32   \n",
       "12    sellers_geo            seller_geo_lng   2991   104  float32   \n",
       "\n",
       "                        smaple_value  \n",
       "0   06b8999e2fba1a1fbc88172c00ba8bc7  \n",
       "1   861eff4711a542e4b93843c6dd7febb0  \n",
       "2                              14409  \n",
       "3                             franca  \n",
       "4                                 SP  \n",
       "5                         -20.498489  \n",
       "6                         -47.396931  \n",
       "7   3442f8959a84dea7ee197c632cb2df15  \n",
       "8                              13023  \n",
       "9                           campinas  \n",
       "10                                SP  \n",
       "11                        -22.893848  \n",
       "12                        -47.061337  "
      ]
     },
     "execution_count": 20,
     "metadata": {},
     "output_type": "execute_result"
    }
   ],
   "source": [
    "# merging geolocation data\n",
    "customers_geo = pd.merge(customers, geolocations_grouped, left_on= ['customer_zip_code_prefix', 'customer_city', 'customer_state'], right_on=['geolocation_zip_code_prefix', 'geolocation_city', 'geolocation_state'], how='left', validate='m:1').drop(columns=['geolocation_zip_code_prefix', 'geolocation_city', 'geolocation_state'])\n",
    "sellers_geo = pd.merge(sellers, geolocations_grouped, left_on= ['seller_zip_code_prefix', 'seller_city', 'seller_state'], right_on=['geolocation_zip_code_prefix', 'geolocation_city', 'geolocation_state'], how='left', validate='m:1').drop(columns=['geolocation_zip_code_prefix', 'geolocation_city', 'geolocation_state'])\n",
    "\n",
    "customers_geo.rename(columns={'geolocation_lat': 'customer_geo_lat', 'geolocation_lng': 'customer_geo_lng'}, inplace=True)\n",
    "sellers_geo.rename(columns={'geolocation_lat': 'seller_geo_lat', 'geolocation_lng': 'seller_geo_lng'}, inplace=True)\n",
    "\n",
    "check_dfs({'customers_geo': customers_geo, 'sellers_geo':sellers_geo})"
   ]
  },
  {
   "cell_type": "code",
   "execution_count": 21,
   "metadata": {},
   "outputs": [
    {
     "data": {
      "text/plain": [
       "10329"
      ]
     },
     "execution_count": 21,
     "metadata": {},
     "output_type": "execute_result"
    }
   ],
   "source": [
    "# # we don't need below dfs anymore, so we delete them for memory efficiency\n",
    "del geolocations\n",
    "del geolocations_grouped\n",
    "del customers\n",
    "del sellers\n",
    "\n",
    "gc.collect()"
   ]
  },
  {
   "cell_type": "markdown",
   "metadata": {},
   "source": [
    "#### 3.3. Joining ecommerce datasets"
   ]
  },
  {
   "cell_type": "markdown",
   "metadata": {},
   "source": [
    "We are concerned with data related to orders, so we keep orders_dataset as the centerpiece and left join all the other datasets. (however, in this dataset, left join and outer join yield the same result) then we can deal with the missing values based on application."
   ]
  },
  {
   "cell_type": "code",
   "execution_count": 22,
   "metadata": {},
   "outputs": [],
   "source": [
    "# merging dfs\n",
    "sales = pd.merge(orders, items, on='order_id', how='inner')\n",
    "sales = pd.merge(sales, payments, on='order_id', how='inner')\n",
    "sales = pd.merge(sales, reviews, on='order_id', how='inner')\n",
    "sales = pd.merge(sales, products_cat, on='product_id', how='inner')\n",
    "sales = pd.merge(sales, customers_geo, on='customer_id', how='inner')\n",
    "sales = pd.merge(sales, sellers_geo, on='seller_id', how='inner')"
   ]
  },
  {
   "cell_type": "markdown",
   "metadata": {},
   "source": [
    "We downcast the numerical data for memory efficiency"
   ]
  },
  {
   "cell_type": "code",
   "execution_count": 23,
   "metadata": {},
   "outputs": [],
   "source": [
    "# below columns contain Nan values so can not be converted to int or unit8 therefore we downcast to float32\n",
    "\n",
    "convert_list = ['product_name_lenght', 'product_description_lenght', 'product_photos_qty', 'order_item_id', 'payment_sequential', 'payment_installments','review_score']\n",
    "sales[convert_list] = sales[convert_list].astype('float32')"
   ]
  },
  {
   "cell_type": "code",
   "execution_count": 24,
   "metadata": {},
   "outputs": [
    {
     "data": {
      "text/plain": [
       "117329"
      ]
     },
     "execution_count": 24,
     "metadata": {},
     "output_type": "execute_result"
    }
   ],
   "source": [
    "sales_initial_length = len(sales)\n",
    "sales_initial_length"
   ]
  },
  {
   "cell_type": "markdown",
   "metadata": {},
   "source": [
    "### 4. Cleaning sales dataframe"
   ]
  },
  {
   "cell_type": "code",
   "execution_count": 25,
   "metadata": {},
   "outputs": [
    {
     "data": {
      "text/html": [
       "<div>\n",
       "<style scoped>\n",
       "    .dataframe tbody tr th:only-of-type {\n",
       "        vertical-align: middle;\n",
       "    }\n",
       "\n",
       "    .dataframe tbody tr th {\n",
       "        vertical-align: top;\n",
       "    }\n",
       "\n",
       "    .dataframe thead th {\n",
       "        text-align: right;\n",
       "    }\n",
       "</style>\n",
       "<table border=\"1\" class=\"dataframe\">\n",
       "  <thead>\n",
       "    <tr style=\"text-align: right;\">\n",
       "      <th></th>\n",
       "      <th>column</th>\n",
       "      <th>count</th>\n",
       "      <th>nulls</th>\n",
       "      <th>dtype</th>\n",
       "      <th>smaple_value</th>\n",
       "    </tr>\n",
       "  </thead>\n",
       "  <tbody>\n",
       "    <tr>\n",
       "      <th>0</th>\n",
       "      <td>order_id</td>\n",
       "      <td>117329</td>\n",
       "      <td>0</td>\n",
       "      <td>object</td>\n",
       "      <td>e481f51cbdc54678b7cc49136f2d6af7</td>\n",
       "    </tr>\n",
       "    <tr>\n",
       "      <th>1</th>\n",
       "      <td>customer_id</td>\n",
       "      <td>117329</td>\n",
       "      <td>0</td>\n",
       "      <td>object</td>\n",
       "      <td>9ef432eb6251297304e76186b10a928d</td>\n",
       "    </tr>\n",
       "    <tr>\n",
       "      <th>2</th>\n",
       "      <td>order_status</td>\n",
       "      <td>117329</td>\n",
       "      <td>0</td>\n",
       "      <td>object</td>\n",
       "      <td>delivered</td>\n",
       "    </tr>\n",
       "    <tr>\n",
       "      <th>3</th>\n",
       "      <td>order_purchase_timestamp</td>\n",
       "      <td>117329</td>\n",
       "      <td>0</td>\n",
       "      <td>datetime64[ns]</td>\n",
       "      <td>2017-10-02 10:56:33</td>\n",
       "    </tr>\n",
       "    <tr>\n",
       "      <th>4</th>\n",
       "      <td>order_approved_at</td>\n",
       "      <td>117314</td>\n",
       "      <td>15</td>\n",
       "      <td>datetime64[ns]</td>\n",
       "      <td>2017-10-02 11:07:15</td>\n",
       "    </tr>\n",
       "    <tr>\n",
       "      <th>5</th>\n",
       "      <td>order_delivered_carrier_date</td>\n",
       "      <td>116094</td>\n",
       "      <td>1235</td>\n",
       "      <td>datetime64[ns]</td>\n",
       "      <td>2017-10-04 19:55:00</td>\n",
       "    </tr>\n",
       "    <tr>\n",
       "      <th>6</th>\n",
       "      <td>order_delivered_customer_date</td>\n",
       "      <td>114858</td>\n",
       "      <td>2471</td>\n",
       "      <td>datetime64[ns]</td>\n",
       "      <td>2017-10-10 21:25:13</td>\n",
       "    </tr>\n",
       "    <tr>\n",
       "      <th>7</th>\n",
       "      <td>order_estimated_delivery_date</td>\n",
       "      <td>117329</td>\n",
       "      <td>0</td>\n",
       "      <td>datetime64[ns]</td>\n",
       "      <td>2017-10-18 00:00:00</td>\n",
       "    </tr>\n",
       "    <tr>\n",
       "      <th>8</th>\n",
       "      <td>order_item_id</td>\n",
       "      <td>117329</td>\n",
       "      <td>0</td>\n",
       "      <td>float32</td>\n",
       "      <td>1.0</td>\n",
       "    </tr>\n",
       "    <tr>\n",
       "      <th>9</th>\n",
       "      <td>product_id</td>\n",
       "      <td>117329</td>\n",
       "      <td>0</td>\n",
       "      <td>object</td>\n",
       "      <td>87285b34884572647811a353c7ac498a</td>\n",
       "    </tr>\n",
       "    <tr>\n",
       "      <th>10</th>\n",
       "      <td>seller_id</td>\n",
       "      <td>117329</td>\n",
       "      <td>0</td>\n",
       "      <td>object</td>\n",
       "      <td>3504c0cb71d7fa48d967e0e4c94d59d9</td>\n",
       "    </tr>\n",
       "    <tr>\n",
       "      <th>11</th>\n",
       "      <td>shipping_limit_date</td>\n",
       "      <td>117329</td>\n",
       "      <td>0</td>\n",
       "      <td>datetime64[ns]</td>\n",
       "      <td>2017-10-06 11:07:15</td>\n",
       "    </tr>\n",
       "    <tr>\n",
       "      <th>12</th>\n",
       "      <td>price</td>\n",
       "      <td>117329</td>\n",
       "      <td>0</td>\n",
       "      <td>float32</td>\n",
       "      <td>29.99</td>\n",
       "    </tr>\n",
       "    <tr>\n",
       "      <th>13</th>\n",
       "      <td>freight_value</td>\n",
       "      <td>117329</td>\n",
       "      <td>0</td>\n",
       "      <td>float32</td>\n",
       "      <td>8.72</td>\n",
       "    </tr>\n",
       "    <tr>\n",
       "      <th>14</th>\n",
       "      <td>payment_sequential</td>\n",
       "      <td>117329</td>\n",
       "      <td>0</td>\n",
       "      <td>float32</td>\n",
       "      <td>1.0</td>\n",
       "    </tr>\n",
       "    <tr>\n",
       "      <th>15</th>\n",
       "      <td>payment_type</td>\n",
       "      <td>117329</td>\n",
       "      <td>0</td>\n",
       "      <td>object</td>\n",
       "      <td>credit_card</td>\n",
       "    </tr>\n",
       "    <tr>\n",
       "      <th>16</th>\n",
       "      <td>payment_installments</td>\n",
       "      <td>117329</td>\n",
       "      <td>0</td>\n",
       "      <td>float32</td>\n",
       "      <td>1.0</td>\n",
       "    </tr>\n",
       "    <tr>\n",
       "      <th>17</th>\n",
       "      <td>payment_value</td>\n",
       "      <td>117329</td>\n",
       "      <td>0</td>\n",
       "      <td>float32</td>\n",
       "      <td>18.120001</td>\n",
       "    </tr>\n",
       "    <tr>\n",
       "      <th>18</th>\n",
       "      <td>review_id</td>\n",
       "      <td>117329</td>\n",
       "      <td>0</td>\n",
       "      <td>object</td>\n",
       "      <td>a54f0611adc9ed256b57ede6b6eb5114</td>\n",
       "    </tr>\n",
       "    <tr>\n",
       "      <th>19</th>\n",
       "      <td>review_score</td>\n",
       "      <td>117329</td>\n",
       "      <td>0</td>\n",
       "      <td>float32</td>\n",
       "      <td>4.0</td>\n",
       "    </tr>\n",
       "    <tr>\n",
       "      <th>20</th>\n",
       "      <td>review_comment_title</td>\n",
       "      <td>13890</td>\n",
       "      <td>103439</td>\n",
       "      <td>object</td>\n",
       "      <td>NaN</td>\n",
       "    </tr>\n",
       "    <tr>\n",
       "      <th>21</th>\n",
       "      <td>review_comment_message</td>\n",
       "      <td>49670</td>\n",
       "      <td>67659</td>\n",
       "      <td>object</td>\n",
       "      <td>Não testei o produto ainda, mas ele veio corre...</td>\n",
       "    </tr>\n",
       "    <tr>\n",
       "      <th>22</th>\n",
       "      <td>review_creation_date</td>\n",
       "      <td>117329</td>\n",
       "      <td>0</td>\n",
       "      <td>datetime64[ns]</td>\n",
       "      <td>2017-10-11 00:00:00</td>\n",
       "    </tr>\n",
       "    <tr>\n",
       "      <th>23</th>\n",
       "      <td>review_answer_timestamp</td>\n",
       "      <td>117329</td>\n",
       "      <td>0</td>\n",
       "      <td>datetime64[ns]</td>\n",
       "      <td>2017-10-12 03:43:48</td>\n",
       "    </tr>\n",
       "    <tr>\n",
       "      <th>24</th>\n",
       "      <td>product_name_lenght</td>\n",
       "      <td>115634</td>\n",
       "      <td>1695</td>\n",
       "      <td>float32</td>\n",
       "      <td>40.0</td>\n",
       "    </tr>\n",
       "    <tr>\n",
       "      <th>25</th>\n",
       "      <td>product_description_lenght</td>\n",
       "      <td>115634</td>\n",
       "      <td>1695</td>\n",
       "      <td>float32</td>\n",
       "      <td>268.0</td>\n",
       "    </tr>\n",
       "    <tr>\n",
       "      <th>26</th>\n",
       "      <td>product_photos_qty</td>\n",
       "      <td>115634</td>\n",
       "      <td>1695</td>\n",
       "      <td>float32</td>\n",
       "      <td>4.0</td>\n",
       "    </tr>\n",
       "    <tr>\n",
       "      <th>27</th>\n",
       "      <td>product_weight_g</td>\n",
       "      <td>117309</td>\n",
       "      <td>20</td>\n",
       "      <td>float32</td>\n",
       "      <td>500.0</td>\n",
       "    </tr>\n",
       "    <tr>\n",
       "      <th>28</th>\n",
       "      <td>product_length_cm</td>\n",
       "      <td>117309</td>\n",
       "      <td>20</td>\n",
       "      <td>float32</td>\n",
       "      <td>19.0</td>\n",
       "    </tr>\n",
       "    <tr>\n",
       "      <th>29</th>\n",
       "      <td>product_height_cm</td>\n",
       "      <td>117309</td>\n",
       "      <td>20</td>\n",
       "      <td>float32</td>\n",
       "      <td>8.0</td>\n",
       "    </tr>\n",
       "    <tr>\n",
       "      <th>30</th>\n",
       "      <td>product_width_cm</td>\n",
       "      <td>117309</td>\n",
       "      <td>20</td>\n",
       "      <td>float32</td>\n",
       "      <td>13.0</td>\n",
       "    </tr>\n",
       "    <tr>\n",
       "      <th>31</th>\n",
       "      <td>product_category_name_english</td>\n",
       "      <td>115609</td>\n",
       "      <td>1720</td>\n",
       "      <td>object</td>\n",
       "      <td>housewares</td>\n",
       "    </tr>\n",
       "    <tr>\n",
       "      <th>32</th>\n",
       "      <td>customer_unique_id</td>\n",
       "      <td>117329</td>\n",
       "      <td>0</td>\n",
       "      <td>object</td>\n",
       "      <td>7c396fd4830fd04220f754e42b4e5bff</td>\n",
       "    </tr>\n",
       "    <tr>\n",
       "      <th>33</th>\n",
       "      <td>customer_zip_code_prefix</td>\n",
       "      <td>117329</td>\n",
       "      <td>0</td>\n",
       "      <td>object</td>\n",
       "      <td>03149</td>\n",
       "    </tr>\n",
       "    <tr>\n",
       "      <th>34</th>\n",
       "      <td>customer_city</td>\n",
       "      <td>117329</td>\n",
       "      <td>0</td>\n",
       "      <td>object</td>\n",
       "      <td>sao paulo</td>\n",
       "    </tr>\n",
       "    <tr>\n",
       "      <th>35</th>\n",
       "      <td>customer_state</td>\n",
       "      <td>117329</td>\n",
       "      <td>0</td>\n",
       "      <td>object</td>\n",
       "      <td>SP</td>\n",
       "    </tr>\n",
       "    <tr>\n",
       "      <th>36</th>\n",
       "      <td>customer_geo_lat</td>\n",
       "      <td>116949</td>\n",
       "      <td>380</td>\n",
       "      <td>float32</td>\n",
       "      <td>-23.576818</td>\n",
       "    </tr>\n",
       "    <tr>\n",
       "      <th>37</th>\n",
       "      <td>customer_geo_lng</td>\n",
       "      <td>116949</td>\n",
       "      <td>380</td>\n",
       "      <td>float32</td>\n",
       "      <td>-46.587181</td>\n",
       "    </tr>\n",
       "    <tr>\n",
       "      <th>38</th>\n",
       "      <td>seller_zip_code_prefix</td>\n",
       "      <td>117329</td>\n",
       "      <td>0</td>\n",
       "      <td>object</td>\n",
       "      <td>09350</td>\n",
       "    </tr>\n",
       "    <tr>\n",
       "      <th>39</th>\n",
       "      <td>seller_city</td>\n",
       "      <td>117329</td>\n",
       "      <td>0</td>\n",
       "      <td>object</td>\n",
       "      <td>maua</td>\n",
       "    </tr>\n",
       "    <tr>\n",
       "      <th>40</th>\n",
       "      <td>seller_state</td>\n",
       "      <td>117329</td>\n",
       "      <td>0</td>\n",
       "      <td>object</td>\n",
       "      <td>SP</td>\n",
       "    </tr>\n",
       "    <tr>\n",
       "      <th>41</th>\n",
       "      <td>seller_geo_lat</td>\n",
       "      <td>116385</td>\n",
       "      <td>944</td>\n",
       "      <td>float32</td>\n",
       "      <td>-23.680704</td>\n",
       "    </tr>\n",
       "    <tr>\n",
       "      <th>42</th>\n",
       "      <td>seller_geo_lng</td>\n",
       "      <td>116385</td>\n",
       "      <td>944</td>\n",
       "      <td>float32</td>\n",
       "      <td>-46.444324</td>\n",
       "    </tr>\n",
       "  </tbody>\n",
       "</table>\n",
       "</div>"
      ],
      "text/plain": [
       "                           column   count   nulls           dtype  \\\n",
       "0                        order_id  117329       0          object   \n",
       "1                     customer_id  117329       0          object   \n",
       "2                    order_status  117329       0          object   \n",
       "3        order_purchase_timestamp  117329       0  datetime64[ns]   \n",
       "4               order_approved_at  117314      15  datetime64[ns]   \n",
       "5    order_delivered_carrier_date  116094    1235  datetime64[ns]   \n",
       "6   order_delivered_customer_date  114858    2471  datetime64[ns]   \n",
       "7   order_estimated_delivery_date  117329       0  datetime64[ns]   \n",
       "8                   order_item_id  117329       0         float32   \n",
       "9                      product_id  117329       0          object   \n",
       "10                      seller_id  117329       0          object   \n",
       "11            shipping_limit_date  117329       0  datetime64[ns]   \n",
       "12                          price  117329       0         float32   \n",
       "13                  freight_value  117329       0         float32   \n",
       "14             payment_sequential  117329       0         float32   \n",
       "15                   payment_type  117329       0          object   \n",
       "16           payment_installments  117329       0         float32   \n",
       "17                  payment_value  117329       0         float32   \n",
       "18                      review_id  117329       0          object   \n",
       "19                   review_score  117329       0         float32   \n",
       "20           review_comment_title   13890  103439          object   \n",
       "21         review_comment_message   49670   67659          object   \n",
       "22           review_creation_date  117329       0  datetime64[ns]   \n",
       "23        review_answer_timestamp  117329       0  datetime64[ns]   \n",
       "24            product_name_lenght  115634    1695         float32   \n",
       "25     product_description_lenght  115634    1695         float32   \n",
       "26             product_photos_qty  115634    1695         float32   \n",
       "27               product_weight_g  117309      20         float32   \n",
       "28              product_length_cm  117309      20         float32   \n",
       "29              product_height_cm  117309      20         float32   \n",
       "30               product_width_cm  117309      20         float32   \n",
       "31  product_category_name_english  115609    1720          object   \n",
       "32             customer_unique_id  117329       0          object   \n",
       "33       customer_zip_code_prefix  117329       0          object   \n",
       "34                  customer_city  117329       0          object   \n",
       "35                 customer_state  117329       0          object   \n",
       "36               customer_geo_lat  116949     380         float32   \n",
       "37               customer_geo_lng  116949     380         float32   \n",
       "38         seller_zip_code_prefix  117329       0          object   \n",
       "39                    seller_city  117329       0          object   \n",
       "40                   seller_state  117329       0          object   \n",
       "41                 seller_geo_lat  116385     944         float32   \n",
       "42                 seller_geo_lng  116385     944         float32   \n",
       "\n",
       "                                         smaple_value  \n",
       "0                    e481f51cbdc54678b7cc49136f2d6af7  \n",
       "1                    9ef432eb6251297304e76186b10a928d  \n",
       "2                                           delivered  \n",
       "3                                 2017-10-02 10:56:33  \n",
       "4                                 2017-10-02 11:07:15  \n",
       "5                                 2017-10-04 19:55:00  \n",
       "6                                 2017-10-10 21:25:13  \n",
       "7                                 2017-10-18 00:00:00  \n",
       "8                                                 1.0  \n",
       "9                    87285b34884572647811a353c7ac498a  \n",
       "10                   3504c0cb71d7fa48d967e0e4c94d59d9  \n",
       "11                                2017-10-06 11:07:15  \n",
       "12                                              29.99  \n",
       "13                                               8.72  \n",
       "14                                                1.0  \n",
       "15                                        credit_card  \n",
       "16                                                1.0  \n",
       "17                                          18.120001  \n",
       "18                   a54f0611adc9ed256b57ede6b6eb5114  \n",
       "19                                                4.0  \n",
       "20                                                NaN  \n",
       "21  Não testei o produto ainda, mas ele veio corre...  \n",
       "22                                2017-10-11 00:00:00  \n",
       "23                                2017-10-12 03:43:48  \n",
       "24                                               40.0  \n",
       "25                                              268.0  \n",
       "26                                                4.0  \n",
       "27                                              500.0  \n",
       "28                                               19.0  \n",
       "29                                                8.0  \n",
       "30                                               13.0  \n",
       "31                                         housewares  \n",
       "32                   7c396fd4830fd04220f754e42b4e5bff  \n",
       "33                                              03149  \n",
       "34                                          sao paulo  \n",
       "35                                                 SP  \n",
       "36                                         -23.576818  \n",
       "37                                         -46.587181  \n",
       "38                                              09350  \n",
       "39                                               maua  \n",
       "40                                                 SP  \n",
       "41                                         -23.680704  \n",
       "42                                         -46.444324  "
      ]
     },
     "execution_count": 25,
     "metadata": {},
     "output_type": "execute_result"
    }
   ],
   "source": [
    "check_dfs({'sales': sales}).drop(columns=['df'])"
   ]
  },
  {
   "cell_type": "markdown",
   "metadata": {},
   "source": [
    "Checking order dates"
   ]
  },
  {
   "cell_type": "code",
   "execution_count": 26,
   "metadata": {},
   "outputs": [
    {
     "data": {
      "text/plain": [
       "2018    63458\n",
       "2017    53488\n",
       "2016      383\n",
       "Name: order_purchase_timestamp, dtype: int64"
      ]
     },
     "execution_count": 26,
     "metadata": {},
     "output_type": "execute_result"
    }
   ],
   "source": [
    "sales.order_purchase_timestamp.dt.year.value_counts()"
   ]
  },
  {
   "cell_type": "code",
   "execution_count": 27,
   "metadata": {},
   "outputs": [],
   "source": [
    "period_index = pd.date_range(start='2016-09', end='2018-09', freq='M').to_period('M')\n",
    "order_dates = pd.to_datetime(sales['order_purchase_timestamp']).dt.to_period('M').to_frame().rename(columns={'order_purchase_timestamp': 'order_purchase_period'})\n",
    "order_dates_count = order_dates.order_purchase_period.value_counts(sort=False).to_frame()\n",
    "order_dates_count = order_dates_count.reindex(period_index, fill_value=0)"
   ]
  },
  {
   "cell_type": "code",
   "execution_count": 28,
   "metadata": {},
   "outputs": [
    {
     "data": {
      "image/png": "[encoded data removed]",
      "text/plain": [
       "<Figure size 864x432 with 1 Axes>"
      ]
     },
     "metadata": {
      "needs_background": "light"
     },
     "output_type": "display_data"
    }
   ],
   "source": [
    "# We don't have consistent data for 2016 orders, so we drop 2016 data\n",
    "fig, ax = plt.subplots(figsize=(12, 6))\n",
    "sns.barplot(x=order_dates_count.index, y=order_dates_count.order_purchase_period, color = 'steelblue')\n",
    "ax.set_xticklabels(order_dates_count.index, rotation=90)\n",
    "ax.set_ylabel('count of order dates')\n",
    "plt.show()"
   ]
  },
  {
   "cell_type": "code",
   "execution_count": 29,
   "metadata": {},
   "outputs": [
    {
     "data": {
      "text/plain": [
       "2018    63458\n",
       "2017    53488\n",
       "Name: order_purchase_timestamp, dtype: int64"
      ]
     },
     "execution_count": 29,
     "metadata": {},
     "output_type": "execute_result"
    }
   ],
   "source": [
    "# dropping 2016 data\n",
    "sales = sales.loc[sales.order_purchase_timestamp.dt.year != 2016, :]\n",
    "sales.order_purchase_timestamp.dt.year.value_counts()"
   ]
  },
  {
   "cell_type": "markdown",
   "metadata": {},
   "source": [
    "#### 4.1. Handling the missing values"
   ]
  },
  {
   "cell_type": "code",
   "execution_count": 30,
   "metadata": {},
   "outputs": [],
   "source": [
    "# Null values in below columns are due to absence so we fill them with proper value\n",
    "\n",
    "sales.review_comment_title.fillna('no title', inplace=True)\n",
    "sales.review_comment_message.fillna('no message', inplace=True)\n",
    "sales.product_category_name_english.fillna('no category', inplace=True)\n",
    "sales.product_description_lenght.fillna(0, inplace=True)  # product has product_id with no description_lenght\n",
    "sales.product_name_lenght.fillna(0, inplace=True)  # product has product_id with no name_lenght\n",
    "sales.product_photos_qty.fillna(0, inplace=True)  # product has product_id with no photos_qty"
   ]
  },
  {
   "cell_type": "code",
   "execution_count": 31,
   "metadata": {},
   "outputs": [],
   "source": [
    "# function to check null percentage for columns\n",
    "\n",
    "def check_null_percent(df):\n",
    "    null_percent = df.isna().sum(axis=0).div(len(df)).mul(100).sort_values(ascending=False)\n",
    "    return null_percent.loc[null_percent > 0]"
   ]
  },
  {
   "cell_type": "code",
   "execution_count": 32,
   "metadata": {},
   "outputs": [
    {
     "data": {
      "text/plain": [
       "order_delivered_customer_date    2.073607\n",
       "order_delivered_carrier_date     1.024404\n",
       "seller_geo_lng                   0.804645\n",
       "seller_geo_lat                   0.804645\n",
       "customer_geo_lng                 0.324936\n",
       "customer_geo_lat                 0.324936\n",
       "product_weight_g                 0.017102\n",
       "product_length_cm                0.017102\n",
       "product_height_cm                0.017102\n",
       "product_width_cm                 0.017102\n",
       "order_approved_at                0.012826\n",
       "dtype: float64"
      ]
     },
     "execution_count": 32,
     "metadata": {},
     "output_type": "execute_result"
    }
   ],
   "source": [
    "# checking null %\n",
    "check_null_percent(sales)"
   ]
  },
  {
   "cell_type": "markdown",
   "metadata": {},
   "source": [
    "Filling missing dates\n",
    "\n",
    "We use order_purchase_timestamp and order_estimated_delivery_date to fill the missing data in other columns"
   ]
  },
  {
   "cell_type": "code",
   "execution_count": 33,
   "metadata": {},
   "outputs": [
    {
     "data": {
      "text/html": [
       "<div>\n",
       "<style scoped>\n",
       "    .dataframe tbody tr th:only-of-type {\n",
       "        vertical-align: middle;\n",
       "    }\n",
       "\n",
       "    .dataframe tbody tr th {\n",
       "        vertical-align: top;\n",
       "    }\n",
       "\n",
       "    .dataframe thead th {\n",
       "        text-align: right;\n",
       "    }\n",
       "</style>\n",
       "<table border=\"1\" class=\"dataframe\">\n",
       "  <thead>\n",
       "    <tr style=\"text-align: right;\">\n",
       "      <th></th>\n",
       "      <th>column</th>\n",
       "      <th>count</th>\n",
       "      <th>nulls</th>\n",
       "      <th>dtype</th>\n",
       "      <th>smaple_value</th>\n",
       "    </tr>\n",
       "  </thead>\n",
       "  <tbody>\n",
       "    <tr>\n",
       "      <th>3</th>\n",
       "      <td>order_purchase_timestamp</td>\n",
       "      <td>116946</td>\n",
       "      <td>0</td>\n",
       "      <td>datetime64[ns]</td>\n",
       "      <td>2017-10-02 10:56:33</td>\n",
       "    </tr>\n",
       "    <tr>\n",
       "      <th>4</th>\n",
       "      <td>order_approved_at</td>\n",
       "      <td>116931</td>\n",
       "      <td>15</td>\n",
       "      <td>datetime64[ns]</td>\n",
       "      <td>2017-10-02 11:07:15</td>\n",
       "    </tr>\n",
       "    <tr>\n",
       "      <th>5</th>\n",
       "      <td>order_delivered_carrier_date</td>\n",
       "      <td>115748</td>\n",
       "      <td>1198</td>\n",
       "      <td>datetime64[ns]</td>\n",
       "      <td>2017-10-04 19:55:00</td>\n",
       "    </tr>\n",
       "    <tr>\n",
       "      <th>6</th>\n",
       "      <td>order_delivered_customer_date</td>\n",
       "      <td>114521</td>\n",
       "      <td>2425</td>\n",
       "      <td>datetime64[ns]</td>\n",
       "      <td>2017-10-10 21:25:13</td>\n",
       "    </tr>\n",
       "    <tr>\n",
       "      <th>7</th>\n",
       "      <td>order_estimated_delivery_date</td>\n",
       "      <td>116946</td>\n",
       "      <td>0</td>\n",
       "      <td>datetime64[ns]</td>\n",
       "      <td>2017-10-18 00:00:00</td>\n",
       "    </tr>\n",
       "  </tbody>\n",
       "</table>\n",
       "</div>"
      ],
      "text/plain": [
       "                          column   count nulls           dtype  \\\n",
       "3       order_purchase_timestamp  116946     0  datetime64[ns]   \n",
       "4              order_approved_at  116931    15  datetime64[ns]   \n",
       "5   order_delivered_carrier_date  115748  1198  datetime64[ns]   \n",
       "6  order_delivered_customer_date  114521  2425  datetime64[ns]   \n",
       "7  order_estimated_delivery_date  116946     0  datetime64[ns]   \n",
       "\n",
       "          smaple_value  \n",
       "3  2017-10-02 10:56:33  \n",
       "4  2017-10-02 11:07:15  \n",
       "5  2017-10-04 19:55:00  \n",
       "6  2017-10-10 21:25:13  \n",
       "7  2017-10-18 00:00:00  "
      ]
     },
     "execution_count": 33,
     "metadata": {},
     "output_type": "execute_result"
    }
   ],
   "source": [
    "check_dfs({'sales': sales}).drop(columns=['df']).iloc[3: 8, :]"
   ]
  },
  {
   "cell_type": "code",
   "execution_count": 34,
   "metadata": {},
   "outputs": [],
   "source": [
    "date_columns = check_dfs({'sales': sales}).drop(columns=['df']).iloc[3: 8, 0]"
   ]
  },
  {
   "cell_type": "markdown",
   "metadata": {},
   "source": [
    "Handling missing values in order_approved_at column"
   ]
  },
  {
   "cell_type": "code",
   "execution_count": 35,
   "metadata": {},
   "outputs": [
    {
     "data": {
      "text/html": [
       "<div>\n",
       "<style scoped>\n",
       "    .dataframe tbody tr th:only-of-type {\n",
       "        vertical-align: middle;\n",
       "    }\n",
       "\n",
       "    .dataframe tbody tr th {\n",
       "        vertical-align: top;\n",
       "    }\n",
       "\n",
       "    .dataframe thead th {\n",
       "        text-align: right;\n",
       "    }\n",
       "</style>\n",
       "<table border=\"1\" class=\"dataframe\">\n",
       "  <thead>\n",
       "    <tr style=\"text-align: right;\">\n",
       "      <th></th>\n",
       "      <th>order_purchase_timestamp</th>\n",
       "      <th>order_approved_at</th>\n",
       "      <th>order_delivered_carrier_date</th>\n",
       "      <th>order_delivered_customer_date</th>\n",
       "      <th>order_estimated_delivery_date</th>\n",
       "    </tr>\n",
       "  </thead>\n",
       "  <tbody>\n",
       "    <tr>\n",
       "      <th>25649</th>\n",
       "      <td>2017-01-19 12:48:08</td>\n",
       "      <td>NaT</td>\n",
       "      <td>2017-01-25 14:56:50</td>\n",
       "      <td>2017-01-30 18:16:01</td>\n",
       "      <td>2017-03-01</td>\n",
       "    </tr>\n",
       "    <tr>\n",
       "      <th>30133</th>\n",
       "      <td>2017-02-18 16:48:35</td>\n",
       "      <td>NaT</td>\n",
       "      <td>2017-02-22 11:23:10</td>\n",
       "      <td>2017-03-09 07:28:47</td>\n",
       "      <td>2017-03-31</td>\n",
       "    </tr>\n",
       "    <tr>\n",
       "      <th>30135</th>\n",
       "      <td>2017-02-17 13:05:55</td>\n",
       "      <td>NaT</td>\n",
       "      <td>2017-02-22 11:23:11</td>\n",
       "      <td>2017-03-02 11:09:19</td>\n",
       "      <td>2017-03-20</td>\n",
       "    </tr>\n",
       "    <tr>\n",
       "      <th>30212</th>\n",
       "      <td>2017-02-18 17:15:03</td>\n",
       "      <td>NaT</td>\n",
       "      <td>2017-02-22 11:23:11</td>\n",
       "      <td>2017-03-03 18:43:43</td>\n",
       "      <td>2017-03-31</td>\n",
       "    </tr>\n",
       "    <tr>\n",
       "      <th>58887</th>\n",
       "      <td>2017-02-18 15:52:27</td>\n",
       "      <td>NaT</td>\n",
       "      <td>2017-02-23 03:09:14</td>\n",
       "      <td>2017-03-07 13:57:47</td>\n",
       "      <td>2017-03-29</td>\n",
       "    </tr>\n",
       "    <tr>\n",
       "      <th>59184</th>\n",
       "      <td>2017-01-19 22:26:59</td>\n",
       "      <td>NaT</td>\n",
       "      <td>2017-01-27 11:08:05</td>\n",
       "      <td>2017-02-06 14:22:19</td>\n",
       "      <td>2017-03-16</td>\n",
       "    </tr>\n",
       "    <tr>\n",
       "      <th>59330</th>\n",
       "      <td>2017-02-19 01:28:47</td>\n",
       "      <td>NaT</td>\n",
       "      <td>2017-02-23 03:11:48</td>\n",
       "      <td>2017-03-02 03:41:58</td>\n",
       "      <td>2017-03-27</td>\n",
       "    </tr>\n",
       "    <tr>\n",
       "      <th>70007</th>\n",
       "      <td>2017-02-18 12:45:31</td>\n",
       "      <td>NaT</td>\n",
       "      <td>2017-02-23 09:01:52</td>\n",
       "      <td>2017-03-02 10:05:06</td>\n",
       "      <td>2017-03-21</td>\n",
       "    </tr>\n",
       "    <tr>\n",
       "      <th>82979</th>\n",
       "      <td>2017-02-18 22:49:19</td>\n",
       "      <td>NaT</td>\n",
       "      <td>2017-02-22 11:31:06</td>\n",
       "      <td>2017-03-02 12:06:06</td>\n",
       "      <td>2017-03-21</td>\n",
       "    </tr>\n",
       "    <tr>\n",
       "      <th>82980</th>\n",
       "      <td>2017-02-18 22:49:19</td>\n",
       "      <td>NaT</td>\n",
       "      <td>2017-02-22 11:31:06</td>\n",
       "      <td>2017-03-02 12:06:06</td>\n",
       "      <td>2017-03-21</td>\n",
       "    </tr>\n",
       "    <tr>\n",
       "      <th>92589</th>\n",
       "      <td>2017-02-17 15:53:27</td>\n",
       "      <td>NaT</td>\n",
       "      <td>2017-02-22 11:31:30</td>\n",
       "      <td>2017-03-03 11:47:47</td>\n",
       "      <td>2017-03-23</td>\n",
       "    </tr>\n",
       "    <tr>\n",
       "      <th>101648</th>\n",
       "      <td>2017-02-18 14:40:00</td>\n",
       "      <td>NaT</td>\n",
       "      <td>2017-02-23 12:04:47</td>\n",
       "      <td>2017-03-01 13:25:33</td>\n",
       "      <td>2017-03-17</td>\n",
       "    </tr>\n",
       "    <tr>\n",
       "      <th>103806</th>\n",
       "      <td>2017-02-18 11:04:19</td>\n",
       "      <td>NaT</td>\n",
       "      <td>2017-02-23 07:23:36</td>\n",
       "      <td>2017-03-02 16:15:23</td>\n",
       "      <td>2017-03-22</td>\n",
       "    </tr>\n",
       "    <tr>\n",
       "      <th>111405</th>\n",
       "      <td>2017-02-18 13:29:47</td>\n",
       "      <td>NaT</td>\n",
       "      <td>2017-02-22 16:25:25</td>\n",
       "      <td>2017-03-01 08:07:38</td>\n",
       "      <td>2017-03-17</td>\n",
       "    </tr>\n",
       "    <tr>\n",
       "      <th>113142</th>\n",
       "      <td>2017-02-17 17:21:55</td>\n",
       "      <td>NaT</td>\n",
       "      <td>2017-02-22 11:42:51</td>\n",
       "      <td>2017-03-03 12:16:03</td>\n",
       "      <td>2017-03-20</td>\n",
       "    </tr>\n",
       "  </tbody>\n",
       "</table>\n",
       "</div>"
      ],
      "text/plain": [
       "       order_purchase_timestamp order_approved_at  \\\n",
       "25649       2017-01-19 12:48:08               NaT   \n",
       "30133       2017-02-18 16:48:35               NaT   \n",
       "30135       2017-02-17 13:05:55               NaT   \n",
       "30212       2017-02-18 17:15:03               NaT   \n",
       "58887       2017-02-18 15:52:27               NaT   \n",
       "59184       2017-01-19 22:26:59               NaT   \n",
       "59330       2017-02-19 01:28:47               NaT   \n",
       "70007       2017-02-18 12:45:31               NaT   \n",
       "82979       2017-02-18 22:49:19               NaT   \n",
       "82980       2017-02-18 22:49:19               NaT   \n",
       "92589       2017-02-17 15:53:27               NaT   \n",
       "101648      2017-02-18 14:40:00               NaT   \n",
       "103806      2017-02-18 11:04:19               NaT   \n",
       "111405      2017-02-18 13:29:47               NaT   \n",
       "113142      2017-02-17 17:21:55               NaT   \n",
       "\n",
       "       order_delivered_carrier_date order_delivered_customer_date  \\\n",
       "25649           2017-01-25 14:56:50           2017-01-30 18:16:01   \n",
       "30133           2017-02-22 11:23:10           2017-03-09 07:28:47   \n",
       "30135           2017-02-22 11:23:11           2017-03-02 11:09:19   \n",
       "30212           2017-02-22 11:23:11           2017-03-03 18:43:43   \n",
       "58887           2017-02-23 03:09:14           2017-03-07 13:57:47   \n",
       "59184           2017-01-27 11:08:05           2017-02-06 14:22:19   \n",
       "59330           2017-02-23 03:11:48           2017-03-02 03:41:58   \n",
       "70007           2017-02-23 09:01:52           2017-03-02 10:05:06   \n",
       "82979           2017-02-22 11:31:06           2017-03-02 12:06:06   \n",
       "82980           2017-02-22 11:31:06           2017-03-02 12:06:06   \n",
       "92589           2017-02-22 11:31:30           2017-03-03 11:47:47   \n",
       "101648          2017-02-23 12:04:47           2017-03-01 13:25:33   \n",
       "103806          2017-02-23 07:23:36           2017-03-02 16:15:23   \n",
       "111405          2017-02-22 16:25:25           2017-03-01 08:07:38   \n",
       "113142          2017-02-22 11:42:51           2017-03-03 12:16:03   \n",
       "\n",
       "       order_estimated_delivery_date  \n",
       "25649                     2017-03-01  \n",
       "30133                     2017-03-31  \n",
       "30135                     2017-03-20  \n",
       "30212                     2017-03-31  \n",
       "58887                     2017-03-29  \n",
       "59184                     2017-03-16  \n",
       "59330                     2017-03-27  \n",
       "70007                     2017-03-21  \n",
       "82979                     2017-03-21  \n",
       "82980                     2017-03-21  \n",
       "92589                     2017-03-23  \n",
       "101648                    2017-03-17  \n",
       "103806                    2017-03-22  \n",
       "111405                    2017-03-17  \n",
       "113142                    2017-03-20  "
      ]
     },
     "execution_count": 35,
     "metadata": {},
     "output_type": "execute_result"
    }
   ],
   "source": [
    "sales.loc[sales.order_approved_at.isna(), date_columns]"
   ]
  },
  {
   "cell_type": "code",
   "execution_count": 36,
   "metadata": {},
   "outputs": [
    {
     "data": {
      "text/plain": [
       "count                       116931\n",
       "mean     0 days 10:26:59.880664665\n",
       "std      0 days 21:52:24.143107590\n",
       "min                0 days 00:00:00\n",
       "25%                0 days 00:12:56\n",
       "50%                0 days 00:20:42\n",
       "75%         0 days 14:55:06.500000\n",
       "max               60 days 10:51:59\n",
       "dtype: object"
      ]
     },
     "execution_count": 36,
     "metadata": {},
     "output_type": "execute_result"
    }
   ],
   "source": [
    "# mean value of 10 hours from order time seems reasonable enough to use to fill the missing values\n",
    "sales.order_approved_at.sub(sales.order_purchase_timestamp).describe()"
   ]
  },
  {
   "cell_type": "code",
   "execution_count": 37,
   "metadata": {},
   "outputs": [],
   "source": [
    "mean_diff_order_approved_at = sales.order_approved_at.sub(sales.order_purchase_timestamp).mean()\n",
    "order_approved_at_fillna = (sales.order_purchase_timestamp + (sales.order_approved_at.sub(sales.order_purchase_timestamp)).mean()).dt.round('1s')\n",
    "\n",
    "sales['order_approved_at'] = sales.order_approved_at.fillna(order_approved_at_fillna)"
   ]
  },
  {
   "cell_type": "markdown",
   "metadata": {},
   "source": [
    "##### Filling nans in order_delivered_carrier_date\n",
    "Since we lose a lot of good information if we drop the missing values, we will fill them using order_approved_at column"
   ]
  },
  {
   "cell_type": "markdown",
   "metadata": {},
   "source": [
    "One of the reasons we don't have customer delivery date is becuase of the order status, so let's check it:"
   ]
  },
  {
   "cell_type": "code",
   "execution_count": 38,
   "metadata": {},
   "outputs": [
    {
     "data": {
      "text/plain": [
       "delivered     114528\n",
       "shipped         1158\n",
       "canceled         538\n",
       "processing       368\n",
       "invoiced         351\n",
       "approved           3\n",
       "Name: order_status, dtype: int64"
      ]
     },
     "execution_count": 38,
     "metadata": {},
     "output_type": "execute_result"
    }
   ],
   "source": [
    "sales.order_status.value_counts()"
   ]
  },
  {
   "cell_type": "markdown",
   "metadata": {},
   "source": [
    "We drop the canceled orders and impute delivery date for the rest of orders"
   ]
  },
  {
   "cell_type": "code",
   "execution_count": 39,
   "metadata": {},
   "outputs": [
    {
     "data": {
      "text/plain": [
       "delivered     114528\n",
       "shipped         1158\n",
       "processing       368\n",
       "invoiced         351\n",
       "approved           3\n",
       "Name: order_status, dtype: int64"
      ]
     },
     "execution_count": 39,
     "metadata": {},
     "output_type": "execute_result"
    }
   ],
   "source": [
    "sales = sales.loc[sales.order_status != 'canceled']\n",
    "sales.order_status.value_counts()"
   ]
  },
  {
   "cell_type": "code",
   "execution_count": 40,
   "metadata": {},
   "outputs": [
    {
     "data": {
      "text/html": [
       "<div>\n",
       "<style scoped>\n",
       "    .dataframe tbody tr th:only-of-type {\n",
       "        vertical-align: middle;\n",
       "    }\n",
       "\n",
       "    .dataframe tbody tr th {\n",
       "        vertical-align: top;\n",
       "    }\n",
       "\n",
       "    .dataframe thead th {\n",
       "        text-align: right;\n",
       "    }\n",
       "</style>\n",
       "<table border=\"1\" class=\"dataframe\">\n",
       "  <thead>\n",
       "    <tr style=\"text-align: right;\">\n",
       "      <th></th>\n",
       "      <th>column</th>\n",
       "      <th>count</th>\n",
       "      <th>nulls</th>\n",
       "      <th>dtype</th>\n",
       "      <th>smaple_value</th>\n",
       "    </tr>\n",
       "  </thead>\n",
       "  <tbody>\n",
       "    <tr>\n",
       "      <th>3</th>\n",
       "      <td>order_purchase_timestamp</td>\n",
       "      <td>116408</td>\n",
       "      <td>0</td>\n",
       "      <td>datetime64[ns]</td>\n",
       "      <td>2017-10-02 10:56:33</td>\n",
       "    </tr>\n",
       "    <tr>\n",
       "      <th>4</th>\n",
       "      <td>order_approved_at</td>\n",
       "      <td>116408</td>\n",
       "      <td>0</td>\n",
       "      <td>datetime64[ns]</td>\n",
       "      <td>2017-10-02 11:07:15</td>\n",
       "    </tr>\n",
       "    <tr>\n",
       "      <th>5</th>\n",
       "      <td>order_delivered_carrier_date</td>\n",
       "      <td>115684</td>\n",
       "      <td>724</td>\n",
       "      <td>datetime64[ns]</td>\n",
       "      <td>2017-10-04 19:55:00</td>\n",
       "    </tr>\n",
       "    <tr>\n",
       "      <th>6</th>\n",
       "      <td>order_delivered_customer_date</td>\n",
       "      <td>114520</td>\n",
       "      <td>1888</td>\n",
       "      <td>datetime64[ns]</td>\n",
       "      <td>2017-10-10 21:25:13</td>\n",
       "    </tr>\n",
       "    <tr>\n",
       "      <th>7</th>\n",
       "      <td>order_estimated_delivery_date</td>\n",
       "      <td>116408</td>\n",
       "      <td>0</td>\n",
       "      <td>datetime64[ns]</td>\n",
       "      <td>2017-10-18 00:00:00</td>\n",
       "    </tr>\n",
       "  </tbody>\n",
       "</table>\n",
       "</div>"
      ],
      "text/plain": [
       "                          column   count nulls           dtype  \\\n",
       "3       order_purchase_timestamp  116408     0  datetime64[ns]   \n",
       "4              order_approved_at  116408     0  datetime64[ns]   \n",
       "5   order_delivered_carrier_date  115684   724  datetime64[ns]   \n",
       "6  order_delivered_customer_date  114520  1888  datetime64[ns]   \n",
       "7  order_estimated_delivery_date  116408     0  datetime64[ns]   \n",
       "\n",
       "          smaple_value  \n",
       "3  2017-10-02 10:56:33  \n",
       "4  2017-10-02 11:07:15  \n",
       "5  2017-10-04 19:55:00  \n",
       "6  2017-10-10 21:25:13  \n",
       "7  2017-10-18 00:00:00  "
      ]
     },
     "execution_count": 40,
     "metadata": {},
     "output_type": "execute_result"
    }
   ],
   "source": [
    "check_dfs({'sales': sales}).drop(columns=['df']).iloc[3: 8, :]"
   ]
  },
  {
   "cell_type": "code",
   "execution_count": 41,
   "metadata": {},
   "outputs": [
    {
     "data": {
      "text/plain": [
       "mean       2 days 19:37:16.992228830\n",
       "std        3 days 11:17:27.455296866\n",
       "quantile      1 days 20:09:07.500000\n",
       "dtype: timedelta64[ns]"
      ]
     },
     "execution_count": 41,
     "metadata": {},
     "output_type": "execute_result"
    }
   ],
   "source": [
    "sales.order_delivered_carrier_date.sub(sales.order_approved_at).agg(['mean', 'std', 'quantile'])"
   ]
  },
  {
   "cell_type": "code",
   "execution_count": 42,
   "metadata": {},
   "outputs": [],
   "source": [
    "order_delivered_carrier_date_fillna = (sales.order_approved_at + (sales.order_delivered_carrier_date.sub(sales.order_approved_at)).mean()).dt.round('1s')\n",
    "sales['order_delivered_carrier_date'] = sales.order_delivered_carrier_date.fillna(order_delivered_carrier_date_fillna)"
   ]
  },
  {
   "cell_type": "code",
   "execution_count": 43,
   "metadata": {},
   "outputs": [
    {
     "data": {
      "text/plain": [
       "mean       9 days 04:13:29.930370240\n",
       "std        8 days 13:29:45.001312011\n",
       "quantile             7 days 01:29:14\n",
       "dtype: timedelta64[ns]"
      ]
     },
     "execution_count": 43,
     "metadata": {},
     "output_type": "execute_result"
    }
   ],
   "source": [
    "sales.order_delivered_customer_date.sub(sales.order_delivered_carrier_date).agg(['mean', 'std', 'quantile'])"
   ]
  },
  {
   "cell_type": "code",
   "execution_count": 44,
   "metadata": {},
   "outputs": [
    {
     "data": {
      "image/png": "[encoded data removed]",
      "text/plain": [
       "<Figure size 432x288 with 2 Axes>"
      ]
     },
     "metadata": {
      "needs_background": "light"
     },
     "output_type": "display_data"
    }
   ],
   "source": [
    "sns.heatmap(sales[date_columns].notna())\n",
    "plt.show()"
   ]
  },
  {
   "cell_type": "code",
   "execution_count": 45,
   "metadata": {},
   "outputs": [],
   "source": [
    "order_delivered_customer_date_fillna = (sales.order_delivered_carrier_date + (sales.order_delivered_customer_date.sub(sales.order_delivered_carrier_date)).mean()).dt.round('1s')\n",
    "sales['order_delivered_customer_date'] = sales.order_delivered_customer_date.fillna(order_delivered_customer_date_fillna)"
   ]
  },
  {
   "cell_type": "code",
   "execution_count": 46,
   "metadata": {},
   "outputs": [
    {
     "data": {
      "text/plain": [
       "order_purchase_timestamp         0\n",
       "order_approved_at                0\n",
       "order_delivered_carrier_date     0\n",
       "order_delivered_customer_date    0\n",
       "order_estimated_delivery_date    0\n",
       "dtype: int64"
      ]
     },
     "execution_count": 46,
     "metadata": {},
     "output_type": "execute_result"
    }
   ],
   "source": [
    "sales[date_columns].isna().sum()"
   ]
  },
  {
   "cell_type": "code",
   "execution_count": 47,
   "metadata": {},
   "outputs": [
    {
     "data": {
      "text/plain": [
       "seller_geo_lng       0.806646\n",
       "seller_geo_lat       0.806646\n",
       "customer_geo_lng     0.321284\n",
       "customer_geo_lat     0.321284\n",
       "product_weight_g     0.017181\n",
       "product_length_cm    0.017181\n",
       "product_height_cm    0.017181\n",
       "product_width_cm     0.017181\n",
       "dtype: float64"
      ]
     },
     "execution_count": 47,
     "metadata": {},
     "output_type": "execute_result"
    }
   ],
   "source": [
    "# checking null %\n",
    "check_null_percent(sales)"
   ]
  },
  {
   "cell_type": "markdown",
   "metadata": {},
   "source": [
    "Handling the missing values in product spec columns"
   ]
  },
  {
   "cell_type": "code",
   "execution_count": 48,
   "metadata": {},
   "outputs": [
    {
     "data": {
      "text/plain": [
       "product_id            0\n",
       "product_weight_g     20\n",
       "product_length_cm    20\n",
       "product_height_cm    20\n",
       "product_width_cm     20\n",
       "dtype: int64"
      ]
     },
     "execution_count": 48,
     "metadata": {},
     "output_type": "execute_result"
    }
   ],
   "source": [
    "# we have 20 rows with missing product specs\n",
    "product_specs_cols = ['product_id', 'product_weight_g', 'product_length_cm', 'product_height_cm', 'product_width_cm']\n",
    "sales.loc[sales.product_weight_g.isna(), product_specs_cols].isna().sum()"
   ]
  },
  {
   "cell_type": "code",
   "execution_count": 49,
   "metadata": {},
   "outputs": [
    {
     "data": {
      "text/plain": [
       "array(['5eb564652db742ff8f28759cd8d2652a',\n",
       "       '09ff539a621711667c43eba6a3bd8466'], dtype=object)"
      ]
     },
     "execution_count": 49,
     "metadata": {},
     "output_type": "execute_result"
    }
   ],
   "source": [
    "# we have 2 products with no specification in the dataset\n",
    "missing_product_ids = sales.loc[sales.product_weight_g.isna(), 'product_id'].unique()\n",
    "missing_product_ids"
   ]
  },
  {
   "cell_type": "code",
   "execution_count": 50,
   "metadata": {},
   "outputs": [
    {
     "data": {
      "text/plain": [
       "product_id           20\n",
       "product_weight_g      0\n",
       "product_length_cm     0\n",
       "product_height_cm     0\n",
       "product_width_cm      0\n",
       "dtype: int64"
      ]
     },
     "execution_count": 50,
     "metadata": {},
     "output_type": "execute_result"
    }
   ],
   "source": [
    "# checking to see if we have spec for these products in other rows. We don't!\n",
    "sales.loc[sales.product_id.isin(missing_product_ids), product_specs_cols].count()"
   ]
  },
  {
   "cell_type": "code",
   "execution_count": 51,
   "metadata": {},
   "outputs": [],
   "source": [
    "# so we drop these rows since we can not imputate data for them\n",
    "sales.dropna(subset=['product_weight_g', 'product_length_cm', 'product_height_cm', 'product_width_cm'], inplace=True)"
   ]
  },
  {
   "cell_type": "code",
   "execution_count": 52,
   "metadata": {},
   "outputs": [
    {
     "data": {
      "text/plain": [
       "seller_geo_lng      0.806784\n",
       "seller_geo_lat      0.806784\n",
       "customer_geo_lng    0.321339\n",
       "customer_geo_lat    0.321339\n",
       "dtype: float64"
      ]
     },
     "execution_count": 52,
     "metadata": {},
     "output_type": "execute_result"
    }
   ],
   "source": [
    "# checking null %\n",
    "check_null_percent(sales)"
   ]
  },
  {
   "cell_type": "markdown",
   "metadata": {},
   "source": [
    "Dealing with missing data in lng & lat columns:<br/>\n",
    "\n",
    "We fill lat and lng based on the average of lat and lng for each city we calculated before since the missing values are less than 1% <br/>\n",
    "Alternatively, we can use third party data for missing zip code prefixes & use the average to fill nans"
   ]
  },
  {
   "cell_type": "code",
   "execution_count": 53,
   "metadata": {},
   "outputs": [
    {
     "data": {
      "text/plain": [
       "seller_geo_lng      0.307592\n",
       "seller_geo_lat      0.307592\n",
       "customer_geo_lng    0.085060\n",
       "customer_geo_lat    0.085060\n",
       "dtype: float64"
      ]
     },
     "execution_count": 53,
     "metadata": {},
     "output_type": "execute_result"
    }
   ],
   "source": [
    "# creatig city mean values for lat and lng\n",
    "seller_lng_zip_mean = sales.groupby(['seller_state', 'seller_city'])['seller_geo_lng'].transform('mean')\n",
    "seller_lat_zip_mean = sales.groupby(['seller_state', 'seller_city'])['seller_geo_lat'].transform('mean')\n",
    "\n",
    "customer_lng_zip_mean = sales.groupby(['customer_state', 'customer_city'])['customer_geo_lng'].transform('mean')\n",
    "customer_lat_zip_mean = sales.groupby(['customer_state', 'customer_city'])['customer_geo_lat'].transform('mean')\n",
    "\n",
    "# filling missing values with zip code prefix means\n",
    "sales.seller_geo_lng.fillna(seller_lng_zip_mean, inplace=True)\n",
    "sales.seller_geo_lat.fillna(seller_lat_zip_mean, inplace=True)\n",
    "\n",
    "sales.customer_geo_lng.fillna(customer_lng_zip_mean, inplace=True)\n",
    "sales.customer_geo_lat.fillna(customer_lat_zip_mean, inplace=True)\n",
    "\n",
    "# checking the impact on null %\n",
    "check_null_percent(sales)"
   ]
  },
  {
   "cell_type": "markdown",
   "metadata": {},
   "source": [
    "We drop the remaining rows since there are some cities in sellers and customers datasets with no corresponding values in geolocations dataset.<br/>\n",
    "Alternatively, we can use third party data for missing zip code prefixes & use the average to fill nans"
   ]
  },
  {
   "cell_type": "code",
   "execution_count": 54,
   "metadata": {},
   "outputs": [
    {
     "data": {
      "text/plain": [
       "Series([], dtype: float64)"
      ]
     },
     "execution_count": 54,
     "metadata": {},
     "output_type": "execute_result"
    }
   ],
   "source": [
    "## dropping rows with missing values\n",
    "\n",
    "sales.dropna(subset=['seller_geo_lng'], inplace=True)\n",
    "sales.dropna(subset=['customer_geo_lng'], inplace=True)\n",
    "\n",
    "# checking null %\n",
    "check_null_percent(sales)"
   ]
  },
  {
   "cell_type": "code",
   "execution_count": 55,
   "metadata": {},
   "outputs": [
    {
     "data": {
      "text/plain": [
       "(115931, 43)"
      ]
     },
     "execution_count": 55,
     "metadata": {},
     "output_type": "execute_result"
    }
   ],
   "source": [
    "sales.shape"
   ]
  },
  {
   "cell_type": "markdown",
   "metadata": {},
   "source": [
    "#### 4.2. checking for duplicates & outliers"
   ]
  },
  {
   "cell_type": "code",
   "execution_count": 56,
   "metadata": {},
   "outputs": [
    {
     "data": {
      "text/plain": [
       "0"
      ]
     },
     "execution_count": 56,
     "metadata": {},
     "output_type": "execute_result"
    }
   ],
   "source": [
    "# checking for duplicate rows\n",
    "sales.duplicated().sum()"
   ]
  },
  {
   "cell_type": "code",
   "execution_count": 57,
   "metadata": {},
   "outputs": [
    {
     "data": {
      "text/html": [
       "<div>\n",
       "<style scoped>\n",
       "    .dataframe tbody tr th:only-of-type {\n",
       "        vertical-align: middle;\n",
       "    }\n",
       "\n",
       "    .dataframe tbody tr th {\n",
       "        vertical-align: top;\n",
       "    }\n",
       "\n",
       "    .dataframe thead th {\n",
       "        text-align: right;\n",
       "    }\n",
       "</style>\n",
       "<table border=\"1\" class=\"dataframe\">\n",
       "  <thead>\n",
       "    <tr style=\"text-align: right;\">\n",
       "      <th></th>\n",
       "      <th>min</th>\n",
       "      <th>max</th>\n",
       "      <th>std</th>\n",
       "      <th>mean</th>\n",
       "      <th>25%</th>\n",
       "      <th>50%</th>\n",
       "      <th>75%</th>\n",
       "      <th>90%</th>\n",
       "    </tr>\n",
       "  </thead>\n",
       "  <tbody>\n",
       "    <tr>\n",
       "      <th>order_item_id</th>\n",
       "      <td>1.0</td>\n",
       "      <td>21.0</td>\n",
       "      <td>0.7</td>\n",
       "      <td>1.2</td>\n",
       "      <td>1.0</td>\n",
       "      <td>1.0</td>\n",
       "      <td>1.0</td>\n",
       "      <td>2.0</td>\n",
       "    </tr>\n",
       "    <tr>\n",
       "      <th>price</th>\n",
       "      <td>0.9</td>\n",
       "      <td>6735.0</td>\n",
       "      <td>181.4</td>\n",
       "      <td>120.0</td>\n",
       "      <td>39.9</td>\n",
       "      <td>74.9</td>\n",
       "      <td>133.6</td>\n",
       "      <td>229.0</td>\n",
       "    </tr>\n",
       "    <tr>\n",
       "      <th>freight_value</th>\n",
       "      <td>0.0</td>\n",
       "      <td>409.7</td>\n",
       "      <td>15.7</td>\n",
       "      <td>20.0</td>\n",
       "      <td>13.1</td>\n",
       "      <td>16.3</td>\n",
       "      <td>21.2</td>\n",
       "      <td>34.0</td>\n",
       "    </tr>\n",
       "    <tr>\n",
       "      <th>payment_sequential</th>\n",
       "      <td>1.0</td>\n",
       "      <td>26.0</td>\n",
       "      <td>0.7</td>\n",
       "      <td>1.1</td>\n",
       "      <td>1.0</td>\n",
       "      <td>1.0</td>\n",
       "      <td>1.0</td>\n",
       "      <td>1.0</td>\n",
       "    </tr>\n",
       "    <tr>\n",
       "      <th>payment_installments</th>\n",
       "      <td>0.0</td>\n",
       "      <td>24.0</td>\n",
       "      <td>2.8</td>\n",
       "      <td>2.9</td>\n",
       "      <td>1.0</td>\n",
       "      <td>2.0</td>\n",
       "      <td>4.0</td>\n",
       "      <td>8.0</td>\n",
       "    </tr>\n",
       "    <tr>\n",
       "      <th>payment_value</th>\n",
       "      <td>0.0</td>\n",
       "      <td>13664.1</td>\n",
       "      <td>263.9</td>\n",
       "      <td>171.4</td>\n",
       "      <td>60.7</td>\n",
       "      <td>108.0</td>\n",
       "      <td>188.9</td>\n",
       "      <td>336.0</td>\n",
       "    </tr>\n",
       "    <tr>\n",
       "      <th>review_score</th>\n",
       "      <td>1.0</td>\n",
       "      <td>5.0</td>\n",
       "      <td>1.4</td>\n",
       "      <td>4.0</td>\n",
       "      <td>4.0</td>\n",
       "      <td>5.0</td>\n",
       "      <td>5.0</td>\n",
       "      <td>5.0</td>\n",
       "    </tr>\n",
       "    <tr>\n",
       "      <th>product_name_lenght</th>\n",
       "      <td>0.0</td>\n",
       "      <td>76.0</td>\n",
       "      <td>11.5</td>\n",
       "      <td>48.1</td>\n",
       "      <td>42.0</td>\n",
       "      <td>51.0</td>\n",
       "      <td>57.0</td>\n",
       "      <td>59.0</td>\n",
       "    </tr>\n",
       "    <tr>\n",
       "      <th>product_description_lenght</th>\n",
       "      <td>0.0</td>\n",
       "      <td>3992.0</td>\n",
       "      <td>652.9</td>\n",
       "      <td>773.8</td>\n",
       "      <td>340.0</td>\n",
       "      <td>594.0</td>\n",
       "      <td>974.5</td>\n",
       "      <td>1566.0</td>\n",
       "    </tr>\n",
       "    <tr>\n",
       "      <th>product_photos_qty</th>\n",
       "      <td>0.0</td>\n",
       "      <td>20.0</td>\n",
       "      <td>1.7</td>\n",
       "      <td>2.2</td>\n",
       "      <td>1.0</td>\n",
       "      <td>1.0</td>\n",
       "      <td>3.0</td>\n",
       "      <td>5.0</td>\n",
       "    </tr>\n",
       "    <tr>\n",
       "      <th>product_weight_g</th>\n",
       "      <td>0.0</td>\n",
       "      <td>40425.0</td>\n",
       "      <td>3770.7</td>\n",
       "      <td>2104.2</td>\n",
       "      <td>300.0</td>\n",
       "      <td>700.0</td>\n",
       "      <td>1800.0</td>\n",
       "      <td>6250.0</td>\n",
       "    </tr>\n",
       "    <tr>\n",
       "      <th>product_length_cm</th>\n",
       "      <td>7.0</td>\n",
       "      <td>105.0</td>\n",
       "      <td>16.1</td>\n",
       "      <td>30.2</td>\n",
       "      <td>18.0</td>\n",
       "      <td>25.0</td>\n",
       "      <td>38.0</td>\n",
       "      <td>51.0</td>\n",
       "    </tr>\n",
       "    <tr>\n",
       "      <th>product_height_cm</th>\n",
       "      <td>2.0</td>\n",
       "      <td>105.0</td>\n",
       "      <td>13.4</td>\n",
       "      <td>16.6</td>\n",
       "      <td>8.0</td>\n",
       "      <td>13.0</td>\n",
       "      <td>20.0</td>\n",
       "      <td>31.0</td>\n",
       "    </tr>\n",
       "    <tr>\n",
       "      <th>product_width_cm</th>\n",
       "      <td>6.0</td>\n",
       "      <td>118.0</td>\n",
       "      <td>11.7</td>\n",
       "      <td>23.1</td>\n",
       "      <td>15.0</td>\n",
       "      <td>20.0</td>\n",
       "      <td>30.0</td>\n",
       "      <td>40.0</td>\n",
       "    </tr>\n",
       "    <tr>\n",
       "      <th>customer_geo_lat</th>\n",
       "      <td>-33.7</td>\n",
       "      <td>3.8</td>\n",
       "      <td>5.6</td>\n",
       "      <td>-21.2</td>\n",
       "      <td>-23.6</td>\n",
       "      <td>-22.9</td>\n",
       "      <td>-20.1</td>\n",
       "      <td>-13.0</td>\n",
       "    </tr>\n",
       "    <tr>\n",
       "      <th>customer_geo_lng</th>\n",
       "      <td>-72.7</td>\n",
       "      <td>-34.8</td>\n",
       "      <td>4.0</td>\n",
       "      <td>-46.2</td>\n",
       "      <td>-48.1</td>\n",
       "      <td>-46.6</td>\n",
       "      <td>-43.6</td>\n",
       "      <td>-41.3</td>\n",
       "    </tr>\n",
       "    <tr>\n",
       "      <th>seller_geo_lat</th>\n",
       "      <td>-32.1</td>\n",
       "      <td>-2.5</td>\n",
       "      <td>2.7</td>\n",
       "      <td>-22.8</td>\n",
       "      <td>-23.6</td>\n",
       "      <td>-23.4</td>\n",
       "      <td>-21.8</td>\n",
       "      <td>-20.8</td>\n",
       "    </tr>\n",
       "    <tr>\n",
       "      <th>seller_geo_lng</th>\n",
       "      <td>-63.9</td>\n",
       "      <td>-34.9</td>\n",
       "      <td>2.3</td>\n",
       "      <td>-47.2</td>\n",
       "      <td>-48.8</td>\n",
       "      <td>-46.7</td>\n",
       "      <td>-46.5</td>\n",
       "      <td>-44.4</td>\n",
       "    </tr>\n",
       "  </tbody>\n",
       "</table>\n",
       "</div>"
      ],
      "text/plain": [
       "                             min      max     std    mean    25%    50%  \\\n",
       "order_item_id                1.0     21.0     0.7     1.2    1.0    1.0   \n",
       "price                        0.9   6735.0   181.4   120.0   39.9   74.9   \n",
       "freight_value                0.0    409.7    15.7    20.0   13.1   16.3   \n",
       "payment_sequential           1.0     26.0     0.7     1.1    1.0    1.0   \n",
       "payment_installments         0.0     24.0     2.8     2.9    1.0    2.0   \n",
       "payment_value                0.0  13664.1   263.9   171.4   60.7  108.0   \n",
       "review_score                 1.0      5.0     1.4     4.0    4.0    5.0   \n",
       "product_name_lenght          0.0     76.0    11.5    48.1   42.0   51.0   \n",
       "product_description_lenght   0.0   3992.0   652.9   773.8  340.0  594.0   \n",
       "product_photos_qty           0.0     20.0     1.7     2.2    1.0    1.0   \n",
       "product_weight_g             0.0  40425.0  3770.7  2104.2  300.0  700.0   \n",
       "product_length_cm            7.0    105.0    16.1    30.2   18.0   25.0   \n",
       "product_height_cm            2.0    105.0    13.4    16.6    8.0   13.0   \n",
       "product_width_cm             6.0    118.0    11.7    23.1   15.0   20.0   \n",
       "customer_geo_lat           -33.7      3.8     5.6   -21.2  -23.6  -22.9   \n",
       "customer_geo_lng           -72.7    -34.8     4.0   -46.2  -48.1  -46.6   \n",
       "seller_geo_lat             -32.1     -2.5     2.7   -22.8  -23.6  -23.4   \n",
       "seller_geo_lng             -63.9    -34.9     2.3   -47.2  -48.8  -46.7   \n",
       "\n",
       "                               75%     90%  \n",
       "order_item_id                  1.0     2.0  \n",
       "price                        133.6   229.0  \n",
       "freight_value                 21.2    34.0  \n",
       "payment_sequential             1.0     1.0  \n",
       "payment_installments           4.0     8.0  \n",
       "payment_value                188.9   336.0  \n",
       "review_score                   5.0     5.0  \n",
       "product_name_lenght           57.0    59.0  \n",
       "product_description_lenght   974.5  1566.0  \n",
       "product_photos_qty             3.0     5.0  \n",
       "product_weight_g            1800.0  6250.0  \n",
       "product_length_cm             38.0    51.0  \n",
       "product_height_cm             20.0    31.0  \n",
       "product_width_cm              30.0    40.0  \n",
       "customer_geo_lat             -20.1   -13.0  \n",
       "customer_geo_lng             -43.6   -41.3  \n",
       "seller_geo_lat               -21.8   -20.8  \n",
       "seller_geo_lng               -46.5   -44.4  "
      ]
     },
     "execution_count": 57,
     "metadata": {},
     "output_type": "execute_result"
    }
   ],
   "source": [
    "# based on application and EDA, we can later on decide about how to handle outliers\n",
    "sales.describe(percentiles=[0.25, 0.5, 0.75, 0.9]).loc[['min', 'max', 'std', 'mean', '25%', '50%', '75%', '90%'], :].round(1).swapaxes(axis1=1, axis2=0)"
   ]
  },
  {
   "cell_type": "code",
   "execution_count": 58,
   "metadata": {},
   "outputs": [
    {
     "data": {
      "image/png": "[encoded data removed]",
      "text/plain": [
       "<Figure size 864x432 with 1 Axes>"
      ]
     },
     "metadata": {
      "needs_background": "light"
     },
     "output_type": "display_data"
    }
   ],
   "source": [
    "plt.figure(figsize=(12, 6))\n",
    "sns.boxplot(data=sales.select_dtypes('number'), orient='h')\n",
    "plt.show()"
   ]
  },
  {
   "cell_type": "markdown",
   "metadata": {},
   "source": [
    "#### 4.3. Downcasting & Saving the outcome"
   ]
  },
  {
   "cell_type": "code",
   "execution_count": 59,
   "metadata": {},
   "outputs": [
    {
     "name": "stdout",
     "output_type": "stream",
     "text": [
      "Total number of rows dropped during data wrangling: 1398\n",
      "% of rows dropped: 1.19\n"
     ]
    }
   ],
   "source": [
    "sales.reset_index(drop=True, inplace=True)\n",
    "\n",
    "# number of rows after dropping missing values\n",
    "print(f'Total number of rows dropped during data wrangling: {sales_initial_length - len(sales)}')\n",
    "print(f'% of rows dropped: {round((sales_initial_length - len(sales)) / sales_initial_length * 100, 2)}')"
   ]
  },
  {
   "cell_type": "code",
   "execution_count": 60,
   "metadata": {},
   "outputs": [],
   "source": [
    "# reducing the file size\n",
    "def downcast(df):\n",
    "    \n",
    "    ## downcasting floats\n",
    "    f_cols= df.select_dtypes(['float', 'float64']).columns\n",
    "    df[f_cols] = df[f_cols].apply(pd.to_numeric, downcast='float')\n",
    "\n",
    "    ## downcasting ints\n",
    "    i_cols = df.select_dtypes(['integer', 'int', 'int32']).columns\n",
    "    df[i_cols] = df[i_cols].apply(pd.to_numeric, downcast='unsigned')\n",
    "\n",
    "    return df"
   ]
  },
  {
   "cell_type": "markdown",
   "metadata": {},
   "source": [
    "We downcast the data before exporting it in order to create a data type mapper along with the file when we use the data in other projects"
   ]
  },
  {
   "cell_type": "code",
   "execution_count": 61,
   "metadata": {},
   "outputs": [
    {
     "name": "stdout",
     "output_type": "stream",
     "text": [
      "<class 'pandas.core.frame.DataFrame'>\n",
      "RangeIndex: 115931 entries, 0 to 115930\n",
      "Data columns (total 43 columns):\n",
      " #   Column                         Non-Null Count   Dtype         \n",
      "---  ------                         --------------   -----         \n",
      " 0   order_id                       115931 non-null  object        \n",
      " 1   customer_id                    115931 non-null  object        \n",
      " 2   order_status                   115931 non-null  object        \n",
      " 3   order_purchase_timestamp       115931 non-null  datetime64[ns]\n",
      " 4   order_approved_at              115931 non-null  datetime64[ns]\n",
      " 5   order_delivered_carrier_date   115931 non-null  datetime64[ns]\n",
      " 6   order_delivered_customer_date  115931 non-null  datetime64[ns]\n",
      " 7   order_estimated_delivery_date  115931 non-null  datetime64[ns]\n",
      " 8   order_item_id                  115931 non-null  uint8         \n",
      " 9   product_id                     115931 non-null  object        \n",
      " 10  seller_id                      115931 non-null  object        \n",
      " 11  shipping_limit_date            115931 non-null  datetime64[ns]\n",
      " 12  price                          115931 non-null  float32       \n",
      " 13  freight_value                  115931 non-null  float32       \n",
      " 14  payment_sequential             115931 non-null  uint8         \n",
      " 15  payment_type                   115931 non-null  object        \n",
      " 16  payment_installments           115931 non-null  uint8         \n",
      " 17  payment_value                  115931 non-null  float32       \n",
      " 18  review_id                      115931 non-null  object        \n",
      " 19  review_score                   115931 non-null  uint8         \n",
      " 20  review_comment_title           115931 non-null  object        \n",
      " 21  review_comment_message         115931 non-null  object        \n",
      " 22  review_creation_date           115931 non-null  datetime64[ns]\n",
      " 23  review_answer_timestamp        115931 non-null  datetime64[ns]\n",
      " 24  product_name_lenght            115931 non-null  uint8         \n",
      " 25  product_description_lenght     115931 non-null  uint16        \n",
      " 26  product_photos_qty             115931 non-null  uint8         \n",
      " 27  product_weight_g               115931 non-null  uint16        \n",
      " 28  product_length_cm              115931 non-null  uint8         \n",
      " 29  product_height_cm              115931 non-null  uint8         \n",
      " 30  product_width_cm               115931 non-null  uint8         \n",
      " 31  product_category_name_english  115931 non-null  object        \n",
      " 32  customer_unique_id             115931 non-null  object        \n",
      " 33  customer_zip_code_prefix       115931 non-null  object        \n",
      " 34  customer_city                  115931 non-null  object        \n",
      " 35  customer_state                 115931 non-null  object        \n",
      " 36  customer_geo_lat               115931 non-null  float32       \n",
      " 37  customer_geo_lng               115931 non-null  float32       \n",
      " 38  seller_zip_code_prefix         115931 non-null  object        \n",
      " 39  seller_city                    115931 non-null  object        \n",
      " 40  seller_state                   115931 non-null  object        \n",
      " 41  seller_geo_lat                 115931 non-null  float32       \n",
      " 42  seller_geo_lng                 115931 non-null  float32       \n",
      "dtypes: datetime64[ns](8), float32(7), object(17), uint16(2), uint8(9)\n",
      "memory usage: 26.6+ MB\n"
     ]
    }
   ],
   "source": [
    "# downcasting the numerical data\n",
    "int_cols = ['product_description_lenght', 'product_weight_g', 'order_item_id', 'payment_sequential', 'payment_installments', 'review_score', 'product_name_lenght', 'product_photos_qty', 'product_length_cm', 'product_height_cm', 'product_width_cm']\n",
    "sales[int_cols] = sales[int_cols].astype('int')\n",
    "\n",
    "downcast(sales)\n",
    "sales.info()"
   ]
  },
  {
   "cell_type": "code",
   "execution_count": 62,
   "metadata": {},
   "outputs": [],
   "source": [
    "# Exporting the cleaned file\n",
    "sales.to_csv('sales_cleaned.csv', index=False)"
   ]
  },
  {
   "cell_type": "code",
   "execution_count": 63,
   "metadata": {},
   "outputs": [
    {
     "data": {
      "text/html": [
       "<div>\n",
       "<style scoped>\n",
       "    .dataframe tbody tr th:only-of-type {\n",
       "        vertical-align: middle;\n",
       "    }\n",
       "\n",
       "    .dataframe tbody tr th {\n",
       "        vertical-align: top;\n",
       "    }\n",
       "\n",
       "    .dataframe thead th {\n",
       "        text-align: right;\n",
       "    }\n",
       "</style>\n",
       "<table border=\"1\" class=\"dataframe\">\n",
       "  <thead>\n",
       "    <tr style=\"text-align: right;\">\n",
       "      <th></th>\n",
       "      <th>column_name</th>\n",
       "      <th>data_type</th>\n",
       "    </tr>\n",
       "  </thead>\n",
       "  <tbody>\n",
       "    <tr>\n",
       "      <th>0</th>\n",
       "      <td>order_id</td>\n",
       "      <td>object</td>\n",
       "    </tr>\n",
       "    <tr>\n",
       "      <th>1</th>\n",
       "      <td>customer_id</td>\n",
       "      <td>object</td>\n",
       "    </tr>\n",
       "    <tr>\n",
       "      <th>2</th>\n",
       "      <td>order_status</td>\n",
       "      <td>object</td>\n",
       "    </tr>\n",
       "    <tr>\n",
       "      <th>3</th>\n",
       "      <td>order_purchase_timestamp</td>\n",
       "      <td>datetime64[ns]</td>\n",
       "    </tr>\n",
       "    <tr>\n",
       "      <th>4</th>\n",
       "      <td>order_approved_at</td>\n",
       "      <td>datetime64[ns]</td>\n",
       "    </tr>\n",
       "  </tbody>\n",
       "</table>\n",
       "</div>"
      ],
      "text/plain": [
       "                column_name       data_type\n",
       "0                  order_id          object\n",
       "1               customer_id          object\n",
       "2              order_status          object\n",
       "3  order_purchase_timestamp  datetime64[ns]\n",
       "4         order_approved_at  datetime64[ns]"
      ]
     },
     "execution_count": 63,
     "metadata": {},
     "output_type": "execute_result"
    }
   ],
   "source": [
    "# Exporting data type metadata\n",
    "dtypes_mapper = sales.dtypes.reset_index().rename(columns={'index': 'column_name', 0: 'data_type'})\n",
    "dtypes_mapper.to_csv('sales_cleaned_data_map.csv', index=False)\n",
    "dtypes_mapper.head()"
   ]
  },
  {
   "cell_type": "code",
   "execution_count": 64,
   "metadata": {},
   "outputs": [],
   "source": [
    "# checking the size of the file\n",
    "def file_size(file):\n",
    "    f_size = os.path.getsize(file)\n",
    "    for unit in ['B', 'KB', 'MB', 'GB', 'TB']:\n",
    "        if abs(f_size) < 1024.0:\n",
    "            return f'{f_size:3.1f}{unit}'\n",
    "        f_size /= 1024.0\n",
    "    return f'OOPS! This file is too big!'"
   ]
  },
  {
   "cell_type": "code",
   "execution_count": 65,
   "metadata": {},
   "outputs": [
    {
     "data": {
      "text/plain": [
       "'63.2MB'"
      ]
     },
     "execution_count": 65,
     "metadata": {},
     "output_type": "execute_result"
    }
   ],
   "source": [
    "file_size('sales_cleaned.csv')"
   ]
  },
  {
   "cell_type": "code",
   "execution_count": 66,
   "metadata": {},
   "outputs": [
    {
     "data": {
      "text/plain": [
       "'1.2KB'"
      ]
     },
     "execution_count": 66,
     "metadata": {},
     "output_type": "execute_result"
    }
   ],
   "source": [
    "file_size('sales_cleaned_data_map.csv')"
   ]
  },
  {
   "cell_type": "markdown",
   "metadata": {},
   "source": [
    "### 5. Joining marketing datasets\n",
    "Since we have a lot of missing values, the best way is to use the original files and based on use join them later in the future projects."
   ]
  },
  {
   "cell_type": "code",
   "execution_count": 67,
   "metadata": {},
   "outputs": [
    {
     "name": "stdout",
     "output_type": "stream",
     "text": [
      "<class 'pandas.core.frame.DataFrame'>\n",
      "Int64Index: 8000 entries, 0 to 7999\n",
      "Data columns (total 17 columns):\n",
      " #   Column                         Non-Null Count  Dtype         \n",
      "---  ------                         --------------  -----         \n",
      " 0   mql_id                         8000 non-null   object        \n",
      " 1   first_contact_date             8000 non-null   datetime64[ns]\n",
      " 2   landing_page_id                8000 non-null   object        \n",
      " 3   origin                         7940 non-null   object        \n",
      " 4   seller_id                      842 non-null    object        \n",
      " 5   sdr_id                         842 non-null    object        \n",
      " 6   sr_id                          842 non-null    object        \n",
      " 7   won_date                       842 non-null    datetime64[ns]\n",
      " 8   business_segment               841 non-null    object        \n",
      " 9   lead_type                      836 non-null    object        \n",
      " 10  lead_behaviour_profile         665 non-null    object        \n",
      " 11  has_company                    63 non-null     object        \n",
      " 12  has_gtin                       64 non-null     object        \n",
      " 13  average_stock                  66 non-null     object        \n",
      " 14  business_type                  832 non-null    object        \n",
      " 15  declared_product_catalog_size  69 non-null     float32       \n",
      " 16  declared_monthly_revenue       842 non-null    float32       \n",
      "dtypes: datetime64[ns](2), float32(2), object(13)\n",
      "memory usage: 1.0+ MB\n"
     ]
    }
   ],
   "source": [
    "marketing = pd.merge(mql, closed_deals, on='mql_id', how='outer')\n",
    "marketing.info()"
   ]
  },
  {
   "cell_type": "markdown",
   "metadata": {},
   "source": [
    "#### Cleaning marketing dataset\n",
    "\n",
    "assumption: categories in each column are correct and don't need sanity check. <br/>\n",
    "This is assumed because there is not enough information for sanity check. <br/>\n",
    "e.g. whether 'other_publicities' and 'other' categories in origin column are well-defined and are seperate categories"
   ]
  },
  {
   "cell_type": "code",
   "execution_count": 68,
   "metadata": {},
   "outputs": [
    {
     "data": {
      "text/plain": [
       "organic_search       2296\n",
       "paid_search          1586\n",
       "social               1350\n",
       "unknown              1099\n",
       "direct_traffic        499\n",
       "email                 493\n",
       "referral              284\n",
       "other                 150\n",
       "display               118\n",
       "other_publicities      65\n",
       "Name: origin, dtype: int64"
      ]
     },
     "execution_count": 68,
     "metadata": {},
     "output_type": "execute_result"
    }
   ],
   "source": [
    "marketing.origin.value_counts()"
   ]
  },
  {
   "cell_type": "code",
   "execution_count": 69,
   "metadata": {},
   "outputs": [
    {
     "data": {
      "text/plain": [
       "has_company                      99.2125\n",
       "has_gtin                         99.2000\n",
       "average_stock                    99.1750\n",
       "declared_product_catalog_size    99.1375\n",
       "lead_behaviour_profile           91.6875\n",
       "business_type                    89.6000\n",
       "lead_type                        89.5500\n",
       "business_segment                 89.4875\n",
       "declared_monthly_revenue         89.4750\n",
       "won_date                         89.4750\n",
       "sr_id                            89.4750\n",
       "sdr_id                           89.4750\n",
       "seller_id                        89.4750\n",
       "origin                            0.7500\n",
       "dtype: float64"
      ]
     },
     "execution_count": 69,
     "metadata": {},
     "output_type": "execute_result"
    }
   ],
   "source": [
    "# checking null %\n",
    "check_null_percent(marketing)"
   ]
  },
  {
   "cell_type": "code",
   "execution_count": 70,
   "metadata": {},
   "outputs": [
    {
     "data": {
      "text/plain": [
       "declared_product_catalog_size    99.1375\n",
       "declared_monthly_revenue         89.4750\n",
       "won_date                         89.4750\n",
       "dtype: float64"
      ]
     },
     "execution_count": 70,
     "metadata": {},
     "output_type": "execute_result"
    }
   ],
   "source": [
    "# filling missing values\n",
    "\n",
    "marketing.origin.fillna('unknown', inplace=True)  # we don't use \"unknown\" to not mix the filled na with those filled by reps\n",
    "marketing.seller_id.fillna('empty', inplace=True)\n",
    "marketing.sdr_id.fillna('empty', inplace=True)\n",
    "marketing.sr_id.fillna('empty', inplace=True)\n",
    "marketing.business_segment.fillna('unknown', inplace=True)\n",
    "marketing.lead_type.fillna('unknown', inplace=True)\n",
    "marketing.lead_behaviour_profile.fillna('unknown', inplace=True)\n",
    "marketing.has_company.fillna('unknown', inplace=True)\n",
    "marketing.has_gtin.fillna('unknown', inplace=True)  # True, False\n",
    "marketing.average_stock.fillna('unknown', inplace=True)\n",
    "marketing.business_type.fillna('unknown', inplace=True)\n",
    "\n",
    "marketing.reindex(columns= ['won_date'], fill_value=0)\n",
    "\n",
    "# checking null %\n",
    "check_null_percent(marketing)"
   ]
  }
 ],
 "metadata": {
  "interpreter": {
   "hash": "298ad7f16a7683c2e62d501166e9a606f244bae05885a901e734ffd1dc3f265a"
  },
  "kernelspec": {
   "display_name": "Python 3.9.1 64-bit ('.venv': venv)",
   "language": "python",
   "name": "python3"
  },
  "language_info": {
   "codemirror_mode": {
    "name": "ipython",
    "version": 3
   },
   "file_extension": ".py",
   "mimetype": "text/x-python",
   "name": "python",
   "nbconvert_exporter": "python",
   "pygments_lexer": "ipython3",
   "version": "3.9.1"
  },
  "orig_nbformat": 4
 },
 "nbformat": 4,
 "nbformat_minor": 2
}
